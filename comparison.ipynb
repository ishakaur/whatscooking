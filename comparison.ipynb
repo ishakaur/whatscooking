{
 "cells": [
  {
   "cell_type": "code",
   "execution_count": 1,
   "metadata": {
    "collapsed": false
   },
   "outputs": [],
   "source": [
    "import pandas as pd\n",
    "import numpy as np\n",
    "import matplotlib.pyplot as plt\n",
    "%matplotlib inline\n",
    "from IPython.display import display"
   ]
  },
  {
   "cell_type": "code",
   "execution_count": 2,
   "metadata": {
    "collapsed": true
   },
   "outputs": [],
   "source": [
    "Training_data = pd.read_json(\"../input/whatscooking/train.json\")\n",
    "Training_data['str_ingredients'] = Training_data.ingredients.apply(lambda x: ','.join(y for y in x))"
   ]
  },
  {
   "cell_type": "code",
   "execution_count": 3,
   "metadata": {
    "collapsed": true
   },
   "outputs": [],
   "source": [
    "def describe_dataset(dataset, dataset_name=\"given\"):\n",
    "    display(dataset.describe())\n",
    "    cuisines = dataset.groupby(\"cuisine\").count().sort(\"id\", ascending=False)\n",
    "    display(cuisines.head())\n",
    "    i = range(cuisines.count().ingredients)\n",
    "    plt.bar(i, cuisines.ingredients, label='Number of recipes in {} dataset'.format(dataset_name))\n",
    "    plt.ylabel('total number of recipes')\n",
    "    plt.title('Number of recipes by type of cuisine')\n",
    "    plt.xticks(i, cuisines.index.values, rotation='vertical')\n",
    "    plt.legend(loc='upper right')\n",
    "    plt.show()"
   ]
  },
  {
   "cell_type": "code",
   "execution_count": 4,
   "metadata": {
    "collapsed": false
   },
   "outputs": [
    {
     "data": {
      "text/html": [
       "<div style=\"max-height:1000px;max-width:1500px;overflow:auto;\">\n",
       "<table border=\"1\" class=\"dataframe\">\n",
       "  <thead>\n",
       "    <tr style=\"text-align: right;\">\n",
       "      <th></th>\n",
       "      <th>id</th>\n",
       "    </tr>\n",
       "  </thead>\n",
       "  <tbody>\n",
       "    <tr>\n",
       "      <th>count</th>\n",
       "      <td> 39774.000000</td>\n",
       "    </tr>\n",
       "    <tr>\n",
       "      <th>mean</th>\n",
       "      <td> 24849.536959</td>\n",
       "    </tr>\n",
       "    <tr>\n",
       "      <th>std</th>\n",
       "      <td> 14360.035505</td>\n",
       "    </tr>\n",
       "    <tr>\n",
       "      <th>min</th>\n",
       "      <td>     0.000000</td>\n",
       "    </tr>\n",
       "    <tr>\n",
       "      <th>25%</th>\n",
       "      <td> 12398.250000</td>\n",
       "    </tr>\n",
       "    <tr>\n",
       "      <th>50%</th>\n",
       "      <td> 24887.000000</td>\n",
       "    </tr>\n",
       "    <tr>\n",
       "      <th>75%</th>\n",
       "      <td> 37328.500000</td>\n",
       "    </tr>\n",
       "    <tr>\n",
       "      <th>max</th>\n",
       "      <td> 49717.000000</td>\n",
       "    </tr>\n",
       "  </tbody>\n",
       "</table>\n",
       "</div>"
      ],
      "text/plain": [
       "                 id\n",
       "count  39774.000000\n",
       "mean   24849.536959\n",
       "std    14360.035505\n",
       "min        0.000000\n",
       "25%    12398.250000\n",
       "50%    24887.000000\n",
       "75%    37328.500000\n",
       "max    49717.000000"
      ]
     },
     "metadata": {},
     "output_type": "display_data"
    },
    {
     "data": {
      "text/html": [
       "<div style=\"max-height:1000px;max-width:1500px;overflow:auto;\">\n",
       "<table border=\"1\" class=\"dataframe\">\n",
       "  <thead>\n",
       "    <tr style=\"text-align: right;\">\n",
       "      <th></th>\n",
       "      <th>id</th>\n",
       "      <th>ingredients</th>\n",
       "      <th>str_ingredients</th>\n",
       "    </tr>\n",
       "    <tr>\n",
       "      <th>cuisine</th>\n",
       "      <th></th>\n",
       "      <th></th>\n",
       "      <th></th>\n",
       "    </tr>\n",
       "  </thead>\n",
       "  <tbody>\n",
       "    <tr>\n",
       "      <th>italian</th>\n",
       "      <td> 7838</td>\n",
       "      <td> 7838</td>\n",
       "      <td> 7838</td>\n",
       "    </tr>\n",
       "    <tr>\n",
       "      <th>mexican</th>\n",
       "      <td> 6438</td>\n",
       "      <td> 6438</td>\n",
       "      <td> 6438</td>\n",
       "    </tr>\n",
       "    <tr>\n",
       "      <th>southern_us</th>\n",
       "      <td> 4320</td>\n",
       "      <td> 4320</td>\n",
       "      <td> 4320</td>\n",
       "    </tr>\n",
       "    <tr>\n",
       "      <th>indian</th>\n",
       "      <td> 3003</td>\n",
       "      <td> 3003</td>\n",
       "      <td> 3003</td>\n",
       "    </tr>\n",
       "    <tr>\n",
       "      <th>chinese</th>\n",
       "      <td> 2673</td>\n",
       "      <td> 2673</td>\n",
       "      <td> 2673</td>\n",
       "    </tr>\n",
       "  </tbody>\n",
       "</table>\n",
       "</div>"
      ],
      "text/plain": [
       "               id  ingredients  str_ingredients\n",
       "cuisine                                        \n",
       "italian      7838         7838             7838\n",
       "mexican      6438         6438             6438\n",
       "southern_us  4320         4320             4320\n",
       "indian       3003         3003             3003\n",
       "chinese      2673         2673             2673"
      ]
     },
     "metadata": {},
     "output_type": "display_data"
    },
    {
     "data": {
      "image/png": "[encoded data removed]",
      "text/plain": [
       "<matplotlib.figure.Figure at 0x106e79910>"
      ]
     },
     "metadata": {},
     "output_type": "display_data"
    }
   ],
   "source": [
    "describe_dataset(Training_data, \"Training\");"
   ]
  },
  {
   "cell_type": "code",
   "execution_count": 5,
   "metadata": {
    "collapsed": false
   },
   "outputs": [],
   "source": [
    "from sklearn.cross_validation import train_test_split\n",
    "train, test = train_test_split(Training_data, test_size = 0.2)"
   ]
  },
  {
   "cell_type": "code",
   "execution_count": 6,
   "metadata": {
    "collapsed": false
   },
   "outputs": [
    {
     "data": {
      "text/html": [
       "<div style=\"max-height:1000px;max-width:1500px;overflow:auto;\">\n",
       "<table border=\"1\" class=\"dataframe\">\n",
       "  <thead>\n",
       "    <tr style=\"text-align: right;\">\n",
       "      <th></th>\n",
       "      <th>id</th>\n",
       "    </tr>\n",
       "  </thead>\n",
       "  <tbody>\n",
       "    <tr>\n",
       "      <th>count</th>\n",
       "      <td> 31819.000000</td>\n",
       "    </tr>\n",
       "    <tr>\n",
       "      <th>mean</th>\n",
       "      <td> 24827.781577</td>\n",
       "    </tr>\n",
       "    <tr>\n",
       "      <th>std</th>\n",
       "      <td> 14329.716832</td>\n",
       "    </tr>\n",
       "    <tr>\n",
       "      <th>min</th>\n",
       "      <td>     0.000000</td>\n",
       "    </tr>\n",
       "    <tr>\n",
       "      <th>25%</th>\n",
       "      <td> 12455.500000</td>\n",
       "    </tr>\n",
       "    <tr>\n",
       "      <th>50%</th>\n",
       "      <td> 24829.000000</td>\n",
       "    </tr>\n",
       "    <tr>\n",
       "      <th>75%</th>\n",
       "      <td> 37262.000000</td>\n",
       "    </tr>\n",
       "    <tr>\n",
       "      <th>max</th>\n",
       "      <td> 49717.000000</td>\n",
       "    </tr>\n",
       "  </tbody>\n",
       "</table>\n",
       "</div>"
      ],
      "text/plain": [
       "                 id\n",
       "count  31819.000000\n",
       "mean   24827.781577\n",
       "std    14329.716832\n",
       "min        0.000000\n",
       "25%    12455.500000\n",
       "50%    24829.000000\n",
       "75%    37262.000000\n",
       "max    49717.000000"
      ]
     },
     "metadata": {},
     "output_type": "display_data"
    },
    {
     "data": {
      "text/html": [
       "<div style=\"max-height:1000px;max-width:1500px;overflow:auto;\">\n",
       "<table border=\"1\" class=\"dataframe\">\n",
       "  <thead>\n",
       "    <tr style=\"text-align: right;\">\n",
       "      <th></th>\n",
       "      <th>id</th>\n",
       "      <th>ingredients</th>\n",
       "      <th>str_ingredients</th>\n",
       "    </tr>\n",
       "    <tr>\n",
       "      <th>cuisine</th>\n",
       "      <th></th>\n",
       "      <th></th>\n",
       "      <th></th>\n",
       "    </tr>\n",
       "  </thead>\n",
       "  <tbody>\n",
       "    <tr>\n",
       "      <th>italian</th>\n",
       "      <td> 6281</td>\n",
       "      <td> 6281</td>\n",
       "      <td> 6281</td>\n",
       "    </tr>\n",
       "    <tr>\n",
       "      <th>mexican</th>\n",
       "      <td> 5114</td>\n",
       "      <td> 5114</td>\n",
       "      <td> 5114</td>\n",
       "    </tr>\n",
       "    <tr>\n",
       "      <th>southern_us</th>\n",
       "      <td> 3457</td>\n",
       "      <td> 3457</td>\n",
       "      <td> 3457</td>\n",
       "    </tr>\n",
       "    <tr>\n",
       "      <th>indian</th>\n",
       "      <td> 2398</td>\n",
       "      <td> 2398</td>\n",
       "      <td> 2398</td>\n",
       "    </tr>\n",
       "    <tr>\n",
       "      <th>chinese</th>\n",
       "      <td> 2169</td>\n",
       "      <td> 2169</td>\n",
       "      <td> 2169</td>\n",
       "    </tr>\n",
       "  </tbody>\n",
       "</table>\n",
       "</div>"
      ],
      "text/plain": [
       "               id  ingredients  str_ingredients\n",
       "cuisine                                        \n",
       "italian      6281         6281             6281\n",
       "mexican      5114         5114             5114\n",
       "southern_us  3457         3457             3457\n",
       "indian       2398         2398             2398\n",
       "chinese      2169         2169             2169"
      ]
     },
     "metadata": {},
     "output_type": "display_data"
    },
    {
     "data": {
      "image/png": "[encoded data removed]",
      "text/plain": [
       "<matplotlib.figure.Figure at 0x110f1cc90>"
      ]
     },
     "metadata": {},
     "output_type": "display_data"
    },
    {
     "data": {
      "text/html": [
       "<div style=\"max-height:1000px;max-width:1500px;overflow:auto;\">\n",
       "<table border=\"1\" class=\"dataframe\">\n",
       "  <thead>\n",
       "    <tr style=\"text-align: right;\">\n",
       "      <th></th>\n",
       "      <th>id</th>\n",
       "    </tr>\n",
       "  </thead>\n",
       "  <tbody>\n",
       "    <tr>\n",
       "      <th>count</th>\n",
       "      <td>  7955.000000</td>\n",
       "    </tr>\n",
       "    <tr>\n",
       "      <th>mean</th>\n",
       "      <td> 24936.555751</td>\n",
       "    </tr>\n",
       "    <tr>\n",
       "      <th>std</th>\n",
       "      <td> 14481.251263</td>\n",
       "    </tr>\n",
       "    <tr>\n",
       "      <th>min</th>\n",
       "      <td>     6.000000</td>\n",
       "    </tr>\n",
       "    <tr>\n",
       "      <th>25%</th>\n",
       "      <td> 12126.000000</td>\n",
       "    </tr>\n",
       "    <tr>\n",
       "      <th>50%</th>\n",
       "      <td> 25163.000000</td>\n",
       "    </tr>\n",
       "    <tr>\n",
       "      <th>75%</th>\n",
       "      <td> 37508.500000</td>\n",
       "    </tr>\n",
       "    <tr>\n",
       "      <th>max</th>\n",
       "      <td> 49707.000000</td>\n",
       "    </tr>\n",
       "  </tbody>\n",
       "</table>\n",
       "</div>"
      ],
      "text/plain": [
       "                 id\n",
       "count   7955.000000\n",
       "mean   24936.555751\n",
       "std    14481.251263\n",
       "min        6.000000\n",
       "25%    12126.000000\n",
       "50%    25163.000000\n",
       "75%    37508.500000\n",
       "max    49707.000000"
      ]
     },
     "metadata": {},
     "output_type": "display_data"
    },
    {
     "data": {
      "text/html": [
       "<div style=\"max-height:1000px;max-width:1500px;overflow:auto;\">\n",
       "<table border=\"1\" class=\"dataframe\">\n",
       "  <thead>\n",
       "    <tr style=\"text-align: right;\">\n",
       "      <th></th>\n",
       "      <th>id</th>\n",
       "      <th>ingredients</th>\n",
       "      <th>str_ingredients</th>\n",
       "    </tr>\n",
       "    <tr>\n",
       "      <th>cuisine</th>\n",
       "      <th></th>\n",
       "      <th></th>\n",
       "      <th></th>\n",
       "    </tr>\n",
       "  </thead>\n",
       "  <tbody>\n",
       "    <tr>\n",
       "      <th>italian</th>\n",
       "      <td> 1557</td>\n",
       "      <td> 1557</td>\n",
       "      <td> 1557</td>\n",
       "    </tr>\n",
       "    <tr>\n",
       "      <th>mexican</th>\n",
       "      <td> 1324</td>\n",
       "      <td> 1324</td>\n",
       "      <td> 1324</td>\n",
       "    </tr>\n",
       "    <tr>\n",
       "      <th>southern_us</th>\n",
       "      <td>  863</td>\n",
       "      <td>  863</td>\n",
       "      <td>  863</td>\n",
       "    </tr>\n",
       "    <tr>\n",
       "      <th>indian</th>\n",
       "      <td>  605</td>\n",
       "      <td>  605</td>\n",
       "      <td>  605</td>\n",
       "    </tr>\n",
       "    <tr>\n",
       "      <th>french</th>\n",
       "      <td>  520</td>\n",
       "      <td>  520</td>\n",
       "      <td>  520</td>\n",
       "    </tr>\n",
       "  </tbody>\n",
       "</table>\n",
       "</div>"
      ],
      "text/plain": [
       "               id  ingredients  str_ingredients\n",
       "cuisine                                        \n",
       "italian      1557         1557             1557\n",
       "mexican      1324         1324             1324\n",
       "southern_us   863          863              863\n",
       "indian        605          605              605\n",
       "french        520          520              520"
      ]
     },
     "metadata": {},
     "output_type": "display_data"
    },
    {
     "data": {
      "image/png": "[encoded data removed]",
      "text/plain": [
       "<matplotlib.figure.Figure at 0x111285710>"
      ]
     },
     "metadata": {},
     "output_type": "display_data"
    }
   ],
   "source": [
    "describe_dataset(train, \"train\");\n",
    "describe_dataset(test, \"test\");"
   ]
  },
  {
   "cell_type": "code",
   "execution_count": 7,
   "metadata": {
    "collapsed": false
   },
   "outputs": [
    {
     "data": {
      "text/plain": [
       "num_recipes    6714\n",
       "dtype: int64"
      ]
     },
     "metadata": {},
     "output_type": "display_data"
    },
    {
     "data": {
      "text/html": [
       "<div style=\"max-height:1000px;max-width:1500px;overflow:auto;\">\n",
       "<table border=\"1\" class=\"dataframe\">\n",
       "  <thead>\n",
       "    <tr style=\"text-align: right;\">\n",
       "      <th></th>\n",
       "      <th>num_recipes</th>\n",
       "    </tr>\n",
       "  </thead>\n",
       "  <tbody>\n",
       "    <tr>\n",
       "      <th>low-sodium fat-free chicken broth</th>\n",
       "      <td> 22</td>\n",
       "    </tr>\n",
       "    <tr>\n",
       "      <th>sweetened coconut</th>\n",
       "      <td>  3</td>\n",
       "    </tr>\n",
       "    <tr>\n",
       "      <th>baking chocolate</th>\n",
       "      <td>  3</td>\n",
       "    </tr>\n",
       "    <tr>\n",
       "      <th>egg roll wrappers</th>\n",
       "      <td> 57</td>\n",
       "    </tr>\n",
       "    <tr>\n",
       "      <th>bottled low sodium salsa</th>\n",
       "      <td>  1</td>\n",
       "    </tr>\n",
       "  </tbody>\n",
       "</table>\n",
       "</div>"
      ],
      "text/plain": [
       "                                   num_recipes\n",
       "low-sodium fat-free chicken broth           22\n",
       "sweetened coconut                            3\n",
       "baking chocolate                             3\n",
       "egg roll wrappers                           57\n",
       "bottled low sodium salsa                     1"
      ]
     },
     "execution_count": 7,
     "metadata": {},
     "output_type": "execute_result"
    }
   ],
   "source": [
    "import itertools\n",
    "grouped_ingredients = itertools.groupby(sorted(list(itertools.chain.from_iterable(Training_data.ingredients))))\n",
    "ingredient_counts = {key:len(list(group)) for key, group in grouped_ingredients}\n",
    "global_pantry = pd.DataFrame.from_dict(ingredient_counts, orient='index')\n",
    "global_pantry.columns = ['num_recipes']\n",
    "display(global_pantry.count())\n",
    "global_pantry.head()"
   ]
  },
  {
   "cell_type": "code",
   "execution_count": 8,
   "metadata": {
    "collapsed": false
   },
   "outputs": [],
   "source": [
    "from sklearn.feature_extraction.text import TfidfVectorizer\n",
    "vectorizer = TfidfVectorizer(sublinear_tf=True, vocabulary=global_pantry.index.values)\n",
    "X_train = vectorizer.fit_transform(train.str_ingredients)\n",
    "feature_names = vectorizer.get_feature_names()\n",
    "feature_names = np.asarray(feature_names);"
   ]
  },
  {
   "cell_type": "code",
   "execution_count": 9,
   "metadata": {
    "collapsed": true
   },
   "outputs": [],
   "source": [
    "X_test = vectorizer.transform(test.str_ingredients)\n",
    "y_train = train.cuisine\n",
    "y_test = test.cuisine"
   ]
  },
  {
   "cell_type": "code",
   "execution_count": 10,
   "metadata": {
    "collapsed": false
   },
   "outputs": [],
   "source": [
    "'''\n",
    "# Should use a chi2 test to see which features are the most useful predictors?\n",
    "from sklearn.feature_selection import SelectKBest, chi2\n",
    "def chi2_select_k_best()\n",
    "    print(\"Extracting %d best features by a chi-squared test\" %\n",
    "          opts.select_chi2)\n",
    "    t0 = time()\n",
    "    ch2 = SelectKBest(chi2, k=opts.select_chi2)\n",
    "    X_train = ch2.fit_transform(X_train, y_train)\n",
    "    X_test = ch2.transform(X_test)\n",
    "    if feature_names:\n",
    "        # keep selected feature names\n",
    "        feature_names = [feature_names[i] for i\n",
    "                         in ch2.get_support(indices=True)]\n",
    "    print(\"done in %fs\" % (time() - t0))\n",
    "    print()\n",
    "''';"
   ]
  },
  {
   "cell_type": "code",
   "execution_count": 11,
   "metadata": {
    "collapsed": false
   },
   "outputs": [],
   "source": [
    "from sklearn.utils.extmath import density\n",
    "from sklearn import metrics\n",
    "from time import time\n",
    "\n",
    "def benchmark(name, classifier, verbose=False):\n",
    "    print \"Training: {}\".format(classifier)\n",
    "    \n",
    "    t0 = time()\n",
    "    classifier.fit(X_train, y_train)\n",
    "    train_time = time() - t0\n",
    "    \n",
    "    t0 = time()\n",
    "    predictions = classifier.predict(X_test)\n",
    "    test_time = time() - t0\n",
    "    \n",
    "    score = metrics.accuracy_score(y_test, predictions)\n",
    "    print \"Accuracy: {}\".format(score)\n",
    "    \n",
    "    if verbose and hasattr(classifier, 'coef_'):\n",
    "        print \"Dimensionality: {}\".format(classifier.coef_.shape[1])\n",
    "        print \"Density: {}\".format(density(classifier.coef_))\n",
    "\n",
    "        print \"top10 features for each category:\"\n",
    "        for i, category in enumerate(classifier.classes_):\n",
    "            top10 = np.argsort(classifier.coef_[i])[-10:]\n",
    "            print(\"%s: %s\" % (category, \" \".join(feature_names[top10])))\n",
    "\n",
    "        print \"classification report:\"\n",
    "        print metrics.classification_report(y_test, predictions)\n",
    "\n",
    "        print \"confusion matrix:\"\n",
    "        print metrics.confusion_matrix(y_test, predictions)\n",
    "    \n",
    "    return name, score, train_time, test_time"
   ]
  },
  {
   "cell_type": "code",
   "execution_count": 12,
   "metadata": {
    "collapsed": false
   },
   "outputs": [
    {
     "name": "stdout",
     "output_type": "stream",
     "text": [
      "Training: RidgeClassifier(alpha=1.0, class_weight=None, copy_X=True, fit_intercept=True,\n",
      "        max_iter=None, normalize=False, solver='lsqr', tol=0.01)\n",
      "Accuracy: 0.686486486486\n",
      "Training: Perceptron(alpha=0.0001, class_weight=None, eta0=1.0, fit_intercept=True,\n",
      "      n_iter=50, n_jobs=1, penalty=None, random_state=0, shuffle=True,\n",
      "      verbose=0, warm_start=False)\n",
      "Accuracy: 0.657322438718\n",
      "Training: PassiveAggressiveClassifier(C=1.0, fit_intercept=True, loss='hinge',\n",
      "              n_iter=50, n_jobs=1, random_state=None, shuffle=True,\n",
      "              verbose=0, warm_start=False)\n",
      "Accuracy: 0.695285983658\n",
      "Training: KNeighborsClassifier(algorithm='auto', leaf_size=30, metric='minkowski',\n",
      "           metric_params=None, n_neighbors=10, p=2, weights='uniform')\n",
      "Accuracy: 0.717536140792\n",
      "Training: RandomForestClassifier(bootstrap=True, class_weight=None, criterion='gini',\n",
      "            max_depth=None, max_features='auto', max_leaf_nodes=None,\n",
      "            min_samples_leaf=1, min_samples_split=2,\n",
      "            min_weight_fraction_leaf=0.0, n_estimators=100, n_jobs=1,\n",
      "            oob_score=False, random_state=None, verbose=0,\n",
      "            warm_start=False)\n",
      "Accuracy: 0.729855436832\n",
      "Training: RandomForestClassifier(bootstrap=True, class_weight=None, criterion='gini',\n",
      "            max_depth=None, max_features='auto', max_leaf_nodes=None,\n",
      "            min_samples_leaf=1, min_samples_split=2,\n",
      "            min_weight_fraction_leaf=0.0, n_estimators=500, n_jobs=1,\n",
      "            oob_score=False, random_state=None, verbose=0,\n",
      "            warm_start=False)\n",
      "Accuracy: 0.735135135135\n",
      "Training: LinearSVC(C=1.0, class_weight=None, dual=False, fit_intercept=True,\n",
      "     intercept_scaling=1, loss='squared_hinge', max_iter=1000,\n",
      "     multi_class='ovr', penalty='l2', random_state=None, tol=0.001,\n",
      "     verbose=0)\n",
      "Accuracy: 0.734632306725\n",
      "Training: LinearSVC(C=1.0, class_weight=None, dual=False, fit_intercept=True,\n",
      "     intercept_scaling=1, loss='squared_hinge', max_iter=1000,\n",
      "     multi_class='ovr', penalty='l1', random_state=None, tol=0.001,\n",
      "     verbose=0)\n",
      "Accuracy: 0.732495285984\n",
      "Training: SVC(C=1.0, cache_size=200, class_weight=None, coef0=0.0, degree=3, gamma=0.0,\n",
      "  kernel='rbf', max_iter=-1, probability=False, random_state=None,\n",
      "  shrinking=True, tol=0.001, verbose=False)\n",
      "Accuracy: 0.195725958517\n",
      "Training: SVC(C=1.0, cache_size=200, class_weight=None, coef0=0.0, degree=3, gamma=0.0,\n",
      "  kernel='linear', max_iter=-1, probability=False, random_state=None,\n",
      "  shrinking=True, tol=0.001, verbose=False)\n",
      "Accuracy: 0.738403519799\n",
      "Training: SVC(C=1.0, cache_size=200, class_weight=None, coef0=0.0, degree=3, gamma=0.0,\n",
      "  kernel='sigmoid', max_iter=-1, probability=False, random_state=None,\n",
      "  shrinking=True, tol=0.001, verbose=False)\n",
      "Accuracy: 0.195725958517\n",
      "Training: SVC(C=1.0, cache_size=200, class_weight=None, coef0=0.0, degree=3, gamma=0.0,\n",
      "  kernel='poly', max_iter=-1, probability=False, random_state=None,\n",
      "  shrinking=True, tol=0.001, verbose=False)\n",
      "Accuracy: 0.195725958517\n",
      "Training: SGDClassifier(alpha=0.0001, average=False, class_weight=None, epsilon=0.1,\n",
      "       eta0=0.0, fit_intercept=True, l1_ratio=0.15,\n",
      "       learning_rate='optimal', loss='hinge', n_iter=50, n_jobs=1,\n",
      "       penalty='l2', power_t=0.5, random_state=None, shuffle=True,\n",
      "       verbose=0, warm_start=False)\n",
      "Accuracy: 0.710370835952\n",
      "Training: SGDClassifier(alpha=0.0001, average=False, class_weight=None, epsilon=0.1,\n",
      "       eta0=0.0, fit_intercept=True, l1_ratio=0.15,\n",
      "       learning_rate='optimal', loss='hinge', n_iter=50, n_jobs=1,\n",
      "       penalty='l1', power_t=0.5, random_state=None, shuffle=True,\n",
      "       verbose=0, warm_start=False)\n",
      "Accuracy: 0.677184160905\n",
      "Training: SGDClassifier(alpha=0.0001, average=False, class_weight=None, epsilon=0.1,\n",
      "       eta0=0.0, fit_intercept=True, l1_ratio=0.15,\n",
      "       learning_rate='optimal', loss='hinge', n_iter=50, n_jobs=1,\n",
      "       penalty='elasticnet', power_t=0.5, random_state=None, shuffle=True,\n",
      "       verbose=0, warm_start=False)\n",
      "Accuracy: 0.702325581395\n",
      "Training: NearestCentroid(metric='euclidean', shrink_threshold=None)\n",
      "Accuracy: 0.577624135764\n",
      "Training: MultinomialNB(alpha=0.01, class_prior=None, fit_prior=True)\n",
      "Accuracy: 0.690131992458\n",
      "Training: BernoulliNB(alpha=0.01, binarize=0.0, class_prior=None, fit_prior=True)\n",
      "Accuracy: 0.687617850409\n",
      "Training: Pipeline(steps=[('feature_selection', LinearSVC(C=1.0, class_weight=None, dual=False, fit_intercept=True,\n",
      "     intercept_scaling=1, loss='squared_hinge', max_iter=1000,\n",
      "     multi_class='ovr', penalty='l2', random_state=None, tol=0.001,\n",
      "     verbose=0)), ('classification', SVC(C=1.0, cache_size=200, class_weight=None, coef0=0.0, degree=3, gamma=0.0,\n",
      "  kernel='rbf', max_iter=-1, probability=False, random_state=None,\n",
      "  shrinking=True, tol=0.001, verbose=False))])\n",
      "Accuracy: 0.291514770585\n",
      "Training: Pipeline(steps=[('feature_selection', LinearSVC(C=1.0, class_weight=None, dual=False, fit_intercept=True,\n",
      "     intercept_scaling=1, loss='squared_hinge', max_iter=1000,\n",
      "     multi_class='ovr', penalty='l2', random_state=None, tol=0.001,\n",
      "     verbose=0)), ('classification', LinearSVC(C=1.0, class_weight=None, dual=True, fit_intercept=True,\n",
      "     intercept_scaling=1, loss='squared_hinge', max_iter=1000,\n",
      "     multi_class='ovr', penalty='l2', random_state=None, tol=0.0001,\n",
      "     verbose=0))])\n",
      "Accuracy: 0.735009428033\n",
      "Training: Pipeline(steps=[('feature_selection', LinearSVC(C=1.0, class_weight=None, dual=False, fit_intercept=True,\n",
      "     intercept_scaling=1, loss='squared_hinge', max_iter=1000,\n",
      "     multi_class='ovr', penalty='l1', random_state=None, tol=0.001,\n",
      "     verbose=0)), ('classification', LinearSVC(C=1.0, class_weight=None, dual=True, fit_intercept=True,\n",
      "     intercept_scaling=1, loss='squared_hinge', max_iter=1000,\n",
      "     multi_class='ovr', penalty='l2', random_state=None, tol=0.0001,\n",
      "     verbose=0))])\n",
      "Accuracy: 0.73488372093\n"
     ]
    }
   ],
   "source": [
    "from sklearn.linear_model import RidgeClassifier\n",
    "from sklearn.pipeline import Pipeline\n",
    "from sklearn.svm import LinearSVC, SVC\n",
    "from sklearn.linear_model import SGDClassifier\n",
    "from sklearn.linear_model import Perceptron\n",
    "from sklearn.linear_model import PassiveAggressiveClassifier\n",
    "from sklearn.naive_bayes import BernoulliNB, MultinomialNB\n",
    "from sklearn.neighbors import KNeighborsClassifier\n",
    "from sklearn.neighbors import NearestCentroid\n",
    "from sklearn.ensemble import RandomForestClassifier\n",
    "classifiers = [\n",
    "    (\"RidgeClassifier\", RidgeClassifier(tol=1e-2, solver=\"lsqr\")),\n",
    "    (\"Perceptron\", Perceptron(n_iter=50)),\n",
    "    (\"PassiveAggressiveClassifier\", PassiveAggressiveClassifier(n_iter=50)),\n",
    "    (\"KNeighborsClassifier\", KNeighborsClassifier(n_neighbors=10)),\n",
    "    (\"RandomForestClassifier_100\", RandomForestClassifier(n_estimators=100)),\n",
    "    (\"RandomForestClassifier_500\", RandomForestClassifier(n_estimators=500)),\n",
    "    (\"LinearSVC_L2\", LinearSVC(loss='squared_hinge', penalty='l2', dual=False, tol=1e-3)),\n",
    "    (\"LinearSVC_L1\", LinearSVC(loss='squared_hinge', penalty='l1', dual=False, tol=1e-3)),\n",
    "    (\"SVC_rbf\", SVC(kernel='rbf')),\n",
    "    (\"SVC_linear\", SVC(kernel='linear')),\n",
    "    (\"SVC_sigmoid\", SVC(kernel='sigmoid')),\n",
    "    (\"SVC_poly\", SVC(kernel='poly')),\n",
    "    (\"SGDClassifier_L2\", SGDClassifier(alpha=.0001, n_iter=50, penalty='l2')),\n",
    "    (\"SGDClassifier_L1\", SGDClassifier(alpha=.0001, n_iter=50, penalty='l1')),\n",
    "    (\"SGDClassifier_elasticnet\", SGDClassifier(alpha=.0001, n_iter=50, penalty=\"elasticnet\")),\n",
    "    (\"NearestCentroid\", NearestCentroid()),\n",
    "    (\"MultinomialNB\", MultinomialNB(alpha=.01)),\n",
    "    (\"BernoulliNB\", BernoulliNB(alpha=.01)),\n",
    "    (\"Pipeline_LinearSVC_L2_SVC\", Pipeline([\n",
    "        ('feature_selection', LinearSVC(penalty=\"l2\", dual=False, tol=1e-3)),\n",
    "        ('classification', SVC())\n",
    "    ])),\n",
    "    (\"Pipeline_LinearSVC_L2_Linear\", Pipeline([\n",
    "        ('feature_selection', LinearSVC(penalty=\"l2\", dual=False, tol=1e-3)),\n",
    "        ('classification', LinearSVC())\n",
    "    ])),\n",
    "    (\"Pipeline_LinearSVC_L1_Linear\", Pipeline([\n",
    "        ('feature_selection', LinearSVC(penalty=\"l1\", dual=False, tol=1e-3)),\n",
    "        ('classification', LinearSVC())\n",
    "    ]))\n",
    "]\n",
    "results = []\n",
    "for name, classifier in classifiers:\n",
    "    results.append(benchmark(name, classifier))"
   ]
  },
  {
   "cell_type": "code",
   "execution_count": 13,
   "metadata": {
    "collapsed": false
   },
   "outputs": [
    {
     "data": {
      "text/plain": [
       "[('RidgeClassifier',\n",
       "  0.68648648648648647,\n",
       "  1.3156020641326904,\n",
       "  0.005788087844848633),\n",
       " ('Perceptron', 0.6573224387177875, 4.871834993362427, 0.004698991775512695),\n",
       " ('PassiveAggressiveClassifier',\n",
       "  0.6952859836580767,\n",
       "  7.1696648597717285,\n",
       "  0.008927106857299805),\n",
       " ('KNeighborsClassifier',\n",
       "  0.71753614079195471,\n",
       "  0.05190896987915039,\n",
       "  47.0424370765686),\n",
       " ('RandomForestClassifier_100',\n",
       "  0.72985543683218101,\n",
       "  76.0979700088501,\n",
       "  0.7603540420532227),\n",
       " ('RandomForestClassifier_500',\n",
       "  0.73513513513513518,\n",
       "  415.14591002464294,\n",
       "  8.722279071807861),\n",
       " ('LinearSVC_L2', 0.73463230672532998, 4.13596510887146, 0.003709077835083008),\n",
       " ('LinearSVC_L1', 0.7324952859836581, 20.9842209815979, 0.00506901741027832),\n",
       " ('SVC_rbf', 0.1957259585166562, 254.21758913993835, 53.4651939868927),\n",
       " ('SVC_linear', 0.73840351979886865, 93.85554718971252, 23.52824902534485),\n",
       " ('SVC_sigmoid', 0.1957259585166562, 211.46736001968384, 34.1300048828125),\n",
       " ('SVC_poly', 0.1957259585166562, 221.42302703857422, 36.831438064575195),\n",
       " ('SGDClassifier_L2',\n",
       "  0.71037083595223127,\n",
       "  8.438558101654053,\n",
       "  0.012062788009643555),\n",
       " ('SGDClassifier_L1',\n",
       "  0.67718416090509115,\n",
       "  13.09161901473999,\n",
       "  0.004758119583129883),\n",
       " ('SGDClassifier_elasticnet',\n",
       "  0.70232558139534884,\n",
       "  14.19945502281189,\n",
       "  0.011749029159545898),\n",
       " ('NearestCentroid',\n",
       "  0.57762413576367067,\n",
       "  0.09495306015014648,\n",
       "  0.009939908981323242),\n",
       " ('MultinomialNB', 0.69013199245757384, 0.4820849895477295, 0.0068359375),\n",
       " ('BernoulliNB',\n",
       "  0.68761785040854806,\n",
       "  0.4609038829803467,\n",
       "  0.015421867370605469),\n",
       " ('Pipeline_LinearSVC_L2_SVC',\n",
       "  0.29151477058453801,\n",
       "  313.29625487327576,\n",
       "  51.25445795059204),\n",
       " ('Pipeline_LinearSVC_L2_Linear',\n",
       "  0.73500942803268388,\n",
       "  10.01744818687439,\n",
       "  0.017106056213378906),\n",
       " ('Pipeline_LinearSVC_L1_Linear',\n",
       "  0.73488372093023258,\n",
       "  27.73862099647522,\n",
       "  0.012054920196533203)]"
      ]
     },
     "execution_count": 13,
     "metadata": {},
     "output_type": "execute_result"
    }
   ],
   "source": [
    "results"
   ]
  },
  {
   "cell_type": "code",
   "execution_count": 14,
   "metadata": {
    "collapsed": false
   },
   "outputs": [
    {
     "data": {
      "text/plain": [
       "[('SVC_rbf', 0.1957259585166562, 254.21758913993835, 53.4651939868927),\n",
       " ('SVC_sigmoid', 0.1957259585166562, 211.46736001968384, 34.1300048828125),\n",
       " ('SVC_poly', 0.1957259585166562, 221.42302703857422, 36.831438064575195),\n",
       " ('Pipeline_LinearSVC_L2_SVC',\n",
       "  0.29151477058453801,\n",
       "  313.29625487327576,\n",
       "  51.25445795059204),\n",
       " ('NearestCentroid',\n",
       "  0.57762413576367067,\n",
       "  0.09495306015014648,\n",
       "  0.009939908981323242),\n",
       " ('Perceptron', 0.6573224387177875, 4.871834993362427, 0.004698991775512695),\n",
       " ('SGDClassifier_L1',\n",
       "  0.67718416090509115,\n",
       "  13.09161901473999,\n",
       "  0.004758119583129883),\n",
       " ('RidgeClassifier',\n",
       "  0.68648648648648647,\n",
       "  1.3156020641326904,\n",
       "  0.005788087844848633),\n",
       " ('BernoulliNB',\n",
       "  0.68761785040854806,\n",
       "  0.4609038829803467,\n",
       "  0.015421867370605469),\n",
       " ('MultinomialNB', 0.69013199245757384, 0.4820849895477295, 0.0068359375),\n",
       " ('PassiveAggressiveClassifier',\n",
       "  0.6952859836580767,\n",
       "  7.1696648597717285,\n",
       "  0.008927106857299805),\n",
       " ('SGDClassifier_elasticnet',\n",
       "  0.70232558139534884,\n",
       "  14.19945502281189,\n",
       "  0.011749029159545898),\n",
       " ('SGDClassifier_L2',\n",
       "  0.71037083595223127,\n",
       "  8.438558101654053,\n",
       "  0.012062788009643555),\n",
       " ('KNeighborsClassifier',\n",
       "  0.71753614079195471,\n",
       "  0.05190896987915039,\n",
       "  47.0424370765686),\n",
       " ('RandomForestClassifier_100',\n",
       "  0.72985543683218101,\n",
       "  76.0979700088501,\n",
       "  0.7603540420532227),\n",
       " ('LinearSVC_L1', 0.7324952859836581, 20.9842209815979, 0.00506901741027832),\n",
       " ('LinearSVC_L2', 0.73463230672532998, 4.13596510887146, 0.003709077835083008),\n",
       " ('Pipeline_LinearSVC_L1_Linear',\n",
       "  0.73488372093023258,\n",
       "  27.73862099647522,\n",
       "  0.012054920196533203),\n",
       " ('Pipeline_LinearSVC_L2_Linear',\n",
       "  0.73500942803268388,\n",
       "  10.01744818687439,\n",
       "  0.017106056213378906),\n",
       " ('RandomForestClassifier_500',\n",
       "  0.73513513513513518,\n",
       "  415.14591002464294,\n",
       "  8.722279071807861),\n",
       " ('SVC_linear', 0.73840351979886865, 93.85554718971252, 23.52824902534485)]"
      ]
     },
     "execution_count": 14,
     "metadata": {},
     "output_type": "execute_result"
    }
   ],
   "source": [
    "sorted_results = sorted(results, key=lambda x: x[1])\n",
    "sorted_results"
   ]
  },
  {
   "cell_type": "code",
   "execution_count": 15,
   "metadata": {
    "collapsed": false
   },
   "outputs": [
    {
     "data": {
      "text/plain": [
       "[['SVC_rbf',\n",
       "  'SVC_sigmoid',\n",
       "  'SVC_poly',\n",
       "  'Pipeline_LinearSVC_L2_SVC',\n",
       "  'NearestCentroid',\n",
       "  'Perceptron',\n",
       "  'SGDClassifier_L1',\n",
       "  'RidgeClassifier',\n",
       "  'BernoulliNB',\n",
       "  'MultinomialNB',\n",
       "  'PassiveAggressiveClassifier',\n",
       "  'SGDClassifier_elasticnet',\n",
       "  'SGDClassifier_L2',\n",
       "  'KNeighborsClassifier',\n",
       "  'RandomForestClassifier_100',\n",
       "  'LinearSVC_L1',\n",
       "  'LinearSVC_L2',\n",
       "  'Pipeline_LinearSVC_L1_Linear',\n",
       "  'Pipeline_LinearSVC_L2_Linear',\n",
       "  'RandomForestClassifier_500',\n",
       "  'SVC_linear'],\n",
       " [0.1957259585166562,\n",
       "  0.1957259585166562,\n",
       "  0.1957259585166562,\n",
       "  0.29151477058453801,\n",
       "  0.57762413576367067,\n",
       "  0.6573224387177875,\n",
       "  0.67718416090509115,\n",
       "  0.68648648648648647,\n",
       "  0.68761785040854806,\n",
       "  0.69013199245757384,\n",
       "  0.6952859836580767,\n",
       "  0.70232558139534884,\n",
       "  0.71037083595223127,\n",
       "  0.71753614079195471,\n",
       "  0.72985543683218101,\n",
       "  0.7324952859836581,\n",
       "  0.73463230672532998,\n",
       "  0.73488372093023258,\n",
       "  0.73500942803268388,\n",
       "  0.73513513513513518,\n",
       "  0.73840351979886865],\n",
       " [254.21758913993835,\n",
       "  211.46736001968384,\n",
       "  221.42302703857422,\n",
       "  313.29625487327576,\n",
       "  0.09495306015014648,\n",
       "  4.871834993362427,\n",
       "  13.09161901473999,\n",
       "  1.3156020641326904,\n",
       "  0.4609038829803467,\n",
       "  0.4820849895477295,\n",
       "  7.1696648597717285,\n",
       "  14.19945502281189,\n",
       "  8.438558101654053,\n",
       "  0.05190896987915039,\n",
       "  76.0979700088501,\n",
       "  20.9842209815979,\n",
       "  4.13596510887146,\n",
       "  27.73862099647522,\n",
       "  10.01744818687439,\n",
       "  415.14591002464294,\n",
       "  93.85554718971252],\n",
       " [53.4651939868927,\n",
       "  34.1300048828125,\n",
       "  36.831438064575195,\n",
       "  51.25445795059204,\n",
       "  0.009939908981323242,\n",
       "  0.004698991775512695,\n",
       "  0.004758119583129883,\n",
       "  0.005788087844848633,\n",
       "  0.015421867370605469,\n",
       "  0.0068359375,\n",
       "  0.008927106857299805,\n",
       "  0.011749029159545898,\n",
       "  0.012062788009643555,\n",
       "  47.0424370765686,\n",
       "  0.7603540420532227,\n",
       "  0.00506901741027832,\n",
       "  0.003709077835083008,\n",
       "  0.012054920196533203,\n",
       "  0.017106056213378906,\n",
       "  8.722279071807861,\n",
       "  23.52824902534485]]"
      ]
     },
     "execution_count": 15,
     "metadata": {},
     "output_type": "execute_result"
    }
   ],
   "source": [
    "rearranged_results = [[x[i] for x in sorted_results] for i in range(4)]\n",
    "rearranged_results"
   ]
  },
  {
   "cell_type": "code",
   "execution_count": 16,
   "metadata": {
    "collapsed": false
   },
   "outputs": [],
   "source": [
    "indices = np.arange(len(results))\n",
    "clf_names, score, train_time, test_time = rearranged_results"
   ]
  },
  {
   "cell_type": "code",
   "execution_count": 17,
   "metadata": {
    "collapsed": false
   },
   "outputs": [
    {
     "data": {
      "image/png": "[encoded data removed]",
      "text/plain": [
       "<matplotlib.figure.Figure at 0x10e688410>"
      ]
     },
     "metadata": {},
     "output_type": "display_data"
    }
   ],
   "source": [
    "plt.title(\"Accuracy scores and running times\")\n",
    "width = 0.2\n",
    "plt.bar(indices, score, width, label=\"score\", color='g')\n",
    "plt.legend(loc='upper center')\n",
    "plt.xticks(indices, clf_names, rotation='vertical')\n",
    "plt.twinx()\n",
    "plt.bar(indices+width, train_time, width, label=\"train_time\", color='y')\n",
    "plt.bar(indices+(2*width), test_time, width, label=\"test_time\", color='r')\n",
    "plt.show()"
   ]
  },
  {
   "cell_type": "code",
   "execution_count": 20,
   "metadata": {
    "collapsed": false,
    "scrolled": true
   },
   "outputs": [
    {
     "name": "stdout",
     "output_type": "stream",
     "text": [
      "Using classifier: SVC(C=1.0, cache_size=200, class_weight=None, coef0=0.0, degree=3, gamma=0.0,\n",
      "  kernel='linear', max_iter=-1, probability=False, random_state=None,\n",
      "  shrinking=True, tol=0.001, verbose=False)\n"
     ]
    }
   ],
   "source": [
    "Testing_data = pd.read_json(\"../input/whatscooking/test.json\")\n",
    "classifier = classifiers[9][1]\n",
    "print \"Using classifier: {}\".format(classifier)\n",
    "Predictions = classifier.predict(vectorizer.transform(Testing_data.ingredients.apply(lambda x: ','.join(y for y in x))))\n",
    "Predicted_data = Testing_data.copy()\n",
    "Predicted_data['cuisine'] = Predictions\n",
    "submission = Predicted_data[['id', 'cuisine']]\n",
    "import time\n",
    "submission.to_csv('../output/whatscooking/whatscooking-{}.csv'.format(time.strftime(\"%Y%m%d--%H%M%S\")), index=False)"
   ]
  },
  {
   "cell_type": "markdown",
   "metadata": {},
   "source": [
    "<h3>Conclusion</h3>\n",
    "I submitted the results of the \"LinearSVC_L2\" and \"SVC_linear\" classifiers as second and third submissions respectively and although SVC_linear behaved better for the in house test, it didn't beat the LinearSVC_L2 in their test sample so in some ways the SVC_linear model wasn't as generalizable.\n",
    "\n",
    "In my next attempt, I am going to do three things. Two of those are data agnostic and the last one is data specific\n",
    "<ol>\n",
    "<li> Look at doing k-fold cross validation\n",
    "<li> Look at doing grid search to find better parameters\n",
    "<li> Look at misclassified points to see patters for where the model is going wrong\n",
    "</ol>"
   ]
  }
 ],
 "metadata": {
  "kernelspec": {
   "display_name": "Python 2",
   "language": "python",
   "name": "python2"
  },
  "language_info": {
   "codemirror_mode": {
    "name": "ipython",
    "version": 2
   },
   "file_extension": ".py",
   "mimetype": "text/x-python",
   "name": "python",
   "nbconvert_exporter": "python",
   "pygments_lexer": "ipython2",
   "version": "2.7.10"
  }
 },
 "nbformat": 4,
 "nbformat_minor": 0
}
