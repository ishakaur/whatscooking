{
 "cells": [
  {
   "cell_type": "markdown",
   "metadata": {},
   "source": [
    "<h3>Objective</h3>\n",
    "I tried the stratified k fold cross validation last time and used the majority vote of the k model predictions to determine the final predictions and that was a slight improvement over earlier.\n",
    "\n",
    "Next, I want to do a quick grid search to find better parameters for plan old vanilla Support Vector Machine. This darling algorithm of so many people can't be that bad at predicting.\n",
    "\n",
    "In my next attempt, I will do a data deep dive. Idea would be to analyze where predictions are going wrong and also to think about what might make better features."
   ]
  },
  {
   "cell_type": "code",
   "execution_count": 1,
   "metadata": {
    "collapsed": false
   },
   "outputs": [],
   "source": [
    "import pandas as pd\n",
    "import numpy as np\n",
    "import matplotlib.pyplot as plt\n",
    "%matplotlib inline\n",
    "from IPython.display import display"
   ]
  },
  {
   "cell_type": "code",
   "execution_count": 2,
   "metadata": {
    "collapsed": false
   },
   "outputs": [],
   "source": [
    "Training_data = pd.read_json(\"../input/whatscooking/train.json\")\n",
    "Training_data['str_ingredients'] = Training_data.ingredients.apply(lambda x: ','.join(y for y in x))\n",
    "#describe_dataset(Training_data, \"Training\");\n",
    "Testing_data = pd.read_json(\"../input/whatscooking/test.json\")\n",
    "Testing_data['str_ingredients'] = Testing_data.ingredients.apply(lambda x: ','.join(y for y in x))"
   ]
  },
  {
   "cell_type": "code",
   "execution_count": null,
   "metadata": {
    "collapsed": true
   },
   "outputs": [],
   "source": []
  }
 ],
 "metadata": {
  "kernelspec": {
   "display_name": "Python 2",
   "language": "python",
   "name": "python2"
  },
  "language_info": {
   "codemirror_mode": {
    "name": "ipython",
    "version": 2
   },
   "file_extension": ".py",
   "mimetype": "text/x-python",
   "name": "python",
   "nbconvert_exporter": "python",
   "pygments_lexer": "ipython2",
   "version": "2.7.10"
  }
 },
 "nbformat": 4,
 "nbformat_minor": 0
}
