{
 "cells": [
  {
   "cell_type": "markdown",
   "metadata": {},
   "source": [
    "<h3>Objective</h3>\n",
    "<p>I have now tried the grid_search and tried the k fold cross validation with a better parametrized SVM. The results were much much better than before thankfully but still with my position in the middle of the leaderboard, I think there is a need for a lot more new ideas.\n",
    "<p>In my next attempt, I will do a data deep dive. Idea would be to analyze where predictions are going wrong and also to think about what might make better features."
   ]
  },
  {
   "cell_type": "code",
   "execution_count": 2,
   "metadata": {
    "collapsed": true
   },
   "outputs": [],
   "source": [
    "import pandas as pd\n",
    "import numpy as np\n",
    "import matplotlib.pyplot as plt\n",
    "%matplotlib inline\n",
    "from IPython.display import display"
   ]
  },
  {
   "cell_type": "code",
   "execution_count": 3,
   "metadata": {
    "collapsed": true
   },
   "outputs": [],
   "source": [
    "Training_data = pd.read_json(\"../input/whatscooking/train.json\")\n",
    "Training_data['str_ingredients'] = Training_data.ingredients.apply(lambda x: ','.join(y for y in x))\n",
    "y_Train = Training_data.cuisine\n",
    "#describe_dataset(Training_data, \"Training\");\n",
    "#Testing_data = pd.read_json(\"../input/whatscooking/test.json\")\n",
    "#Testing_data['str_ingredients'] = Testing_data.ingredients.apply(lambda x: ','.join(y for y in x))"
   ]
  },
  {
   "cell_type": "code",
   "execution_count": 4,
   "metadata": {
    "collapsed": false
   },
   "outputs": [
    {
     "data": {
      "text/plain": [
       "num_recipes    6714\n",
       "dtype: int64"
      ]
     },
     "metadata": {},
     "output_type": "display_data"
    },
    {
     "data": {
      "text/html": [
       "<div style=\"max-height:1000px;max-width:1500px;overflow:auto;\">\n",
       "<table border=\"1\" class=\"dataframe\">\n",
       "  <thead>\n",
       "    <tr style=\"text-align: right;\">\n",
       "      <th></th>\n",
       "      <th>num_recipes</th>\n",
       "    </tr>\n",
       "  </thead>\n",
       "  <tbody>\n",
       "    <tr>\n",
       "      <th>low-sodium fat-free chicken broth</th>\n",
       "      <td> 22</td>\n",
       "    </tr>\n",
       "    <tr>\n",
       "      <th>sweetened coconut</th>\n",
       "      <td>  3</td>\n",
       "    </tr>\n",
       "    <tr>\n",
       "      <th>baking chocolate</th>\n",
       "      <td>  3</td>\n",
       "    </tr>\n",
       "    <tr>\n",
       "      <th>egg roll wrappers</th>\n",
       "      <td> 57</td>\n",
       "    </tr>\n",
       "    <tr>\n",
       "      <th>bottled low sodium salsa</th>\n",
       "      <td>  1</td>\n",
       "    </tr>\n",
       "  </tbody>\n",
       "</table>\n",
       "</div>"
      ],
      "text/plain": [
       "                                   num_recipes\n",
       "low-sodium fat-free chicken broth           22\n",
       "sweetened coconut                            3\n",
       "baking chocolate                             3\n",
       "egg roll wrappers                           57\n",
       "bottled low sodium salsa                     1"
      ]
     },
     "metadata": {},
     "output_type": "display_data"
    }
   ],
   "source": [
    "import itertools\n",
    "grouped_ingredients = itertools.groupby(sorted(list(itertools.chain.from_iterable(Training_data.ingredients))))\n",
    "ingredient_counts = {key:len(list(group)) for key, group in grouped_ingredients}\n",
    "global_pantry = pd.DataFrame.from_dict(ingredient_counts, orient='index')\n",
    "global_pantry.columns = ['num_recipes']\n",
    "display(global_pantry.count())\n",
    "display(global_pantry.head())"
   ]
  },
  {
   "cell_type": "code",
   "execution_count": 5,
   "metadata": {
    "collapsed": true
   },
   "outputs": [],
   "source": [
    "from sklearn.feature_extraction.text import TfidfVectorizer\n",
    "vectorizer = TfidfVectorizer(sublinear_tf=True, vocabulary=global_pantry.index.values)"
   ]
  },
  {
   "cell_type": "code",
   "execution_count": 6,
   "metadata": {
    "collapsed": true
   },
   "outputs": [],
   "source": [
    "from sklearn.cross_validation import train_test_split\n",
    "train, test = train_test_split(Training_data, test_size = 0.2)\n",
    "\n",
    "X_train = vectorizer.fit_transform(train.str_ingredients)\n",
    "y_train = train.cuisine\n",
    "\n",
    "X_test = vectorizer.transform(test.str_ingredients)\n",
    "y_test = test.cuisine\n",
    "\n",
    "#X_Test = vectorizer.transform(Testing_data.str_ingredients)\n",
    "#y_Test = Testing_data.cuisine\n",
    "\n",
    "feature_names = vectorizer.get_feature_names()"
   ]
  },
  {
   "cell_type": "code",
   "execution_count": 8,
   "metadata": {
    "collapsed": false
   },
   "outputs": [],
   "source": [
    "from sklearn.svm import LinearSVC\n",
    "classifier = LinearSVC(loss='squared_hinge', penalty='l2', dual=False, tol=1e-3)"
   ]
  },
  {
   "cell_type": "code",
   "execution_count": 9,
   "metadata": {
    "collapsed": false
   },
   "outputs": [
    {
     "name": "stdout",
     "output_type": "stream",
     "text": [
      "score: 0.734632306725, train_time: 3.99665904045, test_time: 0.00522708892822\n"
     ]
    }
   ],
   "source": [
    "from sklearn import metrics\n",
    "from time import time\n",
    "\n",
    "t0 = time()\n",
    "classifier.fit(X_train, y_train)\n",
    "train_time = time() - t0\n",
    "\n",
    "t0 = time()\n",
    "predictions = classifier.predict(X_test)\n",
    "test_time = time() - t0\n",
    "\n",
    "score = metrics.accuracy_score(y_test, predictions)\n",
    "\n",
    "print \"score: {}, train_time: {}, test_time: {}\".format(score, train_time, test_time)"
   ]
  },
  {
   "cell_type": "code",
   "execution_count": null,
   "metadata": {
    "collapsed": true
   },
   "outputs": [],
   "source": []
  }
 ],
 "metadata": {
  "kernelspec": {
   "display_name": "Python 2",
   "language": "python",
   "name": "python2"
  },
  "language_info": {
   "codemirror_mode": {
    "name": "ipython",
    "version": 2
   },
   "file_extension": ".py",
   "mimetype": "text/x-python",
   "name": "python",
   "nbconvert_exporter": "python",
   "pygments_lexer": "ipython2",
   "version": "2.7.10"
  }
 },
 "nbformat": 4,
 "nbformat_minor": 0
}
