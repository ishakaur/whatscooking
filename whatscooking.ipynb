{
 "cells": [
  {
   "cell_type": "markdown",
   "metadata": {},
   "source": [
    "<h3>Objective</h3>\n",
    "As discussed last time, my objective here is to do the following three things:\n",
    "<ol>\n",
    "<li>Look at doing k-fold cross validation\n",
    "<li>Look at doing grid search to find better parameters\n",
    "<li>Look at misclassified points to see patters for where the model is going wrong\n",
    "</ol>"
   ]
  },
  {
   "cell_type": "code",
   "execution_count": 29,
   "metadata": {
    "collapsed": false
   },
   "outputs": [],
   "source": [
    "import pandas as pd\n",
    "import numpy as np\n",
    "import matplotlib.pyplot as plt\n",
    "%matplotlib inline\n",
    "from IPython.display import display"
   ]
  },
  {
   "cell_type": "code",
   "execution_count": 30,
   "metadata": {
    "collapsed": true
   },
   "outputs": [],
   "source": [
    "Training_data = pd.read_json(\"../input/whatscooking/train.json\")\n",
    "Training_data['str_ingredients'] = Training_data.ingredients.apply(lambda x: ','.join(y for y in x))"
   ]
  },
  {
   "cell_type": "code",
   "execution_count": 31,
   "metadata": {
    "collapsed": true
   },
   "outputs": [],
   "source": [
    "def describe_dataset(dataset, dataset_name=\"given\"):\n",
    "    display(dataset.describe())\n",
    "    cuisines = dataset.groupby(\"cuisine\").count().sort(\"id\", ascending=False)\n",
    "    display(cuisines.head())\n",
    "    i = range(cuisines.count().ingredients)\n",
    "    plt.bar(i, cuisines.ingredients, label='Number of recipes in {} dataset'.format(dataset_name))\n",
    "    plt.ylabel('total number of recipes')\n",
    "    plt.title('Number of recipes by type of cuisine')\n",
    "    plt.xticks(i, cuisines.index.values, rotation='vertical')\n",
    "    plt.legend(loc='upper right')\n",
    "    plt.show()"
   ]
  },
  {
   "cell_type": "code",
   "execution_count": 32,
   "metadata": {
    "collapsed": false
   },
   "outputs": [
    {
     "data": {
      "text/html": [
       "<div style=\"max-height:1000px;max-width:1500px;overflow:auto;\">\n",
       "<table border=\"1\" class=\"dataframe\">\n",
       "  <thead>\n",
       "    <tr style=\"text-align: right;\">\n",
       "      <th></th>\n",
       "      <th>id</th>\n",
       "    </tr>\n",
       "  </thead>\n",
       "  <tbody>\n",
       "    <tr>\n",
       "      <th>count</th>\n",
       "      <td> 39774.000000</td>\n",
       "    </tr>\n",
       "    <tr>\n",
       "      <th>mean</th>\n",
       "      <td> 24849.536959</td>\n",
       "    </tr>\n",
       "    <tr>\n",
       "      <th>std</th>\n",
       "      <td> 14360.035505</td>\n",
       "    </tr>\n",
       "    <tr>\n",
       "      <th>min</th>\n",
       "      <td>     0.000000</td>\n",
       "    </tr>\n",
       "    <tr>\n",
       "      <th>25%</th>\n",
       "      <td> 12398.250000</td>\n",
       "    </tr>\n",
       "    <tr>\n",
       "      <th>50%</th>\n",
       "      <td> 24887.000000</td>\n",
       "    </tr>\n",
       "    <tr>\n",
       "      <th>75%</th>\n",
       "      <td> 37328.500000</td>\n",
       "    </tr>\n",
       "    <tr>\n",
       "      <th>max</th>\n",
       "      <td> 49717.000000</td>\n",
       "    </tr>\n",
       "  </tbody>\n",
       "</table>\n",
       "</div>"
      ],
      "text/plain": [
       "                 id\n",
       "count  39774.000000\n",
       "mean   24849.536959\n",
       "std    14360.035505\n",
       "min        0.000000\n",
       "25%    12398.250000\n",
       "50%    24887.000000\n",
       "75%    37328.500000\n",
       "max    49717.000000"
      ]
     },
     "metadata": {},
     "output_type": "display_data"
    },
    {
     "data": {
      "text/html": [
       "<div style=\"max-height:1000px;max-width:1500px;overflow:auto;\">\n",
       "<table border=\"1\" class=\"dataframe\">\n",
       "  <thead>\n",
       "    <tr style=\"text-align: right;\">\n",
       "      <th></th>\n",
       "      <th>id</th>\n",
       "      <th>ingredients</th>\n",
       "      <th>str_ingredients</th>\n",
       "    </tr>\n",
       "    <tr>\n",
       "      <th>cuisine</th>\n",
       "      <th></th>\n",
       "      <th></th>\n",
       "      <th></th>\n",
       "    </tr>\n",
       "  </thead>\n",
       "  <tbody>\n",
       "    <tr>\n",
       "      <th>italian</th>\n",
       "      <td> 7838</td>\n",
       "      <td> 7838</td>\n",
       "      <td> 7838</td>\n",
       "    </tr>\n",
       "    <tr>\n",
       "      <th>mexican</th>\n",
       "      <td> 6438</td>\n",
       "      <td> 6438</td>\n",
       "      <td> 6438</td>\n",
       "    </tr>\n",
       "    <tr>\n",
       "      <th>southern_us</th>\n",
       "      <td> 4320</td>\n",
       "      <td> 4320</td>\n",
       "      <td> 4320</td>\n",
       "    </tr>\n",
       "    <tr>\n",
       "      <th>indian</th>\n",
       "      <td> 3003</td>\n",
       "      <td> 3003</td>\n",
       "      <td> 3003</td>\n",
       "    </tr>\n",
       "    <tr>\n",
       "      <th>chinese</th>\n",
       "      <td> 2673</td>\n",
       "      <td> 2673</td>\n",
       "      <td> 2673</td>\n",
       "    </tr>\n",
       "  </tbody>\n",
       "</table>\n",
       "</div>"
      ],
      "text/plain": [
       "               id  ingredients  str_ingredients\n",
       "cuisine                                        \n",
       "italian      7838         7838             7838\n",
       "mexican      6438         6438             6438\n",
       "southern_us  4320         4320             4320\n",
       "indian       3003         3003             3003\n",
       "chinese      2673         2673             2673"
      ]
     },
     "metadata": {},
     "output_type": "display_data"
    },
    {
     "data": {
      "image/png": "[encoded data removed]",
      "text/plain": [
       "<matplotlib.figure.Figure at 0x112a6d810>"
      ]
     },
     "metadata": {},
     "output_type": "display_data"
    }
   ],
   "source": [
    "describe_dataset(Training_data, \"Training\");"
   ]
  },
  {
   "cell_type": "code",
   "execution_count": 33,
   "metadata": {
    "collapsed": false
   },
   "outputs": [],
   "source": [
    "from sklearn.cross_validation import train_test_split\n",
    "train, test = train_test_split(Training_data, test_size = 0.2)"
   ]
  },
  {
   "cell_type": "code",
   "execution_count": 34,
   "metadata": {
    "collapsed": false
   },
   "outputs": [
    {
     "data": {
      "text/html": [
       "<div style=\"max-height:1000px;max-width:1500px;overflow:auto;\">\n",
       "<table border=\"1\" class=\"dataframe\">\n",
       "  <thead>\n",
       "    <tr style=\"text-align: right;\">\n",
       "      <th></th>\n",
       "      <th>id</th>\n",
       "    </tr>\n",
       "  </thead>\n",
       "  <tbody>\n",
       "    <tr>\n",
       "      <th>count</th>\n",
       "      <td> 31819.000000</td>\n",
       "    </tr>\n",
       "    <tr>\n",
       "      <th>mean</th>\n",
       "      <td> 24789.064898</td>\n",
       "    </tr>\n",
       "    <tr>\n",
       "      <th>std</th>\n",
       "      <td> 14355.934771</td>\n",
       "    </tr>\n",
       "    <tr>\n",
       "      <th>min</th>\n",
       "      <td>     0.000000</td>\n",
       "    </tr>\n",
       "    <tr>\n",
       "      <th>25%</th>\n",
       "      <td> 12324.500000</td>\n",
       "    </tr>\n",
       "    <tr>\n",
       "      <th>50%</th>\n",
       "      <td> 24800.000000</td>\n",
       "    </tr>\n",
       "    <tr>\n",
       "      <th>75%</th>\n",
       "      <td> 37224.500000</td>\n",
       "    </tr>\n",
       "    <tr>\n",
       "      <th>max</th>\n",
       "      <td> 49717.000000</td>\n",
       "    </tr>\n",
       "  </tbody>\n",
       "</table>\n",
       "</div>"
      ],
      "text/plain": [
       "                 id\n",
       "count  31819.000000\n",
       "mean   24789.064898\n",
       "std    14355.934771\n",
       "min        0.000000\n",
       "25%    12324.500000\n",
       "50%    24800.000000\n",
       "75%    37224.500000\n",
       "max    49717.000000"
      ]
     },
     "metadata": {},
     "output_type": "display_data"
    },
    {
     "data": {
      "text/html": [
       "<div style=\"max-height:1000px;max-width:1500px;overflow:auto;\">\n",
       "<table border=\"1\" class=\"dataframe\">\n",
       "  <thead>\n",
       "    <tr style=\"text-align: right;\">\n",
       "      <th></th>\n",
       "      <th>id</th>\n",
       "      <th>ingredients</th>\n",
       "      <th>str_ingredients</th>\n",
       "    </tr>\n",
       "    <tr>\n",
       "      <th>cuisine</th>\n",
       "      <th></th>\n",
       "      <th></th>\n",
       "      <th></th>\n",
       "    </tr>\n",
       "  </thead>\n",
       "  <tbody>\n",
       "    <tr>\n",
       "      <th>italian</th>\n",
       "      <td> 6261</td>\n",
       "      <td> 6261</td>\n",
       "      <td> 6261</td>\n",
       "    </tr>\n",
       "    <tr>\n",
       "      <th>mexican</th>\n",
       "      <td> 5134</td>\n",
       "      <td> 5134</td>\n",
       "      <td> 5134</td>\n",
       "    </tr>\n",
       "    <tr>\n",
       "      <th>southern_us</th>\n",
       "      <td> 3473</td>\n",
       "      <td> 3473</td>\n",
       "      <td> 3473</td>\n",
       "    </tr>\n",
       "    <tr>\n",
       "      <th>indian</th>\n",
       "      <td> 2411</td>\n",
       "      <td> 2411</td>\n",
       "      <td> 2411</td>\n",
       "    </tr>\n",
       "    <tr>\n",
       "      <th>chinese</th>\n",
       "      <td> 2121</td>\n",
       "      <td> 2121</td>\n",
       "      <td> 2121</td>\n",
       "    </tr>\n",
       "  </tbody>\n",
       "</table>\n",
       "</div>"
      ],
      "text/plain": [
       "               id  ingredients  str_ingredients\n",
       "cuisine                                        \n",
       "italian      6261         6261             6261\n",
       "mexican      5134         5134             5134\n",
       "southern_us  3473         3473             3473\n",
       "indian       2411         2411             2411\n",
       "chinese      2121         2121             2121"
      ]
     },
     "metadata": {},
     "output_type": "display_data"
    },
    {
     "data": {
      "image/png": "[encoded data removed]",
      "text/plain": [
       "<matplotlib.figure.Figure at 0x114046a10>"
      ]
     },
     "metadata": {},
     "output_type": "display_data"
    },
    {
     "data": {
      "text/html": [
       "<div style=\"max-height:1000px;max-width:1500px;overflow:auto;\">\n",
       "<table border=\"1\" class=\"dataframe\">\n",
       "  <thead>\n",
       "    <tr style=\"text-align: right;\">\n",
       "      <th></th>\n",
       "      <th>id</th>\n",
       "    </tr>\n",
       "  </thead>\n",
       "  <tbody>\n",
       "    <tr>\n",
       "      <th>count</th>\n",
       "      <td>  7955.000000</td>\n",
       "    </tr>\n",
       "    <tr>\n",
       "      <th>mean</th>\n",
       "      <td> 25091.417599</td>\n",
       "    </tr>\n",
       "    <tr>\n",
       "      <th>std</th>\n",
       "      <td> 14374.785511</td>\n",
       "    </tr>\n",
       "    <tr>\n",
       "      <th>min</th>\n",
       "      <td>     4.000000</td>\n",
       "    </tr>\n",
       "    <tr>\n",
       "      <th>25%</th>\n",
       "      <td> 12730.500000</td>\n",
       "    </tr>\n",
       "    <tr>\n",
       "      <th>50%</th>\n",
       "      <td> 25271.000000</td>\n",
       "    </tr>\n",
       "    <tr>\n",
       "      <th>75%</th>\n",
       "      <td> 37746.500000</td>\n",
       "    </tr>\n",
       "    <tr>\n",
       "      <th>max</th>\n",
       "      <td> 49716.000000</td>\n",
       "    </tr>\n",
       "  </tbody>\n",
       "</table>\n",
       "</div>"
      ],
      "text/plain": [
       "                 id\n",
       "count   7955.000000\n",
       "mean   25091.417599\n",
       "std    14374.785511\n",
       "min        4.000000\n",
       "25%    12730.500000\n",
       "50%    25271.000000\n",
       "75%    37746.500000\n",
       "max    49716.000000"
      ]
     },
     "metadata": {},
     "output_type": "display_data"
    },
    {
     "data": {
      "text/html": [
       "<div style=\"max-height:1000px;max-width:1500px;overflow:auto;\">\n",
       "<table border=\"1\" class=\"dataframe\">\n",
       "  <thead>\n",
       "    <tr style=\"text-align: right;\">\n",
       "      <th></th>\n",
       "      <th>id</th>\n",
       "      <th>ingredients</th>\n",
       "      <th>str_ingredients</th>\n",
       "    </tr>\n",
       "    <tr>\n",
       "      <th>cuisine</th>\n",
       "      <th></th>\n",
       "      <th></th>\n",
       "      <th></th>\n",
       "    </tr>\n",
       "  </thead>\n",
       "  <tbody>\n",
       "    <tr>\n",
       "      <th>italian</th>\n",
       "      <td> 1577</td>\n",
       "      <td> 1577</td>\n",
       "      <td> 1577</td>\n",
       "    </tr>\n",
       "    <tr>\n",
       "      <th>mexican</th>\n",
       "      <td> 1304</td>\n",
       "      <td> 1304</td>\n",
       "      <td> 1304</td>\n",
       "    </tr>\n",
       "    <tr>\n",
       "      <th>southern_us</th>\n",
       "      <td>  847</td>\n",
       "      <td>  847</td>\n",
       "      <td>  847</td>\n",
       "    </tr>\n",
       "    <tr>\n",
       "      <th>indian</th>\n",
       "      <td>  592</td>\n",
       "      <td>  592</td>\n",
       "      <td>  592</td>\n",
       "    </tr>\n",
       "    <tr>\n",
       "      <th>chinese</th>\n",
       "      <td>  552</td>\n",
       "      <td>  552</td>\n",
       "      <td>  552</td>\n",
       "    </tr>\n",
       "  </tbody>\n",
       "</table>\n",
       "</div>"
      ],
      "text/plain": [
       "               id  ingredients  str_ingredients\n",
       "cuisine                                        \n",
       "italian      1577         1577             1577\n",
       "mexican      1304         1304             1304\n",
       "southern_us   847          847              847\n",
       "indian        592          592              592\n",
       "chinese       552          552              552"
      ]
     },
     "metadata": {},
     "output_type": "display_data"
    },
    {
     "data": {
      "image/png": "[encoded data removed]",
      "text/plain": [
       "<matplotlib.figure.Figure at 0x1085fb350>"
      ]
     },
     "metadata": {},
     "output_type": "display_data"
    }
   ],
   "source": [
    "describe_dataset(train, \"train\");\n",
    "describe_dataset(test, \"test\");"
   ]
  },
  {
   "cell_type": "code",
   "execution_count": 35,
   "metadata": {
    "collapsed": false
   },
   "outputs": [
    {
     "data": {
      "text/plain": [
       "num_recipes    6714\n",
       "dtype: int64"
      ]
     },
     "metadata": {},
     "output_type": "display_data"
    },
    {
     "data": {
      "text/html": [
       "<div style=\"max-height:1000px;max-width:1500px;overflow:auto;\">\n",
       "<table border=\"1\" class=\"dataframe\">\n",
       "  <thead>\n",
       "    <tr style=\"text-align: right;\">\n",
       "      <th></th>\n",
       "      <th>num_recipes</th>\n",
       "    </tr>\n",
       "  </thead>\n",
       "  <tbody>\n",
       "    <tr>\n",
       "      <th>low-sodium fat-free chicken broth</th>\n",
       "      <td> 22</td>\n",
       "    </tr>\n",
       "    <tr>\n",
       "      <th>sweetened coconut</th>\n",
       "      <td>  3</td>\n",
       "    </tr>\n",
       "    <tr>\n",
       "      <th>baking chocolate</th>\n",
       "      <td>  3</td>\n",
       "    </tr>\n",
       "    <tr>\n",
       "      <th>egg roll wrappers</th>\n",
       "      <td> 57</td>\n",
       "    </tr>\n",
       "    <tr>\n",
       "      <th>bottled low sodium salsa</th>\n",
       "      <td>  1</td>\n",
       "    </tr>\n",
       "  </tbody>\n",
       "</table>\n",
       "</div>"
      ],
      "text/plain": [
       "                                   num_recipes\n",
       "low-sodium fat-free chicken broth           22\n",
       "sweetened coconut                            3\n",
       "baking chocolate                             3\n",
       "egg roll wrappers                           57\n",
       "bottled low sodium salsa                     1"
      ]
     },
     "execution_count": 35,
     "metadata": {},
     "output_type": "execute_result"
    }
   ],
   "source": [
    "import itertools\n",
    "grouped_ingredients = itertools.groupby(sorted(list(itertools.chain.from_iterable(Training_data.ingredients))))\n",
    "ingredient_counts = {key:len(list(group)) for key, group in grouped_ingredients}\n",
    "global_pantry = pd.DataFrame.from_dict(ingredient_counts, orient='index')\n",
    "global_pantry.columns = ['num_recipes']\n",
    "display(global_pantry.count())\n",
    "global_pantry.head()"
   ]
  },
  {
   "cell_type": "code",
   "execution_count": 36,
   "metadata": {
    "collapsed": false
   },
   "outputs": [],
   "source": [
    "from sklearn.feature_extraction.text import TfidfVectorizer\n",
    "vectorizer = TfidfVectorizer(sublinear_tf=True, vocabulary=global_pantry.index.values)\n",
    "X_train = vectorizer.fit_transform(train.str_ingredients)\n",
    "feature_names = vectorizer.get_feature_names()\n",
    "feature_names = np.asarray(feature_names);"
   ]
  },
  {
   "cell_type": "code",
   "execution_count": 37,
   "metadata": {
    "collapsed": true
   },
   "outputs": [],
   "source": [
    "X_test = vectorizer.transform(test.str_ingredients)\n",
    "y_train = train.cuisine\n",
    "y_test = test.cuisine"
   ]
  },
  {
   "cell_type": "code",
   "execution_count": 38,
   "metadata": {
    "collapsed": false
   },
   "outputs": [],
   "source": [
    "from sklearn.utils.extmath import density\n",
    "from sklearn import metrics\n",
    "from time import time\n",
    "\n",
    "def benchmark(name, classifier, verbose=False):\n",
    "    print \"Training: {}\".format(classifier)\n",
    "    \n",
    "    t0 = time()\n",
    "    classifier.fit(X_train, y_train)\n",
    "    train_time = time() - t0\n",
    "    \n",
    "    t0 = time()\n",
    "    predictions = classifier.predict(X_test)\n",
    "    test_time = time() - t0\n",
    "    \n",
    "    score = metrics.accuracy_score(y_test, predictions)\n",
    "    \n",
    "    if verbose and hasattr(classifier, 'coef_'):\n",
    "        print \"Dimensionality: {}\".format(classifier.coef_.shape[1])\n",
    "        print \"Density: {}\".format(density(classifier.coef_))\n",
    "\n",
    "        print \"top10 features for each category:\"\n",
    "        for i, category in enumerate(classifier.classes_):\n",
    "            top10 = np.argsort(classifier.coef_[i])[-10:]\n",
    "            print(\"%s: %s\" % (category, \" \".join(feature_names[top10])))\n",
    "\n",
    "        print \"classification report:\"\n",
    "        print metrics.classification_report(y_test, predictions)\n",
    "\n",
    "        print \"confusion matrix:\"\n",
    "        print metrics.confusion_matrix(y_test, predictions)\n",
    "    \n",
    "    print \"Accuracy: {}, Train time: {}, Test time: {}\".format(score, train_time, test_time)\n",
    "    return name, score, train_time, test_time"
   ]
  },
  {
   "cell_type": "code",
   "execution_count": 40,
   "metadata": {
    "collapsed": false
   },
   "outputs": [
    {
     "name": "stdout",
     "output_type": "stream",
     "text": [
      "Training: SVC(C=1.0, cache_size=200, class_weight=None, coef0=0.0, degree=3, gamma=0.0,\n",
      "  kernel='rbf', max_iter=-1, probability=False, random_state=None,\n",
      "  shrinking=True, tol=0.001, verbose=False)\n",
      "Accuracy: 0.198240100566, Train time: 301.991544008, Test time: 54.1577091217\n",
      "Training: RandomForestClassifier(bootstrap=True, class_weight=None, criterion='gini',\n",
      "            max_depth=None, max_features='auto', max_leaf_nodes=None,\n",
      "            min_samples_leaf=1, min_samples_split=2,\n",
      "            min_weight_fraction_leaf=0.0, n_estimators=250, n_jobs=1,\n",
      "            oob_score=False, random_state=None, verbose=0,\n",
      "            warm_start=False)\n",
      "Accuracy: 0.732243871779, Train time: 272.567488194, Test time: 5.79733896255\n",
      "Training: LinearSVC(C=1.0, class_weight=None, dual=False, fit_intercept=True,\n",
      "     intercept_scaling=1, loss='squared_hinge', max_iter=1000,\n",
      "     multi_class='ovr', penalty='l2', random_state=None, tol=0.001,\n",
      "     verbose=0)\n",
      "Accuracy: 0.733123821496, Train time: 6.21387219429, Test time: 0.00760984420776\n",
      "Training: SVC(C=1.0, cache_size=200, class_weight=None, coef0=0.0, degree=3, gamma=0.0,\n",
      "  kernel='linear', max_iter=-1, probability=False, random_state=None,\n",
      "  shrinking=True, tol=0.001, verbose=False)\n",
      "Accuracy: 0.736895034569, Train time: 95.1504118443, Test time: 21.4056699276\n",
      "Training: Pipeline(steps=[('feature_selection', LinearSVC(C=1.0, class_weight=None, dual=False, fit_intercept=True,\n",
      "     intercept_scaling=1, loss='squared_hinge', max_iter=1000,\n",
      "     multi_class='ovr', penalty='l2', random_state=None, tol=0.001,\n",
      "     verbose=0)), ('classification', LinearSVC(C=1.0, class_weight=None, dual=True, fit_intercept=True,\n",
      "     intercept_scaling=1, loss='squared_hinge', max_iter=1000,\n",
      "     multi_class='ovr', penalty='l2', random_state=None, tol=0.0001,\n",
      "     verbose=0))])\n",
      "Accuracy: 0.733123821496, Train time: 6.61470985413, Test time: 0.0125541687012\n"
     ]
    }
   ],
   "source": [
    "from sklearn.linear_model import RidgeClassifier\n",
    "from sklearn.pipeline import Pipeline\n",
    "from sklearn.svm import LinearSVC, SVC\n",
    "from sklearn.linear_model import SGDClassifier\n",
    "from sklearn.linear_model import Perceptron\n",
    "from sklearn.linear_model import PassiveAggressiveClassifier\n",
    "from sklearn.naive_bayes import BernoulliNB, MultinomialNB\n",
    "from sklearn.neighbors import KNeighborsClassifier\n",
    "from sklearn.neighbors import NearestCentroid\n",
    "from sklearn.ensemble import RandomForestClassifier\n",
    "classifiers = [\n",
    "    (\"SVC_rbf\", SVC(kernel='rbf')),\n",
    "    (\"RandomForestClassifier_250\", RandomForestClassifier(n_estimators=250)),\n",
    "    (\"LinearSVC_L2\", LinearSVC(loss='squared_hinge', penalty='l2', dual=False, tol=1e-3)),\n",
    "    (\"SVC_linear\", SVC(kernel='linear')),\n",
    "    (\"Pipeline_LinearSVC_L2_Linear\", Pipeline([\n",
    "        ('feature_selection', LinearSVC(penalty=\"l2\", dual=False, tol=1e-3)),\n",
    "        ('classification', LinearSVC())\n",
    "    ])),\n",
    "]\n",
    "results = []\n",
    "for name, classifier in classifiers:\n",
    "    results.append(benchmark(name, classifier))"
   ]
  },
  {
   "cell_type": "code",
   "execution_count": 41,
   "metadata": {
    "collapsed": false
   },
   "outputs": [
    {
     "data": {
      "text/plain": [
       "[('SVC_rbf', 0.19824010056568195, 301.991544008255, 54.1577091217041),\n",
       " ('RandomForestClassifier_250',\n",
       "  0.7322438717787555,\n",
       "  272.56748819351196,\n",
       "  5.797338962554932),\n",
       " ('LinearSVC_L2',\n",
       "  0.73312382149591448,\n",
       "  6.213872194290161,\n",
       "  0.007609844207763672),\n",
       " ('SVC_linear', 0.73689503456945316, 95.15041184425354, 21.405669927597046),\n",
       " ('Pipeline_LinearSVC_L2_Linear',\n",
       "  0.73312382149591448,\n",
       "  6.614709854125977,\n",
       "  0.012554168701171875)]"
      ]
     },
     "execution_count": 41,
     "metadata": {},
     "output_type": "execute_result"
    }
   ],
   "source": [
    "results"
   ]
  },
  {
   "cell_type": "code",
   "execution_count": 42,
   "metadata": {
    "collapsed": false
   },
   "outputs": [
    {
     "data": {
      "text/plain": [
       "[('SVC_rbf', 0.19824010056568195, 301.991544008255, 54.1577091217041),\n",
       " ('RandomForestClassifier_250',\n",
       "  0.7322438717787555,\n",
       "  272.56748819351196,\n",
       "  5.797338962554932),\n",
       " ('LinearSVC_L2',\n",
       "  0.73312382149591448,\n",
       "  6.213872194290161,\n",
       "  0.007609844207763672),\n",
       " ('Pipeline_LinearSVC_L2_Linear',\n",
       "  0.73312382149591448,\n",
       "  6.614709854125977,\n",
       "  0.012554168701171875),\n",
       " ('SVC_linear', 0.73689503456945316, 95.15041184425354, 21.405669927597046)]"
      ]
     },
     "execution_count": 42,
     "metadata": {},
     "output_type": "execute_result"
    }
   ],
   "source": [
    "sorted_results = sorted(results, key=lambda x: x[1])\n",
    "sorted_results"
   ]
  },
  {
   "cell_type": "code",
   "execution_count": 43,
   "metadata": {
    "collapsed": false
   },
   "outputs": [
    {
     "data": {
      "text/plain": [
       "[['SVC_rbf',\n",
       "  'RandomForestClassifier_250',\n",
       "  'LinearSVC_L2',\n",
       "  'Pipeline_LinearSVC_L2_Linear',\n",
       "  'SVC_linear'],\n",
       " [0.19824010056568195,\n",
       "  0.7322438717787555,\n",
       "  0.73312382149591448,\n",
       "  0.73312382149591448,\n",
       "  0.73689503456945316],\n",
       " [301.991544008255,\n",
       "  272.56748819351196,\n",
       "  6.213872194290161,\n",
       "  6.614709854125977,\n",
       "  95.15041184425354],\n",
       " [54.1577091217041,\n",
       "  5.797338962554932,\n",
       "  0.007609844207763672,\n",
       "  0.012554168701171875,\n",
       "  21.405669927597046]]"
      ]
     },
     "execution_count": 43,
     "metadata": {},
     "output_type": "execute_result"
    }
   ],
   "source": [
    "rearranged_results = [[x[i] for x in sorted_results] for i in range(4)]\n",
    "rearranged_results"
   ]
  },
  {
   "cell_type": "code",
   "execution_count": 44,
   "metadata": {
    "collapsed": false
   },
   "outputs": [],
   "source": [
    "indices = np.arange(len(results))\n",
    "clf_names, score, train_time, test_time = rearranged_results"
   ]
  },
  {
   "cell_type": "code",
   "execution_count": 45,
   "metadata": {
    "collapsed": false
   },
   "outputs": [
    {
     "data": {
      "image/png": "[encoded data removed]",
      "text/plain": [
       "<matplotlib.figure.Figure at 0x108a48d50>"
      ]
     },
     "metadata": {},
     "output_type": "display_data"
    }
   ],
   "source": [
    "plt.title(\"Accuracy scores and running times\")\n",
    "width = 0.2\n",
    "plt.bar(indices, score, width, label=\"score\", color='g')\n",
    "plt.legend(loc='upper center')\n",
    "plt.xticks(indices, clf_names, rotation='vertical')\n",
    "plt.twinx()\n",
    "plt.bar(indices+width, train_time, width, label=\"train_time\", color='y')\n",
    "plt.bar(indices+(2*width), test_time, width, label=\"test_time\", color='r')\n",
    "plt.show()"
   ]
  },
  {
   "cell_type": "code",
   "execution_count": null,
   "metadata": {
    "collapsed": true
   },
   "outputs": [],
   "source": []
  }
 ],
 "metadata": {
  "kernelspec": {
   "display_name": "Python 2",
   "language": "python",
   "name": "python2"
  },
  "language_info": {
   "codemirror_mode": {
    "name": "ipython",
    "version": 2
   },
   "file_extension": ".py",
   "mimetype": "text/x-python",
   "name": "python",
   "nbconvert_exporter": "python",
   "pygments_lexer": "ipython2",
   "version": "2.7.10"
  }
 },
 "nbformat": 4,
 "nbformat_minor": 0
}
