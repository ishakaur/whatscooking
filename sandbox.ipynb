{
 "cells": [
  {
   "cell_type": "markdown",
   "metadata": {},
   "source": [
    "This is my first attempt to understand the data in Kaggle's <a href=\"https://www.kaggle.com/c/whats-cooking\">\"What's cooking\"</a> challenge."
   ]
  },
  {
   "cell_type": "code",
   "execution_count": 1,
   "metadata": {
    "collapsed": false
   },
   "outputs": [],
   "source": [
    "import pandas as pd\n",
    "import matplotlib.pyplot as plt\n",
    "%matplotlib inline"
   ]
  },
  {
   "cell_type": "code",
   "execution_count": 2,
   "metadata": {
    "collapsed": false
   },
   "outputs": [
    {
     "name": "stdout",
     "output_type": "stream",
     "text": [
      "<class 'pandas.core.frame.DataFrame'>\n"
     ]
    },
    {
     "data": {
      "text/html": [
       "<div style=\"max-height:1000px;max-width:1500px;overflow:auto;\">\n",
       "<table border=\"1\" class=\"dataframe\">\n",
       "  <thead>\n",
       "    <tr style=\"text-align: right;\">\n",
       "      <th></th>\n",
       "      <th>cuisine</th>\n",
       "      <th>id</th>\n",
       "      <th>ingredients</th>\n",
       "    </tr>\n",
       "  </thead>\n",
       "  <tbody>\n",
       "    <tr>\n",
       "      <th>0</th>\n",
       "      <td>       greek</td>\n",
       "      <td> 10259</td>\n",
       "      <td> [romaine lettuce, black olives, grape tomatoes...</td>\n",
       "    </tr>\n",
       "    <tr>\n",
       "      <th>1</th>\n",
       "      <td> southern_us</td>\n",
       "      <td> 25693</td>\n",
       "      <td> [plain flour, ground pepper, salt, tomatoes, g...</td>\n",
       "    </tr>\n",
       "    <tr>\n",
       "      <th>2</th>\n",
       "      <td>    filipino</td>\n",
       "      <td> 20130</td>\n",
       "      <td> [eggs, pepper, salt, mayonaise, cooking oil, g...</td>\n",
       "    </tr>\n",
       "    <tr>\n",
       "      <th>3</th>\n",
       "      <td>      indian</td>\n",
       "      <td> 22213</td>\n",
       "      <td>               [water, vegetable oil, wheat, salt]</td>\n",
       "    </tr>\n",
       "    <tr>\n",
       "      <th>4</th>\n",
       "      <td>      indian</td>\n",
       "      <td> 13162</td>\n",
       "      <td> [black pepper, shallots, cornflour, cayenne pe...</td>\n",
       "    </tr>\n",
       "  </tbody>\n",
       "</table>\n",
       "</div>"
      ],
      "text/plain": [
       "       cuisine     id                                        ingredients\n",
       "0        greek  10259  [romaine lettuce, black olives, grape tomatoes...\n",
       "1  southern_us  25693  [plain flour, ground pepper, salt, tomatoes, g...\n",
       "2     filipino  20130  [eggs, pepper, salt, mayonaise, cooking oil, g...\n",
       "3       indian  22213                [water, vegetable oil, wheat, salt]\n",
       "4       indian  13162  [black pepper, shallots, cornflour, cayenne pe..."
      ]
     },
     "execution_count": 2,
     "metadata": {},
     "output_type": "execute_result"
    }
   ],
   "source": [
    "Training_data = pd.read_json(\"../input/whatscooking/train.json\")\n",
    "print type(Training_data)\n",
    "Training_data.head()"
   ]
  },
  {
   "cell_type": "code",
   "execution_count": 3,
   "metadata": {
    "collapsed": false
   },
   "outputs": [
    {
     "data": {
      "text/html": [
       "<div style=\"max-height:1000px;max-width:1500px;overflow:auto;\">\n",
       "<table border=\"1\" class=\"dataframe\">\n",
       "  <thead>\n",
       "    <tr style=\"text-align: right;\">\n",
       "      <th></th>\n",
       "      <th>cuisine</th>\n",
       "      <th>id</th>\n",
       "      <th>ingredients</th>\n",
       "      <th>str_ingredients</th>\n",
       "    </tr>\n",
       "  </thead>\n",
       "  <tbody>\n",
       "    <tr>\n",
       "      <th>0</th>\n",
       "      <td>       greek</td>\n",
       "      <td> 10259</td>\n",
       "      <td> [romaine lettuce, black olives, grape tomatoes...</td>\n",
       "      <td> romaine lettuce,black olives,grape tomatoes,ga...</td>\n",
       "    </tr>\n",
       "    <tr>\n",
       "      <th>1</th>\n",
       "      <td> southern_us</td>\n",
       "      <td> 25693</td>\n",
       "      <td> [plain flour, ground pepper, salt, tomatoes, g...</td>\n",
       "      <td> plain flour,ground pepper,salt,tomatoes,ground...</td>\n",
       "    </tr>\n",
       "    <tr>\n",
       "      <th>2</th>\n",
       "      <td>    filipino</td>\n",
       "      <td> 20130</td>\n",
       "      <td> [eggs, pepper, salt, mayonaise, cooking oil, g...</td>\n",
       "      <td> eggs,pepper,salt,mayonaise,cooking oil,green c...</td>\n",
       "    </tr>\n",
       "    <tr>\n",
       "      <th>3</th>\n",
       "      <td>      indian</td>\n",
       "      <td> 22213</td>\n",
       "      <td>               [water, vegetable oil, wheat, salt]</td>\n",
       "      <td>                    water,vegetable oil,wheat,salt</td>\n",
       "    </tr>\n",
       "    <tr>\n",
       "      <th>4</th>\n",
       "      <td>      indian</td>\n",
       "      <td> 13162</td>\n",
       "      <td> [black pepper, shallots, cornflour, cayenne pe...</td>\n",
       "      <td> black pepper,shallots,cornflour,cayenne pepper...</td>\n",
       "    </tr>\n",
       "  </tbody>\n",
       "</table>\n",
       "</div>"
      ],
      "text/plain": [
       "       cuisine     id                                        ingredients  \\\n",
       "0        greek  10259  [romaine lettuce, black olives, grape tomatoes...   \n",
       "1  southern_us  25693  [plain flour, ground pepper, salt, tomatoes, g...   \n",
       "2     filipino  20130  [eggs, pepper, salt, mayonaise, cooking oil, g...   \n",
       "3       indian  22213                [water, vegetable oil, wheat, salt]   \n",
       "4       indian  13162  [black pepper, shallots, cornflour, cayenne pe...   \n",
       "\n",
       "                                     str_ingredients  \n",
       "0  romaine lettuce,black olives,grape tomatoes,ga...  \n",
       "1  plain flour,ground pepper,salt,tomatoes,ground...  \n",
       "2  eggs,pepper,salt,mayonaise,cooking oil,green c...  \n",
       "3                     water,vegetable oil,wheat,salt  \n",
       "4  black pepper,shallots,cornflour,cayenne pepper...  "
      ]
     },
     "execution_count": 3,
     "metadata": {},
     "output_type": "execute_result"
    }
   ],
   "source": [
    "Training_data['str_ingredients'] = Training_data.ingredients.apply(lambda x: ','.join(y for y in x))\n",
    "Training_data.head()"
   ]
  },
  {
   "cell_type": "code",
   "execution_count": 4,
   "metadata": {
    "collapsed": false
   },
   "outputs": [
    {
     "data": {
      "text/html": [
       "<div style=\"max-height:1000px;max-width:1500px;overflow:auto;\">\n",
       "<table border=\"1\" class=\"dataframe\">\n",
       "  <thead>\n",
       "    <tr style=\"text-align: right;\">\n",
       "      <th></th>\n",
       "      <th>id</th>\n",
       "    </tr>\n",
       "  </thead>\n",
       "  <tbody>\n",
       "    <tr>\n",
       "      <th>count</th>\n",
       "      <td> 39774.000000</td>\n",
       "    </tr>\n",
       "    <tr>\n",
       "      <th>mean</th>\n",
       "      <td> 24849.536959</td>\n",
       "    </tr>\n",
       "    <tr>\n",
       "      <th>std</th>\n",
       "      <td> 14360.035505</td>\n",
       "    </tr>\n",
       "    <tr>\n",
       "      <th>min</th>\n",
       "      <td>     0.000000</td>\n",
       "    </tr>\n",
       "    <tr>\n",
       "      <th>25%</th>\n",
       "      <td> 12398.250000</td>\n",
       "    </tr>\n",
       "    <tr>\n",
       "      <th>50%</th>\n",
       "      <td> 24887.000000</td>\n",
       "    </tr>\n",
       "    <tr>\n",
       "      <th>75%</th>\n",
       "      <td> 37328.500000</td>\n",
       "    </tr>\n",
       "    <tr>\n",
       "      <th>max</th>\n",
       "      <td> 49717.000000</td>\n",
       "    </tr>\n",
       "  </tbody>\n",
       "</table>\n",
       "</div>"
      ],
      "text/plain": [
       "                 id\n",
       "count  39774.000000\n",
       "mean   24849.536959\n",
       "std    14360.035505\n",
       "min        0.000000\n",
       "25%    12398.250000\n",
       "50%    24887.000000\n",
       "75%    37328.500000\n",
       "max    49717.000000"
      ]
     },
     "execution_count": 4,
     "metadata": {},
     "output_type": "execute_result"
    }
   ],
   "source": [
    "Training_data.describe()"
   ]
  },
  {
   "cell_type": "code",
   "execution_count": 13,
   "metadata": {
    "collapsed": false
   },
   "outputs": [
    {
     "data": {
      "text/html": [
       "<div style=\"max-height:1000px;max-width:1500px;overflow:auto;\">\n",
       "<table border=\"1\" class=\"dataframe\">\n",
       "  <thead>\n",
       "    <tr style=\"text-align: right;\">\n",
       "      <th></th>\n",
       "      <th>cuisine</th>\n",
       "      <th>id</th>\n",
       "      <th>ingredients</th>\n",
       "      <th>str_ingredients</th>\n",
       "    </tr>\n",
       "  </thead>\n",
       "  <tbody>\n",
       "    <tr>\n",
       "      <th>31201</th>\n",
       "      <td>     mexican</td>\n",
       "      <td> 10583</td>\n",
       "      <td> [shredded cheddar cheese, green onions, tortil...</td>\n",
       "      <td> shredded cheddar cheese,green onions,tortillas...</td>\n",
       "    </tr>\n",
       "    <tr>\n",
       "      <th>7760 </th>\n",
       "      <td>     italian</td>\n",
       "      <td> 21523</td>\n",
       "      <td> [condensed cream of chicken soup, grated parme...</td>\n",
       "      <td> condensed cream of chicken soup,grated parmesa...</td>\n",
       "    </tr>\n",
       "    <tr>\n",
       "      <th>18803</th>\n",
       "      <td>   brazilian</td>\n",
       "      <td> 44212</td>\n",
       "      <td> [large eggs, vegetable oil, powdered sugar, wh...</td>\n",
       "      <td> large eggs,vegetable oil,powdered sugar,whole ...</td>\n",
       "    </tr>\n",
       "    <tr>\n",
       "      <th>30801</th>\n",
       "      <td> southern_us</td>\n",
       "      <td> 31291</td>\n",
       "      <td> [cocktail sauce, tiger prawn, old bay seasonin...</td>\n",
       "      <td> cocktail sauce,tiger prawn,old bay seasoning,w...</td>\n",
       "    </tr>\n",
       "    <tr>\n",
       "      <th>13617</th>\n",
       "      <td>       irish</td>\n",
       "      <td> 30334</td>\n",
       "      <td> [chicken stock, beef stock, asparagus spears, ...</td>\n",
       "      <td> chicken stock,beef stock,asparagus spears,zucc...</td>\n",
       "    </tr>\n",
       "  </tbody>\n",
       "</table>\n",
       "</div>"
      ],
      "text/plain": [
       "           cuisine     id                                        ingredients  \\\n",
       "31201      mexican  10583  [shredded cheddar cheese, green onions, tortil...   \n",
       "7760       italian  21523  [condensed cream of chicken soup, grated parme...   \n",
       "18803    brazilian  44212  [large eggs, vegetable oil, powdered sugar, wh...   \n",
       "30801  southern_us  31291  [cocktail sauce, tiger prawn, old bay seasonin...   \n",
       "13617        irish  30334  [chicken stock, beef stock, asparagus spears, ...   \n",
       "\n",
       "                                         str_ingredients  \n",
       "31201  shredded cheddar cheese,green onions,tortillas...  \n",
       "7760   condensed cream of chicken soup,grated parmesa...  \n",
       "18803  large eggs,vegetable oil,powdered sugar,whole ...  \n",
       "30801  cocktail sauce,tiger prawn,old bay seasoning,w...  \n",
       "13617  chicken stock,beef stock,asparagus spears,zucc...  "
      ]
     },
     "execution_count": 13,
     "metadata": {},
     "output_type": "execute_result"
    }
   ],
   "source": [
    "from sklearn.cross_validation import train_test_split\n",
    "train, test = train_test_split(Training_data, test_size = 0.2)\n",
    "train.head()"
   ]
  },
  {
   "cell_type": "code",
   "execution_count": 14,
   "metadata": {
    "collapsed": false
   },
   "outputs": [
    {
     "data": {
      "text/html": [
       "<div style=\"max-height:1000px;max-width:1500px;overflow:auto;\">\n",
       "<table border=\"1\" class=\"dataframe\">\n",
       "  <thead>\n",
       "    <tr style=\"text-align: right;\">\n",
       "      <th></th>\n",
       "      <th>id</th>\n",
       "    </tr>\n",
       "  </thead>\n",
       "  <tbody>\n",
       "    <tr>\n",
       "      <th>count</th>\n",
       "      <td> 31819.000000</td>\n",
       "    </tr>\n",
       "    <tr>\n",
       "      <th>mean</th>\n",
       "      <td> 24851.262862</td>\n",
       "    </tr>\n",
       "    <tr>\n",
       "      <th>std</th>\n",
       "      <td> 14362.853880</td>\n",
       "    </tr>\n",
       "    <tr>\n",
       "      <th>min</th>\n",
       "      <td>     1.000000</td>\n",
       "    </tr>\n",
       "    <tr>\n",
       "      <th>25%</th>\n",
       "      <td> 12383.500000</td>\n",
       "    </tr>\n",
       "    <tr>\n",
       "      <th>50%</th>\n",
       "      <td> 24934.000000</td>\n",
       "    </tr>\n",
       "    <tr>\n",
       "      <th>75%</th>\n",
       "      <td> 37370.500000</td>\n",
       "    </tr>\n",
       "    <tr>\n",
       "      <th>max</th>\n",
       "      <td> 49716.000000</td>\n",
       "    </tr>\n",
       "  </tbody>\n",
       "</table>\n",
       "</div>"
      ],
      "text/plain": [
       "                 id\n",
       "count  31819.000000\n",
       "mean   24851.262862\n",
       "std    14362.853880\n",
       "min        1.000000\n",
       "25%    12383.500000\n",
       "50%    24934.000000\n",
       "75%    37370.500000\n",
       "max    49716.000000"
      ]
     },
     "execution_count": 14,
     "metadata": {},
     "output_type": "execute_result"
    }
   ],
   "source": [
    "train.describe()"
   ]
  },
  {
   "cell_type": "code",
   "execution_count": 15,
   "metadata": {
    "collapsed": false
   },
   "outputs": [
    {
     "data": {
      "text/html": [
       "<div style=\"max-height:1000px;max-width:1500px;overflow:auto;\">\n",
       "<table border=\"1\" class=\"dataframe\">\n",
       "  <thead>\n",
       "    <tr style=\"text-align: right;\">\n",
       "      <th></th>\n",
       "      <th>cuisine</th>\n",
       "      <th>id</th>\n",
       "      <th>ingredients</th>\n",
       "      <th>str_ingredients</th>\n",
       "    </tr>\n",
       "  </thead>\n",
       "  <tbody>\n",
       "    <tr>\n",
       "      <th>5713 </th>\n",
       "      <td>  moroccan</td>\n",
       "      <td> 44758</td>\n",
       "      <td> [ground black pepper, garlic cloves, purple on...</td>\n",
       "      <td> ground black pepper,garlic cloves,purple onion...</td>\n",
       "    </tr>\n",
       "    <tr>\n",
       "      <th>25431</th>\n",
       "      <td>   italian</td>\n",
       "      <td> 45132</td>\n",
       "      <td> [pepper, marinara sauce, yellow onion, roasted...</td>\n",
       "      <td> pepper,marinara sauce,yellow onion,roasted red...</td>\n",
       "    </tr>\n",
       "    <tr>\n",
       "      <th>21306</th>\n",
       "      <td> brazilian</td>\n",
       "      <td>  6741</td>\n",
       "      <td>             [granulated sugar, key lime, cachaca]</td>\n",
       "      <td>                 granulated sugar,key lime,cachaca</td>\n",
       "    </tr>\n",
       "    <tr>\n",
       "      <th>35098</th>\n",
       "      <td>  filipino</td>\n",
       "      <td> 28945</td>\n",
       "      <td> [worcestershire sauce, onions, water, ground m...</td>\n",
       "      <td> worcestershire sauce,onions,water,ground musta...</td>\n",
       "    </tr>\n",
       "    <tr>\n",
       "      <th>2903 </th>\n",
       "      <td>   mexican</td>\n",
       "      <td> 10620</td>\n",
       "      <td> [lettuce, pie shell, onions, cheese, sour crea...</td>\n",
       "      <td> lettuce,pie shell,onions,cheese,sour cream,tom...</td>\n",
       "    </tr>\n",
       "  </tbody>\n",
       "</table>\n",
       "</div>"
      ],
      "text/plain": [
       "         cuisine     id                                        ingredients  \\\n",
       "5713    moroccan  44758  [ground black pepper, garlic cloves, purple on...   \n",
       "25431    italian  45132  [pepper, marinara sauce, yellow onion, roasted...   \n",
       "21306  brazilian   6741              [granulated sugar, key lime, cachaca]   \n",
       "35098   filipino  28945  [worcestershire sauce, onions, water, ground m...   \n",
       "2903     mexican  10620  [lettuce, pie shell, onions, cheese, sour crea...   \n",
       "\n",
       "                                         str_ingredients  \n",
       "5713   ground black pepper,garlic cloves,purple onion...  \n",
       "25431  pepper,marinara sauce,yellow onion,roasted red...  \n",
       "21306                  granulated sugar,key lime,cachaca  \n",
       "35098  worcestershire sauce,onions,water,ground musta...  \n",
       "2903   lettuce,pie shell,onions,cheese,sour cream,tom...  "
      ]
     },
     "execution_count": 15,
     "metadata": {},
     "output_type": "execute_result"
    }
   ],
   "source": [
    "test.head()"
   ]
  },
  {
   "cell_type": "code",
   "execution_count": 16,
   "metadata": {
    "collapsed": false
   },
   "outputs": [
    {
     "data": {
      "text/html": [
       "<div style=\"max-height:1000px;max-width:1500px;overflow:auto;\">\n",
       "<table border=\"1\" class=\"dataframe\">\n",
       "  <thead>\n",
       "    <tr style=\"text-align: right;\">\n",
       "      <th></th>\n",
       "      <th>id</th>\n",
       "    </tr>\n",
       "  </thead>\n",
       "  <tbody>\n",
       "    <tr>\n",
       "      <th>count</th>\n",
       "      <td>  7955.000000</td>\n",
       "    </tr>\n",
       "    <tr>\n",
       "      <th>mean</th>\n",
       "      <td> 24842.633564</td>\n",
       "    </tr>\n",
       "    <tr>\n",
       "      <th>std</th>\n",
       "      <td> 14349.657060</td>\n",
       "    </tr>\n",
       "    <tr>\n",
       "      <th>min</th>\n",
       "      <td>     0.000000</td>\n",
       "    </tr>\n",
       "    <tr>\n",
       "      <th>25%</th>\n",
       "      <td> 12454.000000</td>\n",
       "    </tr>\n",
       "    <tr>\n",
       "      <th>50%</th>\n",
       "      <td> 24696.000000</td>\n",
       "    </tr>\n",
       "    <tr>\n",
       "      <th>75%</th>\n",
       "      <td> 37163.500000</td>\n",
       "    </tr>\n",
       "    <tr>\n",
       "      <th>max</th>\n",
       "      <td> 49717.000000</td>\n",
       "    </tr>\n",
       "  </tbody>\n",
       "</table>\n",
       "</div>"
      ],
      "text/plain": [
       "                 id\n",
       "count   7955.000000\n",
       "mean   24842.633564\n",
       "std    14349.657060\n",
       "min        0.000000\n",
       "25%    12454.000000\n",
       "50%    24696.000000\n",
       "75%    37163.500000\n",
       "max    49717.000000"
      ]
     },
     "execution_count": 16,
     "metadata": {},
     "output_type": "execute_result"
    }
   ],
   "source": [
    "test.describe()"
   ]
  },
  {
   "cell_type": "code",
   "execution_count": 17,
   "metadata": {
    "collapsed": false
   },
   "outputs": [
    {
     "data": {
      "text/html": [
       "<div style=\"max-height:1000px;max-width:1500px;overflow:auto;\">\n",
       "<table border=\"1\" class=\"dataframe\">\n",
       "  <thead>\n",
       "    <tr style=\"text-align: right;\">\n",
       "      <th></th>\n",
       "      <th>id</th>\n",
       "      <th>ingredients</th>\n",
       "      <th>str_ingredients</th>\n",
       "    </tr>\n",
       "    <tr>\n",
       "      <th>cuisine</th>\n",
       "      <th></th>\n",
       "      <th></th>\n",
       "      <th></th>\n",
       "    </tr>\n",
       "  </thead>\n",
       "  <tbody>\n",
       "    <tr>\n",
       "      <th>italian</th>\n",
       "      <td> 7838</td>\n",
       "      <td> 7838</td>\n",
       "      <td> 7838</td>\n",
       "    </tr>\n",
       "    <tr>\n",
       "      <th>mexican</th>\n",
       "      <td> 6438</td>\n",
       "      <td> 6438</td>\n",
       "      <td> 6438</td>\n",
       "    </tr>\n",
       "    <tr>\n",
       "      <th>southern_us</th>\n",
       "      <td> 4320</td>\n",
       "      <td> 4320</td>\n",
       "      <td> 4320</td>\n",
       "    </tr>\n",
       "    <tr>\n",
       "      <th>indian</th>\n",
       "      <td> 3003</td>\n",
       "      <td> 3003</td>\n",
       "      <td> 3003</td>\n",
       "    </tr>\n",
       "    <tr>\n",
       "      <th>chinese</th>\n",
       "      <td> 2673</td>\n",
       "      <td> 2673</td>\n",
       "      <td> 2673</td>\n",
       "    </tr>\n",
       "  </tbody>\n",
       "</table>\n",
       "</div>"
      ],
      "text/plain": [
       "               id  ingredients  str_ingredients\n",
       "cuisine                                        \n",
       "italian      7838         7838             7838\n",
       "mexican      6438         6438             6438\n",
       "southern_us  4320         4320             4320\n",
       "indian       3003         3003             3003\n",
       "chinese      2673         2673             2673"
      ]
     },
     "execution_count": 17,
     "metadata": {},
     "output_type": "execute_result"
    }
   ],
   "source": [
    "cuisines = Training_data.groupby(\"cuisine\").count().sort(\"id\", ascending=False)\n",
    "cuisines.head()"
   ]
  },
  {
   "cell_type": "code",
   "execution_count": 18,
   "metadata": {
    "collapsed": false
   },
   "outputs": [
    {
     "data": {
      "image/png": "[encoded data removed]",
      "text/plain": [
       "<matplotlib.figure.Figure at 0x110537490>"
      ]
     },
     "metadata": {},
     "output_type": "display_data"
    }
   ],
   "source": [
    "i = range(cuisines.count().ingredients)\n",
    "plt.bar(i, cuisines.ingredients, label='Number of recipes')\n",
    "plt.ylabel('total number of recipes')\n",
    "plt.title('Number of recipes by type of cuisine')\n",
    "plt.xticks(i, cuisines.index.values, rotation='vertical')\n",
    "plt.legend(loc='upper right')\n",
    "plt.show()"
   ]
  },
  {
   "cell_type": "code",
   "execution_count": 19,
   "metadata": {
    "collapsed": false
   },
   "outputs": [
    {
     "data": {
      "text/plain": [
       "0    [romaine lettuce, black olives, grape tomatoes...\n",
       "1    [plain flour, ground pepper, salt, tomatoes, g...\n",
       "2    [eggs, pepper, salt, mayonaise, cooking oil, g...\n",
       "3                  [water, vegetable oil, wheat, salt]\n",
       "4    [black pepper, shallots, cornflour, cayenne pe...\n",
       "Name: ingredients, dtype: object"
      ]
     },
     "execution_count": 19,
     "metadata": {},
     "output_type": "execute_result"
    }
   ],
   "source": [
    "Training_data.ingredients.head()"
   ]
  },
  {
   "cell_type": "code",
   "execution_count": 20,
   "metadata": {
    "collapsed": false
   },
   "outputs": [
    {
     "name": "stdout",
     "output_type": "stream",
     "text": [
      "num_recipes    6714\n",
      "dtype: int64\n"
     ]
    },
    {
     "data": {
      "text/html": [
       "<div style=\"max-height:1000px;max-width:1500px;overflow:auto;\">\n",
       "<table border=\"1\" class=\"dataframe\">\n",
       "  <thead>\n",
       "    <tr style=\"text-align: right;\">\n",
       "      <th></th>\n",
       "      <th>num_recipes</th>\n",
       "    </tr>\n",
       "  </thead>\n",
       "  <tbody>\n",
       "    <tr>\n",
       "      <th>low-sodium fat-free chicken broth</th>\n",
       "      <td> 22</td>\n",
       "    </tr>\n",
       "    <tr>\n",
       "      <th>sweetened coconut</th>\n",
       "      <td>  3</td>\n",
       "    </tr>\n",
       "    <tr>\n",
       "      <th>baking chocolate</th>\n",
       "      <td>  3</td>\n",
       "    </tr>\n",
       "    <tr>\n",
       "      <th>egg roll wrappers</th>\n",
       "      <td> 57</td>\n",
       "    </tr>\n",
       "    <tr>\n",
       "      <th>bottled low sodium salsa</th>\n",
       "      <td>  1</td>\n",
       "    </tr>\n",
       "  </tbody>\n",
       "</table>\n",
       "</div>"
      ],
      "text/plain": [
       "                                   num_recipes\n",
       "low-sodium fat-free chicken broth           22\n",
       "sweetened coconut                            3\n",
       "baking chocolate                             3\n",
       "egg roll wrappers                           57\n",
       "bottled low sodium salsa                     1"
      ]
     },
     "execution_count": 20,
     "metadata": {},
     "output_type": "execute_result"
    }
   ],
   "source": [
    "import itertools\n",
    "global_pantry = pd.DataFrame.from_dict({key:len(list(group)) for key, group in itertools.groupby(sorted(list(itertools.chain.from_iterable(Training_data.ingredients))))}, orient='index')\n",
    "global_pantry.columns = ['num_recipes']\n",
    "print global_pantry.count()\n",
    "global_pantry.head()"
   ]
  },
  {
   "cell_type": "code",
   "execution_count": 21,
   "metadata": {
    "collapsed": false
   },
   "outputs": [
    {
     "data": {
      "text/html": [
       "<div style=\"max-height:1000px;max-width:1500px;overflow:auto;\">\n",
       "<table border=\"1\" class=\"dataframe\">\n",
       "  <thead>\n",
       "    <tr style=\"text-align: right;\">\n",
       "      <th></th>\n",
       "      <th>num_recipes</th>\n",
       "    </tr>\n",
       "  </thead>\n",
       "  <tbody>\n",
       "    <tr>\n",
       "      <th>salt</th>\n",
       "      <td> 18049</td>\n",
       "    </tr>\n",
       "    <tr>\n",
       "      <th>onions</th>\n",
       "      <td>  7972</td>\n",
       "    </tr>\n",
       "    <tr>\n",
       "      <th>olive oil</th>\n",
       "      <td>  7972</td>\n",
       "    </tr>\n",
       "    <tr>\n",
       "      <th>water</th>\n",
       "      <td>  7457</td>\n",
       "    </tr>\n",
       "    <tr>\n",
       "      <th>garlic</th>\n",
       "      <td>  7380</td>\n",
       "    </tr>\n",
       "  </tbody>\n",
       "</table>\n",
       "</div>"
      ],
      "text/plain": [
       "           num_recipes\n",
       "salt             18049\n",
       "onions            7972\n",
       "olive oil         7972\n",
       "water             7457\n",
       "garlic            7380"
      ]
     },
     "execution_count": 21,
     "metadata": {},
     "output_type": "execute_result"
    }
   ],
   "source": [
    "global_pantry = global_pantry.sort('num_recipes', ascending=False)\n",
    "global_pantry.head()"
   ]
  },
  {
   "cell_type": "code",
   "execution_count": 22,
   "metadata": {
    "collapsed": false
   },
   "outputs": [
    {
     "data": {
      "text/html": [
       "<div style=\"max-height:1000px;max-width:1500px;overflow:auto;\">\n",
       "<table border=\"1\" class=\"dataframe\">\n",
       "  <thead>\n",
       "    <tr style=\"text-align: right;\">\n",
       "      <th></th>\n",
       "      <th>num_recipes</th>\n",
       "    </tr>\n",
       "  </thead>\n",
       "  <tbody>\n",
       "    <tr>\n",
       "      <th>Wish-Bone® Robusto Italian Dressing</th>\n",
       "      <td> 1</td>\n",
       "    </tr>\n",
       "    <tr>\n",
       "      <th>moose</th>\n",
       "      <td> 1</td>\n",
       "    </tr>\n",
       "    <tr>\n",
       "      <th>whole crab</th>\n",
       "      <td> 1</td>\n",
       "    </tr>\n",
       "    <tr>\n",
       "      <th>Knorr Beef Stock Cubes</th>\n",
       "      <td> 1</td>\n",
       "    </tr>\n",
       "    <tr>\n",
       "      <th>cinnamon graham crackers</th>\n",
       "      <td> 1</td>\n",
       "    </tr>\n",
       "  </tbody>\n",
       "</table>\n",
       "</div>"
      ],
      "text/plain": [
       "                                     num_recipes\n",
       "Wish-Bone® Robusto Italian Dressing            1\n",
       "moose                                          1\n",
       "whole crab                                     1\n",
       "Knorr Beef Stock Cubes                         1\n",
       "cinnamon graham crackers                       1"
      ]
     },
     "execution_count": 22,
     "metadata": {},
     "output_type": "execute_result"
    }
   ],
   "source": [
    "global_pantry.tail()"
   ]
  },
  {
   "cell_type": "code",
   "execution_count": 23,
   "metadata": {
    "collapsed": false
   },
   "outputs": [
    {
     "data": {
      "text/plain": [
       "array([u'salt', u'onions', u'olive oil', ..., u'whole crab',\n",
       "       u'Knorr Beef Stock Cubes', u'cinnamon graham crackers'], dtype=object)"
      ]
     },
     "execution_count": 23,
     "metadata": {},
     "output_type": "execute_result"
    }
   ],
   "source": [
    "global_pantry.index.values"
   ]
  },
  {
   "cell_type": "code",
   "execution_count": 24,
   "metadata": {
    "collapsed": false
   },
   "outputs": [
    {
     "data": {
      "image/png": "[encoded data removed]",
      "text/plain": [
       "<matplotlib.figure.Figure at 0x110ae8fd0>"
      ]
     },
     "metadata": {},
     "output_type": "display_data"
    }
   ],
   "source": [
    "plt.plot(global_pantry.num_recipes)\n",
    "plt.yscale('log')\n",
    "plt.xlabel('ingredients sorted by frequency')\n",
    "plt.ylabel('number of recipes')\n",
    "plt.show()"
   ]
  },
  {
   "cell_type": "code",
   "execution_count": 25,
   "metadata": {
    "collapsed": false
   },
   "outputs": [
    {
     "data": {
      "image/png": "[encoded data removed]",
      "text/plain": [
       "<matplotlib.figure.Figure at 0x110942a90>"
      ]
     },
     "metadata": {},
     "output_type": "display_data"
    }
   ],
   "source": [
    "# Histogram of ingredients's frequency\n",
    "plt.hist(global_pantry.num_recipes, bins=25, normed=True, log=True, label=\"Frequency histogram of ALL ingredients\")\n",
    "plt.legend(loc='upper right')\n",
    "plt.show()"
   ]
  },
  {
   "cell_type": "code",
   "execution_count": 26,
   "metadata": {
    "collapsed": false
   },
   "outputs": [
    {
     "data": {
      "image/png": "[encoded data removed]",
      "text/plain": [
       "<matplotlib.figure.Figure at 0x1121353d0>"
      ]
     },
     "metadata": {},
     "output_type": "display_data"
    }
   ],
   "source": [
    "N_ingredients = 20\n",
    "i = range(N_ingredients)\n",
    "plt.bar(i, global_pantry.num_recipes[:N_ingredients], label='Top {} ingredients'.format(N_ingredients))\n",
    "plt.ylabel('total number of recipes')\n",
    "plt.title('Number of recipes that include the top {} ingredients'.format(N_ingredients))\n",
    "plt.xticks(i, global_pantry.index.values[:N_ingredients], rotation='vertical')\n",
    "plt.legend(loc='upper right')\n",
    "plt.show()"
   ]
  },
  {
   "cell_type": "code",
   "execution_count": 27,
   "metadata": {
    "collapsed": false
   },
   "outputs": [
    {
     "data": {
      "image/png": "[encoded data removed]",
      "text/plain": [
       "<matplotlib.figure.Figure at 0x112100f50>"
      ]
     },
     "metadata": {},
     "output_type": "display_data"
    }
   ],
   "source": [
    "N_ingredients = 20\n",
    "i = range(N_ingredients)\n",
    "plt.bar(i, global_pantry.num_recipes[-N_ingredients:], label='Bottom {} ingredients'.format(N_ingredients))\n",
    "plt.ylabel('total number of recipes')\n",
    "plt.title('Number of recipes that include the bottom {} ingredients'.format(N_ingredients))\n",
    "plt.xticks(i, global_pantry.index.values[-N_ingredients:], rotation='vertical')\n",
    "plt.legend(loc='upper right')\n",
    "plt.show()"
   ]
  },
  {
   "cell_type": "code",
   "execution_count": 28,
   "metadata": {
    "collapsed": false
   },
   "outputs": [
    {
     "data": {
      "text/plain": [
       "TfidfVectorizer(analyzer=u'word', binary=False, decode_error=u'strict',\n",
       "        dtype=<type 'numpy.int64'>, encoding=u'utf-8', input=u'content',\n",
       "        lowercase=True, max_df=1.0, max_features=None, min_df=1,\n",
       "        ngram_range=(1, 1), norm=u'l2', preprocessor=None, smooth_idf=True,\n",
       "        stop_words=None, strip_accents=None, sublinear_tf=True,\n",
       "        token_pattern=u'(?u)\\\\b\\\\w\\\\w+\\\\b', tokenizer=None, use_idf=True,\n",
       "        vocabulary=array([u'salt', u'onions', ..., u'Knorr Beef Stock Cubes',\n",
       "       u'cinnamon graham crackers'], dtype=object))"
      ]
     },
     "execution_count": 28,
     "metadata": {},
     "output_type": "execute_result"
    }
   ],
   "source": [
    "from sklearn.feature_extraction.text import HashingVectorizer, CountVectorizer, TfidfVectorizer\n",
    "vect = TfidfVectorizer(sublinear_tf=True, vocabulary=global_pantry.index.values)\n",
    "vect"
   ]
  },
  {
   "cell_type": "code",
   "execution_count": 39,
   "metadata": {
    "collapsed": false
   },
   "outputs": [
    {
     "data": {
      "text/plain": [
       "array([u'salt', u'onions', u'olive oil', ..., u'whole crab',\n",
       "       u'Knorr Beef Stock Cubes', u'cinnamon graham crackers'], dtype=object)"
      ]
     },
     "execution_count": 39,
     "metadata": {},
     "output_type": "execute_result"
    }
   ],
   "source": [
    "vect.vocabulary"
   ]
  },
  {
   "cell_type": "code",
   "execution_count": 40,
   "metadata": {
    "collapsed": false
   },
   "outputs": [
    {
     "data": {
      "text/html": [
       "<div style=\"max-height:1000px;max-width:1500px;overflow:auto;\">\n",
       "<table border=\"1\" class=\"dataframe\">\n",
       "  <thead>\n",
       "    <tr style=\"text-align: right;\">\n",
       "      <th></th>\n",
       "      <th>cuisine</th>\n",
       "      <th>id</th>\n",
       "      <th>ingredients</th>\n",
       "      <th>str_ingredients</th>\n",
       "    </tr>\n",
       "  </thead>\n",
       "  <tbody>\n",
       "    <tr>\n",
       "      <th>31201</th>\n",
       "      <td>     mexican</td>\n",
       "      <td> 10583</td>\n",
       "      <td> [shredded cheddar cheese, green onions, tortil...</td>\n",
       "      <td> shredded cheddar cheese,green onions,tortillas...</td>\n",
       "    </tr>\n",
       "    <tr>\n",
       "      <th>7760 </th>\n",
       "      <td>     italian</td>\n",
       "      <td> 21523</td>\n",
       "      <td> [condensed cream of chicken soup, grated parme...</td>\n",
       "      <td> condensed cream of chicken soup,grated parmesa...</td>\n",
       "    </tr>\n",
       "    <tr>\n",
       "      <th>18803</th>\n",
       "      <td>   brazilian</td>\n",
       "      <td> 44212</td>\n",
       "      <td> [large eggs, vegetable oil, powdered sugar, wh...</td>\n",
       "      <td> large eggs,vegetable oil,powdered sugar,whole ...</td>\n",
       "    </tr>\n",
       "    <tr>\n",
       "      <th>30801</th>\n",
       "      <td> southern_us</td>\n",
       "      <td> 31291</td>\n",
       "      <td> [cocktail sauce, tiger prawn, old bay seasonin...</td>\n",
       "      <td> cocktail sauce,tiger prawn,old bay seasoning,w...</td>\n",
       "    </tr>\n",
       "    <tr>\n",
       "      <th>13617</th>\n",
       "      <td>       irish</td>\n",
       "      <td> 30334</td>\n",
       "      <td> [chicken stock, beef stock, asparagus spears, ...</td>\n",
       "      <td> chicken stock,beef stock,asparagus spears,zucc...</td>\n",
       "    </tr>\n",
       "  </tbody>\n",
       "</table>\n",
       "</div>"
      ],
      "text/plain": [
       "           cuisine     id                                        ingredients  \\\n",
       "31201      mexican  10583  [shredded cheddar cheese, green onions, tortil...   \n",
       "7760       italian  21523  [condensed cream of chicken soup, grated parme...   \n",
       "18803    brazilian  44212  [large eggs, vegetable oil, powdered sugar, wh...   \n",
       "30801  southern_us  31291  [cocktail sauce, tiger prawn, old bay seasonin...   \n",
       "13617        irish  30334  [chicken stock, beef stock, asparagus spears, ...   \n",
       "\n",
       "                                         str_ingredients  \n",
       "31201  shredded cheddar cheese,green onions,tortillas...  \n",
       "7760   condensed cream of chicken soup,grated parmesa...  \n",
       "18803  large eggs,vegetable oil,powdered sugar,whole ...  \n",
       "30801  cocktail sauce,tiger prawn,old bay seasoning,w...  \n",
       "13617  chicken stock,beef stock,asparagus spears,zucc...  "
      ]
     },
     "execution_count": 40,
     "metadata": {},
     "output_type": "execute_result"
    }
   ],
   "source": [
    "train.head()"
   ]
  },
  {
   "cell_type": "code",
   "execution_count": 41,
   "metadata": {
    "collapsed": false
   },
   "outputs": [
    {
     "data": {
      "text/plain": [
       "<31819x6714 sparse matrix of type '<type 'numpy.float64'>'\n",
       "\twith 364274 stored elements in Compressed Sparse Row format>"
      ]
     },
     "execution_count": 41,
     "metadata": {},
     "output_type": "execute_result"
    }
   ],
   "source": [
    "X_train = vect.fit_transform(train.str_ingredients)\n",
    "X_train"
   ]
  },
  {
   "cell_type": "code",
   "execution_count": 42,
   "metadata": {
    "collapsed": false
   },
   "outputs": [
    {
     "data": {
      "text/plain": [
       "array([  1.5169727,   2.2239703,  11.3678503, ...,  11.3678503,\n",
       "        11.3678503,  11.3678503])"
      ]
     },
     "execution_count": 42,
     "metadata": {},
     "output_type": "execute_result"
    }
   ],
   "source": [
    "vect.idf_"
   ]
  },
  {
   "cell_type": "code",
   "execution_count": 43,
   "metadata": {
    "collapsed": false
   },
   "outputs": [],
   "source": [
    "Y_train = train.cuisine"
   ]
  },
  {
   "cell_type": "code",
   "execution_count": 44,
   "metadata": {
    "collapsed": false
   },
   "outputs": [
    {
     "data": {
      "text/plain": [
       "<7955x6714 sparse matrix of type '<type 'numpy.float64'>'\n",
       "\twith 91886 stored elements in Compressed Sparse Row format>"
      ]
     },
     "execution_count": 44,
     "metadata": {},
     "output_type": "execute_result"
    }
   ],
   "source": [
    "X_test = vect.transform(test.str_ingredients)\n",
    "X_test"
   ]
  },
  {
   "cell_type": "code",
   "execution_count": 45,
   "metadata": {
    "collapsed": false
   },
   "outputs": [
    {
     "data": {
      "text/plain": [
       "array([u'italian', u'italian', u'brazilian', ..., u'french', u'indian',\n",
       "       u'mexican'], dtype=object)"
      ]
     },
     "execution_count": 45,
     "metadata": {},
     "output_type": "execute_result"
    }
   ],
   "source": [
    "from sklearn.ensemble import RandomForestClassifier\n",
    "classifier = RandomForestClassifier(n_estimators=100)\n",
    "classifier.fit(X_train, Y_train)"
   ]
  },
  {
   "cell_type": "code",
   "execution_count": 55,
   "metadata": {
    "collapsed": false
   },
   "outputs": [
    {
     "name": "stdout",
     "output_type": "stream",
     "text": [
      "<type 'numpy.ndarray'>\n"
     ]
    },
    {
     "data": {
      "text/plain": [
       "array([u'italian', u'italian', u'brazilian', ..., u'french', u'indian',\n",
       "       u'mexican'], dtype=object)"
      ]
     },
     "execution_count": 55,
     "metadata": {},
     "output_type": "execute_result"
    }
   ],
   "source": [
    "predictions = classifier.predict(X_test)\n",
    "print type(predictions)\n",
    "predictions"
   ]
  },
  {
   "cell_type": "code",
   "execution_count": 56,
   "metadata": {
    "collapsed": false
   },
   "outputs": [
    {
     "data": {
      "text/plain": [
       "'Total: 7955, Correct: 5878, Accuracy: 73.8906348209'"
      ]
     },
     "execution_count": 56,
     "metadata": {},
     "output_type": "execute_result"
    }
   ],
   "source": [
    "prediction_comparison = predictions==test.cuisine\n",
    "total = prediction_comparison.count()\n",
    "true = prediction_comparison.sum()\n",
    "accuracy = (100.0 * true)/total\n",
    "\"Total: {}, Correct: {}, Accuracy: {}\".format(total, true, accuracy)"
   ]
  },
  {
   "cell_type": "code",
   "execution_count": 67,
   "metadata": {
    "collapsed": false
   },
   "outputs": [
    {
     "data": {
      "text/plain": [
       "<9944x6714 sparse matrix of type '<type 'numpy.float64'>'\n",
       "\twith 114350 stored elements in Compressed Sparse Row format>"
      ]
     },
     "execution_count": 67,
     "metadata": {},
     "output_type": "execute_result"
    }
   ],
   "source": [
    "Testing_data = pd.read_json(\"../input/whatscooking/test.json\")\n",
    "Testing_data['str_ingredients'] = Testing_data.ingredients.apply(lambda x: ','.join(y for y in x))\n",
    "Testing_data.describe()\n",
    "X_Test = vect.transform(Testing_data.str_ingredients)\n",
    "X_Test"
   ]
  },
  {
   "cell_type": "code",
   "execution_count": 68,
   "metadata": {
    "collapsed": false
   },
   "outputs": [
    {
     "data": {
      "text/plain": [
       "array([u'irish', u'southern_us', u'italian', ..., u'italian',\n",
       "       u'southern_us', u'mexican'], dtype=object)"
      ]
     },
     "execution_count": 68,
     "metadata": {},
     "output_type": "execute_result"
    }
   ],
   "source": [
    "Predictions = classifier.predict(X_Test)\n",
    "Predictions"
   ]
  },
  {
   "cell_type": "code",
   "execution_count": 81,
   "metadata": {
    "collapsed": false
   },
   "outputs": [
    {
     "name": "stdout",
     "output_type": "stream",
     "text": [
      "<class 'pandas.core.frame.DataFrame'>\n"
     ]
    },
    {
     "data": {
      "text/html": [
       "<div style=\"max-height:1000px;max-width:1500px;overflow:auto;\">\n",
       "<table border=\"1\" class=\"dataframe\">\n",
       "  <thead>\n",
       "    <tr style=\"text-align: right;\">\n",
       "      <th></th>\n",
       "      <th>id</th>\n",
       "      <th>ingredients</th>\n",
       "      <th>str_ingredients</th>\n",
       "    </tr>\n",
       "  </thead>\n",
       "  <tbody>\n",
       "    <tr>\n",
       "      <th>0   </th>\n",
       "      <td> 18009</td>\n",
       "      <td> [baking powder, eggs, all-purpose flour, raisi...</td>\n",
       "      <td> baking powder,eggs,all-purpose flour,raisins,m...</td>\n",
       "    </tr>\n",
       "    <tr>\n",
       "      <th>1   </th>\n",
       "      <td> 28583</td>\n",
       "      <td> [sugar, egg yolks, corn starch, cream of tarta...</td>\n",
       "      <td> sugar,egg yolks,corn starch,cream of tartar,ba...</td>\n",
       "    </tr>\n",
       "    <tr>\n",
       "      <th>2   </th>\n",
       "      <td> 41580</td>\n",
       "      <td> [sausage links, fennel bulb, fronds, olive oil...</td>\n",
       "      <td> sausage links,fennel bulb,fronds,olive oil,cub...</td>\n",
       "    </tr>\n",
       "    <tr>\n",
       "      <th>3   </th>\n",
       "      <td> 29752</td>\n",
       "      <td> [meat cuts, file powder, smoked sausage, okra,...</td>\n",
       "      <td> meat cuts,file powder,smoked sausage,okra,shri...</td>\n",
       "    </tr>\n",
       "    <tr>\n",
       "      <th>4   </th>\n",
       "      <td> 35687</td>\n",
       "      <td> [ground black pepper, salt, sausage casings, l...</td>\n",
       "      <td> ground black pepper,salt,sausage casings,leeks...</td>\n",
       "    </tr>\n",
       "    <tr>\n",
       "      <th>5   </th>\n",
       "      <td> 38527</td>\n",
       "      <td> [baking powder, all-purpose flour, peach slice...</td>\n",
       "      <td> baking powder,all-purpose flour,peach slices,c...</td>\n",
       "    </tr>\n",
       "    <tr>\n",
       "      <th>6   </th>\n",
       "      <td> 19666</td>\n",
       "      <td>            [grape juice, orange, white zinfandel]</td>\n",
       "      <td>                grape juice,orange,white zinfandel</td>\n",
       "    </tr>\n",
       "    <tr>\n",
       "      <th>7   </th>\n",
       "      <td> 41217</td>\n",
       "      <td> [ground ginger, white pepper, green onions, or...</td>\n",
       "      <td> ground ginger,white pepper,green onions,orange...</td>\n",
       "    </tr>\n",
       "    <tr>\n",
       "      <th>8   </th>\n",
       "      <td> 28753</td>\n",
       "      <td> [diced onions, taco seasoning mix, all-purpose...</td>\n",
       "      <td> diced onions,taco seasoning mix,all-purpose fl...</td>\n",
       "    </tr>\n",
       "    <tr>\n",
       "      <th>9   </th>\n",
       "      <td> 22659</td>\n",
       "      <td> [eggs, cherries, dates, dark muscovado sugar, ...</td>\n",
       "      <td> eggs,cherries,dates,dark muscovado sugar,groun...</td>\n",
       "    </tr>\n",
       "    <tr>\n",
       "      <th>10  </th>\n",
       "      <td> 21749</td>\n",
       "      <td> [pasta, olive oil, crushed red pepper, cherry ...</td>\n",
       "      <td> pasta,olive oil,crushed red pepper,cherry toma...</td>\n",
       "    </tr>\n",
       "    <tr>\n",
       "      <th>11  </th>\n",
       "      <td> 44967</td>\n",
       "      <td> [water, butter, ground sumac, ground lamb, gro...</td>\n",
       "      <td> water,butter,ground sumac,ground lamb,ground c...</td>\n",
       "    </tr>\n",
       "    <tr>\n",
       "      <th>12  </th>\n",
       "      <td> 42969</td>\n",
       "      <td> [curry powder, ground cumin, chicken wings, ch...</td>\n",
       "      <td> curry powder,ground cumin,chicken wings,choppe...</td>\n",
       "    </tr>\n",
       "    <tr>\n",
       "      <th>13  </th>\n",
       "      <td> 44883</td>\n",
       "      <td> [pasta, marinara sauce, dried basil, chicken f...</td>\n",
       "      <td> pasta,marinara sauce,dried basil,chicken finge...</td>\n",
       "    </tr>\n",
       "    <tr>\n",
       "      <th>14  </th>\n",
       "      <td> 20827</td>\n",
       "      <td> [salt, custard powder, white sugar, eggs, marg...</td>\n",
       "      <td> salt,custard powder,white sugar,eggs,margarine...</td>\n",
       "    </tr>\n",
       "    <tr>\n",
       "      <th>15  </th>\n",
       "      <td> 23196</td>\n",
       "      <td> [vegetable oil cooking spray, egg whites, apri...</td>\n",
       "      <td> vegetable oil cooking spray,egg whites,apricot...</td>\n",
       "    </tr>\n",
       "    <tr>\n",
       "      <th>16  </th>\n",
       "      <td> 35387</td>\n",
       "      <td> [vanilla ice cream, banana liqueur, bananas, p...</td>\n",
       "      <td> vanilla ice cream,banana liqueur,bananas,pinea...</td>\n",
       "    </tr>\n",
       "    <tr>\n",
       "      <th>17  </th>\n",
       "      <td> 33780</td>\n",
       "      <td> [molasses, hot sauce, baked beans, Grey Poupon...</td>\n",
       "      <td> molasses,hot sauce,baked beans,Grey Poupon Dij...</td>\n",
       "    </tr>\n",
       "    <tr>\n",
       "      <th>18  </th>\n",
       "      <td> 19001</td>\n",
       "      <td> [chopped green chilies, sour cream, cheddar ch...</td>\n",
       "      <td> chopped green chilies,sour cream,cheddar chees...</td>\n",
       "    </tr>\n",
       "    <tr>\n",
       "      <th>19  </th>\n",
       "      <td> 16526</td>\n",
       "      <td> [cold water, chicken drumsticks, chicken thigh...</td>\n",
       "      <td> cold water,chicken drumsticks,chicken thighs,c...</td>\n",
       "    </tr>\n",
       "    <tr>\n",
       "      <th>20  </th>\n",
       "      <td> 42455</td>\n",
       "      <td> [bean threads, suet, fresh shiitake mushrooms,...</td>\n",
       "      <td> bean threads,suet,fresh shiitake mushrooms,fir...</td>\n",
       "    </tr>\n",
       "    <tr>\n",
       "      <th>21  </th>\n",
       "      <td> 47453</td>\n",
       "      <td> [water, ground turmeric, salt, long-grain rice...</td>\n",
       "      <td> water,ground turmeric,salt,long-grain rice,butter</td>\n",
       "    </tr>\n",
       "    <tr>\n",
       "      <th>22  </th>\n",
       "      <td> 42478</td>\n",
       "      <td> [kosher salt, bay leaves, brown lentils, parsn...</td>\n",
       "      <td> kosher salt,bay leaves,brown lentils,parsnips,...</td>\n",
       "    </tr>\n",
       "    <tr>\n",
       "      <th>23  </th>\n",
       "      <td> 11885</td>\n",
       "      <td> [kosher salt, vegetable oil, shrimp, herbs, nu...</td>\n",
       "      <td> kosher salt,vegetable oil,shrimp,herbs,nuoc ch...</td>\n",
       "    </tr>\n",
       "    <tr>\n",
       "      <th>24  </th>\n",
       "      <td> 16585</td>\n",
       "      <td> [arborio rice, olive oil, dry white wine, salt...</td>\n",
       "      <td> arborio rice,olive oil,dry white wine,salt,bro...</td>\n",
       "    </tr>\n",
       "    <tr>\n",
       "      <th>25  </th>\n",
       "      <td> 29639</td>\n",
       "      <td> [granny smith apples, bay leaves, apple cider,...</td>\n",
       "      <td> granny smith apples,bay leaves,apple cider,oni...</td>\n",
       "    </tr>\n",
       "    <tr>\n",
       "      <th>26  </th>\n",
       "      <td> 26245</td>\n",
       "      <td> [fish sauce, jalapeno chilies, scallions, lemo...</td>\n",
       "      <td> fish sauce,jalapeno chilies,scallions,lemongra...</td>\n",
       "    </tr>\n",
       "    <tr>\n",
       "      <th>27  </th>\n",
       "      <td> 38516</td>\n",
       "      <td> [chicken wings, baking soda, rice vinegar, gar...</td>\n",
       "      <td> chicken wings,baking soda,rice vinegar,garlic ...</td>\n",
       "    </tr>\n",
       "    <tr>\n",
       "      <th>28  </th>\n",
       "      <td> 47520</td>\n",
       "      <td> [parmigiano reggiano cheese, figs, cracked bla...</td>\n",
       "      <td> parmigiano reggiano cheese,figs,cracked black ...</td>\n",
       "    </tr>\n",
       "    <tr>\n",
       "      <th>29  </th>\n",
       "      <td> 26212</td>\n",
       "      <td> [cheese sauce, macaroni and cheese dinner, shr...</td>\n",
       "      <td> cheese sauce,macaroni and cheese dinner,shredd...</td>\n",
       "    </tr>\n",
       "    <tr>\n",
       "      <th>...</th>\n",
       "      <td>...</td>\n",
       "      <td>...</td>\n",
       "      <td>...</td>\n",
       "    </tr>\n",
       "    <tr>\n",
       "      <th>9914</th>\n",
       "      <td> 49157</td>\n",
       "      <td> [fish sauce, lemongrass, ginger, garlic cloves...</td>\n",
       "      <td> fish sauce,lemongrass,ginger,garlic cloves,boi...</td>\n",
       "    </tr>\n",
       "    <tr>\n",
       "      <th>9915</th>\n",
       "      <td> 40847</td>\n",
       "      <td> [kosher salt, shallots, ground black pepper, f...</td>\n",
       "      <td> kosher salt,shallots,ground black pepper,fresh...</td>\n",
       "    </tr>\n",
       "    <tr>\n",
       "      <th>9916</th>\n",
       "      <td> 14084</td>\n",
       "      <td> [celery ribs, lemon slices, fresh parsley, lar...</td>\n",
       "      <td> celery ribs,lemon slices,fresh parsley,large e...</td>\n",
       "    </tr>\n",
       "    <tr>\n",
       "      <th>9917</th>\n",
       "      <td>  6802</td>\n",
       "      <td> [zucchini, ground beef, water, green pepper, p...</td>\n",
       "      <td> zucchini,ground beef,water,green pepper,prego ...</td>\n",
       "    </tr>\n",
       "    <tr>\n",
       "      <th>9918</th>\n",
       "      <td> 22381</td>\n",
       "      <td> [fine salt, canola oil, unsalted butter, bakin...</td>\n",
       "      <td> fine salt,canola oil,unsalted butter,baking po...</td>\n",
       "    </tr>\n",
       "    <tr>\n",
       "      <th>9919</th>\n",
       "      <td> 21016</td>\n",
       "      <td>        [sugar, ice, sugar cane, gingerroot, lime]</td>\n",
       "      <td>              sugar,ice,sugar cane,gingerroot,lime</td>\n",
       "    </tr>\n",
       "    <tr>\n",
       "      <th>9920</th>\n",
       "      <td> 29024</td>\n",
       "      <td> [manicotti shells, egg substitute, salt, itali...</td>\n",
       "      <td> manicotti shells,egg substitute,salt,italian s...</td>\n",
       "    </tr>\n",
       "    <tr>\n",
       "      <th>9921</th>\n",
       "      <td>  4478</td>\n",
       "      <td> [mushroom caps, dipping sauces, red bell peppe...</td>\n",
       "      <td> mushroom caps,dipping sauces,red bell pepper,b...</td>\n",
       "    </tr>\n",
       "    <tr>\n",
       "      <th>9922</th>\n",
       "      <td> 36711</td>\n",
       "      <td> [red lentils, crushed garlic, curry powder, cu...</td>\n",
       "      <td> red lentils,crushed garlic,curry powder,cumin ...</td>\n",
       "    </tr>\n",
       "    <tr>\n",
       "      <th>9923</th>\n",
       "      <td>  8300</td>\n",
       "      <td> [water, cooking spray, onions, dough, dried th...</td>\n",
       "      <td> water,cooking spray,onions,dough,dried thyme,p...</td>\n",
       "    </tr>\n",
       "    <tr>\n",
       "      <th>9924</th>\n",
       "      <td> 47035</td>\n",
       "      <td> [chicken broth, salt, diced celery, diced onio...</td>\n",
       "      <td> chicken broth,salt,diced celery,diced onions,l...</td>\n",
       "    </tr>\n",
       "    <tr>\n",
       "      <th>9925</th>\n",
       "      <td> 15596</td>\n",
       "      <td> [raspberry jam, unsalted butter, caster sugar,...</td>\n",
       "      <td> raspberry jam,unsalted butter,caster sugar,egg...</td>\n",
       "    </tr>\n",
       "    <tr>\n",
       "      <th>9926</th>\n",
       "      <td> 19902</td>\n",
       "      <td> [kosher salt, worcestershire sauce, slab bacon...</td>\n",
       "      <td> kosher salt,worcestershire sauce,slab bacon,gr...</td>\n",
       "    </tr>\n",
       "    <tr>\n",
       "      <th>9927</th>\n",
       "      <td> 31242</td>\n",
       "      <td> [evaporated milk, salt, white sugar, flaked co...</td>\n",
       "      <td> evaporated milk,salt,white sugar,flaked coconu...</td>\n",
       "    </tr>\n",
       "    <tr>\n",
       "      <th>9928</th>\n",
       "      <td> 21117</td>\n",
       "      <td> [curry powder, baby spinach, fenugreek seeds, ...</td>\n",
       "      <td> curry powder,baby spinach,fenugreek seeds,brot...</td>\n",
       "    </tr>\n",
       "    <tr>\n",
       "      <th>9929</th>\n",
       "      <td> 15234</td>\n",
       "      <td> [tomatoes, black pepper, ground nutmeg, heavy ...</td>\n",
       "      <td> tomatoes,black pepper,ground nutmeg,heavy crea...</td>\n",
       "    </tr>\n",
       "    <tr>\n",
       "      <th>9930</th>\n",
       "      <td> 24993</td>\n",
       "      <td> [minced chicken, olive oil, carrots, sweet chi...</td>\n",
       "      <td> minced chicken,olive oil,carrots,sweet chili s...</td>\n",
       "    </tr>\n",
       "    <tr>\n",
       "      <th>9931</th>\n",
       "      <td> 31007</td>\n",
       "      <td> [tomatoes, paprika, long-grain rice, chicken, ...</td>\n",
       "      <td> tomatoes,paprika,long-grain rice,chicken,olive...</td>\n",
       "    </tr>\n",
       "    <tr>\n",
       "      <th>9932</th>\n",
       "      <td> 31687</td>\n",
       "      <td> [canned black beans, corn kernels, low sodium ...</td>\n",
       "      <td> canned black beans,corn kernels,low sodium chi...</td>\n",
       "    </tr>\n",
       "    <tr>\n",
       "      <th>9933</th>\n",
       "      <td> 13657</td>\n",
       "      <td> [avocado, salsa, hot pepper sauce, garlic powd...</td>\n",
       "      <td> avocado,salsa,hot pepper sauce,garlic powder,salt</td>\n",
       "    </tr>\n",
       "    <tr>\n",
       "      <th>9934</th>\n",
       "      <td> 36612</td>\n",
       "      <td> [yellow squash, salt, mayonaise, butter, butte...</td>\n",
       "      <td> yellow squash,salt,mayonaise,butter,butter cra...</td>\n",
       "    </tr>\n",
       "    <tr>\n",
       "      <th>9935</th>\n",
       "      <td> 14008</td>\n",
       "      <td> [chicken wings, peeled fresh ginger, soy sauce...</td>\n",
       "      <td> chicken wings,peeled fresh ginger,soy sauce,su...</td>\n",
       "    </tr>\n",
       "    <tr>\n",
       "      <th>9936</th>\n",
       "      <td> 32124</td>\n",
       "      <td> [sugar, salt, large egg yolks, apricot preserv...</td>\n",
       "      <td> sugar,salt,large egg yolks,apricot preserves,w...</td>\n",
       "    </tr>\n",
       "    <tr>\n",
       "      <th>9937</th>\n",
       "      <td> 43570</td>\n",
       "      <td> [eggs, green onions, rice vinegar, shrimp smal...</td>\n",
       "      <td> eggs,green onions,rice vinegar,shrimp small un...</td>\n",
       "    </tr>\n",
       "    <tr>\n",
       "      <th>9938</th>\n",
       "      <td> 14059</td>\n",
       "      <td> [cauliflower, garlic paste, curry powder, gree...</td>\n",
       "      <td> cauliflower,garlic paste,curry powder,green ch...</td>\n",
       "    </tr>\n",
       "    <tr>\n",
       "      <th>9939</th>\n",
       "      <td> 30246</td>\n",
       "      <td> [large egg yolks, fresh lemon juice, sugar, bo...</td>\n",
       "      <td> large egg yolks,fresh lemon juice,sugar,bourbo...</td>\n",
       "    </tr>\n",
       "    <tr>\n",
       "      <th>9940</th>\n",
       "      <td> 36028</td>\n",
       "      <td> [hot sauce, butter, sweet potatoes, adobo sauc...</td>\n",
       "      <td>  hot sauce,butter,sweet potatoes,adobo sauce,salt</td>\n",
       "    </tr>\n",
       "    <tr>\n",
       "      <th>9941</th>\n",
       "      <td> 22339</td>\n",
       "      <td> [black pepper, salt, parmigiano reggiano chees...</td>\n",
       "      <td> black pepper,salt,parmigiano reggiano cheese,r...</td>\n",
       "    </tr>\n",
       "    <tr>\n",
       "      <th>9942</th>\n",
       "      <td> 42525</td>\n",
       "      <td> [cheddar cheese, cayenne, paprika, plum tomato...</td>\n",
       "      <td> cheddar cheese,cayenne,paprika,plum tomatoes,g...</td>\n",
       "    </tr>\n",
       "    <tr>\n",
       "      <th>9943</th>\n",
       "      <td>  1443</td>\n",
       "      <td> [cold water, olive oil, lime wedges, garlic cl...</td>\n",
       "      <td> cold water,olive oil,lime wedges,garlic cloves...</td>\n",
       "    </tr>\n",
       "  </tbody>\n",
       "</table>\n",
       "<p>9944 rows × 3 columns</p>\n",
       "</div>"
      ],
      "text/plain": [
       "         id                                        ingredients  \\\n",
       "0     18009  [baking powder, eggs, all-purpose flour, raisi...   \n",
       "1     28583  [sugar, egg yolks, corn starch, cream of tarta...   \n",
       "2     41580  [sausage links, fennel bulb, fronds, olive oil...   \n",
       "3     29752  [meat cuts, file powder, smoked sausage, okra,...   \n",
       "4     35687  [ground black pepper, salt, sausage casings, l...   \n",
       "5     38527  [baking powder, all-purpose flour, peach slice...   \n",
       "6     19666             [grape juice, orange, white zinfandel]   \n",
       "7     41217  [ground ginger, white pepper, green onions, or...   \n",
       "8     28753  [diced onions, taco seasoning mix, all-purpose...   \n",
       "9     22659  [eggs, cherries, dates, dark muscovado sugar, ...   \n",
       "10    21749  [pasta, olive oil, crushed red pepper, cherry ...   \n",
       "11    44967  [water, butter, ground sumac, ground lamb, gro...   \n",
       "12    42969  [curry powder, ground cumin, chicken wings, ch...   \n",
       "13    44883  [pasta, marinara sauce, dried basil, chicken f...   \n",
       "14    20827  [salt, custard powder, white sugar, eggs, marg...   \n",
       "15    23196  [vegetable oil cooking spray, egg whites, apri...   \n",
       "16    35387  [vanilla ice cream, banana liqueur, bananas, p...   \n",
       "17    33780  [molasses, hot sauce, baked beans, Grey Poupon...   \n",
       "18    19001  [chopped green chilies, sour cream, cheddar ch...   \n",
       "19    16526  [cold water, chicken drumsticks, chicken thigh...   \n",
       "20    42455  [bean threads, suet, fresh shiitake mushrooms,...   \n",
       "21    47453  [water, ground turmeric, salt, long-grain rice...   \n",
       "22    42478  [kosher salt, bay leaves, brown lentils, parsn...   \n",
       "23    11885  [kosher salt, vegetable oil, shrimp, herbs, nu...   \n",
       "24    16585  [arborio rice, olive oil, dry white wine, salt...   \n",
       "25    29639  [granny smith apples, bay leaves, apple cider,...   \n",
       "26    26245  [fish sauce, jalapeno chilies, scallions, lemo...   \n",
       "27    38516  [chicken wings, baking soda, rice vinegar, gar...   \n",
       "28    47520  [parmigiano reggiano cheese, figs, cracked bla...   \n",
       "29    26212  [cheese sauce, macaroni and cheese dinner, shr...   \n",
       "...     ...                                                ...   \n",
       "9914  49157  [fish sauce, lemongrass, ginger, garlic cloves...   \n",
       "9915  40847  [kosher salt, shallots, ground black pepper, f...   \n",
       "9916  14084  [celery ribs, lemon slices, fresh parsley, lar...   \n",
       "9917   6802  [zucchini, ground beef, water, green pepper, p...   \n",
       "9918  22381  [fine salt, canola oil, unsalted butter, bakin...   \n",
       "9919  21016         [sugar, ice, sugar cane, gingerroot, lime]   \n",
       "9920  29024  [manicotti shells, egg substitute, salt, itali...   \n",
       "9921   4478  [mushroom caps, dipping sauces, red bell peppe...   \n",
       "9922  36711  [red lentils, crushed garlic, curry powder, cu...   \n",
       "9923   8300  [water, cooking spray, onions, dough, dried th...   \n",
       "9924  47035  [chicken broth, salt, diced celery, diced onio...   \n",
       "9925  15596  [raspberry jam, unsalted butter, caster sugar,...   \n",
       "9926  19902  [kosher salt, worcestershire sauce, slab bacon...   \n",
       "9927  31242  [evaporated milk, salt, white sugar, flaked co...   \n",
       "9928  21117  [curry powder, baby spinach, fenugreek seeds, ...   \n",
       "9929  15234  [tomatoes, black pepper, ground nutmeg, heavy ...   \n",
       "9930  24993  [minced chicken, olive oil, carrots, sweet chi...   \n",
       "9931  31007  [tomatoes, paprika, long-grain rice, chicken, ...   \n",
       "9932  31687  [canned black beans, corn kernels, low sodium ...   \n",
       "9933  13657  [avocado, salsa, hot pepper sauce, garlic powd...   \n",
       "9934  36612  [yellow squash, salt, mayonaise, butter, butte...   \n",
       "9935  14008  [chicken wings, peeled fresh ginger, soy sauce...   \n",
       "9936  32124  [sugar, salt, large egg yolks, apricot preserv...   \n",
       "9937  43570  [eggs, green onions, rice vinegar, shrimp smal...   \n",
       "9938  14059  [cauliflower, garlic paste, curry powder, gree...   \n",
       "9939  30246  [large egg yolks, fresh lemon juice, sugar, bo...   \n",
       "9940  36028  [hot sauce, butter, sweet potatoes, adobo sauc...   \n",
       "9941  22339  [black pepper, salt, parmigiano reggiano chees...   \n",
       "9942  42525  [cheddar cheese, cayenne, paprika, plum tomato...   \n",
       "9943   1443  [cold water, olive oil, lime wedges, garlic cl...   \n",
       "\n",
       "                                        str_ingredients  \n",
       "0     baking powder,eggs,all-purpose flour,raisins,m...  \n",
       "1     sugar,egg yolks,corn starch,cream of tartar,ba...  \n",
       "2     sausage links,fennel bulb,fronds,olive oil,cub...  \n",
       "3     meat cuts,file powder,smoked sausage,okra,shri...  \n",
       "4     ground black pepper,salt,sausage casings,leeks...  \n",
       "5     baking powder,all-purpose flour,peach slices,c...  \n",
       "6                    grape juice,orange,white zinfandel  \n",
       "7     ground ginger,white pepper,green onions,orange...  \n",
       "8     diced onions,taco seasoning mix,all-purpose fl...  \n",
       "9     eggs,cherries,dates,dark muscovado sugar,groun...  \n",
       "10    pasta,olive oil,crushed red pepper,cherry toma...  \n",
       "11    water,butter,ground sumac,ground lamb,ground c...  \n",
       "12    curry powder,ground cumin,chicken wings,choppe...  \n",
       "13    pasta,marinara sauce,dried basil,chicken finge...  \n",
       "14    salt,custard powder,white sugar,eggs,margarine...  \n",
       "15    vegetable oil cooking spray,egg whites,apricot...  \n",
       "16    vanilla ice cream,banana liqueur,bananas,pinea...  \n",
       "17    molasses,hot sauce,baked beans,Grey Poupon Dij...  \n",
       "18    chopped green chilies,sour cream,cheddar chees...  \n",
       "19    cold water,chicken drumsticks,chicken thighs,c...  \n",
       "20    bean threads,suet,fresh shiitake mushrooms,fir...  \n",
       "21    water,ground turmeric,salt,long-grain rice,butter  \n",
       "22    kosher salt,bay leaves,brown lentils,parsnips,...  \n",
       "23    kosher salt,vegetable oil,shrimp,herbs,nuoc ch...  \n",
       "24    arborio rice,olive oil,dry white wine,salt,bro...  \n",
       "25    granny smith apples,bay leaves,apple cider,oni...  \n",
       "26    fish sauce,jalapeno chilies,scallions,lemongra...  \n",
       "27    chicken wings,baking soda,rice vinegar,garlic ...  \n",
       "28    parmigiano reggiano cheese,figs,cracked black ...  \n",
       "29    cheese sauce,macaroni and cheese dinner,shredd...  \n",
       "...                                                 ...  \n",
       "9914  fish sauce,lemongrass,ginger,garlic cloves,boi...  \n",
       "9915  kosher salt,shallots,ground black pepper,fresh...  \n",
       "9916  celery ribs,lemon slices,fresh parsley,large e...  \n",
       "9917  zucchini,ground beef,water,green pepper,prego ...  \n",
       "9918  fine salt,canola oil,unsalted butter,baking po...  \n",
       "9919               sugar,ice,sugar cane,gingerroot,lime  \n",
       "9920  manicotti shells,egg substitute,salt,italian s...  \n",
       "9921  mushroom caps,dipping sauces,red bell pepper,b...  \n",
       "9922  red lentils,crushed garlic,curry powder,cumin ...  \n",
       "9923  water,cooking spray,onions,dough,dried thyme,p...  \n",
       "9924  chicken broth,salt,diced celery,diced onions,l...  \n",
       "9925  raspberry jam,unsalted butter,caster sugar,egg...  \n",
       "9926  kosher salt,worcestershire sauce,slab bacon,gr...  \n",
       "9927  evaporated milk,salt,white sugar,flaked coconu...  \n",
       "9928  curry powder,baby spinach,fenugreek seeds,brot...  \n",
       "9929  tomatoes,black pepper,ground nutmeg,heavy crea...  \n",
       "9930  minced chicken,olive oil,carrots,sweet chili s...  \n",
       "9931  tomatoes,paprika,long-grain rice,chicken,olive...  \n",
       "9932  canned black beans,corn kernels,low sodium chi...  \n",
       "9933  avocado,salsa,hot pepper sauce,garlic powder,salt  \n",
       "9934  yellow squash,salt,mayonaise,butter,butter cra...  \n",
       "9935  chicken wings,peeled fresh ginger,soy sauce,su...  \n",
       "9936  sugar,salt,large egg yolks,apricot preserves,w...  \n",
       "9937  eggs,green onions,rice vinegar,shrimp small un...  \n",
       "9938  cauliflower,garlic paste,curry powder,green ch...  \n",
       "9939  large egg yolks,fresh lemon juice,sugar,bourbo...  \n",
       "9940   hot sauce,butter,sweet potatoes,adobo sauce,salt  \n",
       "9941  black pepper,salt,parmigiano reggiano cheese,r...  \n",
       "9942  cheddar cheese,cayenne,paprika,plum tomatoes,g...  \n",
       "9943  cold water,olive oil,lime wedges,garlic cloves...  \n",
       "\n",
       "[9944 rows x 3 columns]"
      ]
     },
     "execution_count": 81,
     "metadata": {},
     "output_type": "execute_result"
    }
   ],
   "source": [
    "Predicted_data = Testing_data.copy()\n",
    "print type(Predicted_data)\n",
    "Predicted_data"
   ]
  },
  {
   "cell_type": "code",
   "execution_count": 82,
   "metadata": {
    "collapsed": false
   },
   "outputs": [],
   "source": [
    "Predicted_data['cuisine'] = Predictions"
   ]
  },
  {
   "cell_type": "code",
   "execution_count": 83,
   "metadata": {
    "collapsed": false
   },
   "outputs": [
    {
     "data": {
      "text/html": [
       "<div style=\"max-height:1000px;max-width:1500px;overflow:auto;\">\n",
       "<table border=\"1\" class=\"dataframe\">\n",
       "  <thead>\n",
       "    <tr style=\"text-align: right;\">\n",
       "      <th></th>\n",
       "      <th>id</th>\n",
       "      <th>cuisine</th>\n",
       "    </tr>\n",
       "  </thead>\n",
       "  <tbody>\n",
       "    <tr>\n",
       "      <th>0   </th>\n",
       "      <td> 18009</td>\n",
       "      <td>        irish</td>\n",
       "    </tr>\n",
       "    <tr>\n",
       "      <th>1   </th>\n",
       "      <td> 28583</td>\n",
       "      <td>  southern_us</td>\n",
       "    </tr>\n",
       "    <tr>\n",
       "      <th>2   </th>\n",
       "      <td> 41580</td>\n",
       "      <td>      italian</td>\n",
       "    </tr>\n",
       "    <tr>\n",
       "      <th>3   </th>\n",
       "      <td> 29752</td>\n",
       "      <td> cajun_creole</td>\n",
       "    </tr>\n",
       "    <tr>\n",
       "      <th>4   </th>\n",
       "      <td> 35687</td>\n",
       "      <td>      italian</td>\n",
       "    </tr>\n",
       "    <tr>\n",
       "      <th>5   </th>\n",
       "      <td> 38527</td>\n",
       "      <td>  southern_us</td>\n",
       "    </tr>\n",
       "    <tr>\n",
       "      <th>6   </th>\n",
       "      <td> 19666</td>\n",
       "      <td>      italian</td>\n",
       "    </tr>\n",
       "    <tr>\n",
       "      <th>7   </th>\n",
       "      <td> 41217</td>\n",
       "      <td>      chinese</td>\n",
       "    </tr>\n",
       "    <tr>\n",
       "      <th>8   </th>\n",
       "      <td> 28753</td>\n",
       "      <td>      mexican</td>\n",
       "    </tr>\n",
       "    <tr>\n",
       "      <th>9   </th>\n",
       "      <td> 22659</td>\n",
       "      <td>       french</td>\n",
       "    </tr>\n",
       "    <tr>\n",
       "      <th>10  </th>\n",
       "      <td> 21749</td>\n",
       "      <td>      italian</td>\n",
       "    </tr>\n",
       "    <tr>\n",
       "      <th>11  </th>\n",
       "      <td> 44967</td>\n",
       "      <td>        greek</td>\n",
       "    </tr>\n",
       "    <tr>\n",
       "      <th>12  </th>\n",
       "      <td> 42969</td>\n",
       "      <td>       indian</td>\n",
       "    </tr>\n",
       "    <tr>\n",
       "      <th>13  </th>\n",
       "      <td> 44883</td>\n",
       "      <td>      italian</td>\n",
       "    </tr>\n",
       "    <tr>\n",
       "      <th>14  </th>\n",
       "      <td> 20827</td>\n",
       "      <td>      italian</td>\n",
       "    </tr>\n",
       "    <tr>\n",
       "      <th>15  </th>\n",
       "      <td> 23196</td>\n",
       "      <td>      italian</td>\n",
       "    </tr>\n",
       "    <tr>\n",
       "      <th>16  </th>\n",
       "      <td> 35387</td>\n",
       "      <td>       french</td>\n",
       "    </tr>\n",
       "    <tr>\n",
       "      <th>17  </th>\n",
       "      <td> 33780</td>\n",
       "      <td>  southern_us</td>\n",
       "    </tr>\n",
       "    <tr>\n",
       "      <th>18  </th>\n",
       "      <td> 19001</td>\n",
       "      <td>      mexican</td>\n",
       "    </tr>\n",
       "    <tr>\n",
       "      <th>19  </th>\n",
       "      <td> 16526</td>\n",
       "      <td>  southern_us</td>\n",
       "    </tr>\n",
       "    <tr>\n",
       "      <th>20  </th>\n",
       "      <td> 42455</td>\n",
       "      <td>     japanese</td>\n",
       "    </tr>\n",
       "    <tr>\n",
       "      <th>21  </th>\n",
       "      <td> 47453</td>\n",
       "      <td>  southern_us</td>\n",
       "    </tr>\n",
       "    <tr>\n",
       "      <th>22  </th>\n",
       "      <td> 42478</td>\n",
       "      <td>       french</td>\n",
       "    </tr>\n",
       "    <tr>\n",
       "      <th>23  </th>\n",
       "      <td> 11885</td>\n",
       "      <td> cajun_creole</td>\n",
       "    </tr>\n",
       "    <tr>\n",
       "      <th>24  </th>\n",
       "      <td> 16585</td>\n",
       "      <td>      italian</td>\n",
       "    </tr>\n",
       "    <tr>\n",
       "      <th>25  </th>\n",
       "      <td> 29639</td>\n",
       "      <td>       indian</td>\n",
       "    </tr>\n",
       "    <tr>\n",
       "      <th>26  </th>\n",
       "      <td> 26245</td>\n",
       "      <td>         thai</td>\n",
       "    </tr>\n",
       "    <tr>\n",
       "      <th>27  </th>\n",
       "      <td> 38516</td>\n",
       "      <td>       korean</td>\n",
       "    </tr>\n",
       "    <tr>\n",
       "      <th>28  </th>\n",
       "      <td> 47520</td>\n",
       "      <td>      italian</td>\n",
       "    </tr>\n",
       "    <tr>\n",
       "      <th>29  </th>\n",
       "      <td> 26212</td>\n",
       "      <td>      italian</td>\n",
       "    </tr>\n",
       "    <tr>\n",
       "      <th>...</th>\n",
       "      <td>...</td>\n",
       "      <td>...</td>\n",
       "    </tr>\n",
       "    <tr>\n",
       "      <th>9914</th>\n",
       "      <td> 49157</td>\n",
       "      <td>         thai</td>\n",
       "    </tr>\n",
       "    <tr>\n",
       "      <th>9915</th>\n",
       "      <td> 40847</td>\n",
       "      <td>      italian</td>\n",
       "    </tr>\n",
       "    <tr>\n",
       "      <th>9916</th>\n",
       "      <td> 14084</td>\n",
       "      <td>        greek</td>\n",
       "    </tr>\n",
       "    <tr>\n",
       "      <th>9917</th>\n",
       "      <td>  6802</td>\n",
       "      <td>      italian</td>\n",
       "    </tr>\n",
       "    <tr>\n",
       "      <th>9918</th>\n",
       "      <td> 22381</td>\n",
       "      <td> cajun_creole</td>\n",
       "    </tr>\n",
       "    <tr>\n",
       "      <th>9919</th>\n",
       "      <td> 21016</td>\n",
       "      <td>    brazilian</td>\n",
       "    </tr>\n",
       "    <tr>\n",
       "      <th>9920</th>\n",
       "      <td> 29024</td>\n",
       "      <td>      italian</td>\n",
       "    </tr>\n",
       "    <tr>\n",
       "      <th>9921</th>\n",
       "      <td>  4478</td>\n",
       "      <td>      mexican</td>\n",
       "    </tr>\n",
       "    <tr>\n",
       "      <th>9922</th>\n",
       "      <td> 36711</td>\n",
       "      <td>       indian</td>\n",
       "    </tr>\n",
       "    <tr>\n",
       "      <th>9923</th>\n",
       "      <td>  8300</td>\n",
       "      <td>      italian</td>\n",
       "    </tr>\n",
       "    <tr>\n",
       "      <th>9924</th>\n",
       "      <td> 47035</td>\n",
       "      <td>  southern_us</td>\n",
       "    </tr>\n",
       "    <tr>\n",
       "      <th>9925</th>\n",
       "      <td> 15596</td>\n",
       "      <td>      british</td>\n",
       "    </tr>\n",
       "    <tr>\n",
       "      <th>9926</th>\n",
       "      <td> 19902</td>\n",
       "      <td>  southern_us</td>\n",
       "    </tr>\n",
       "    <tr>\n",
       "      <th>9927</th>\n",
       "      <td> 31242</td>\n",
       "      <td>  southern_us</td>\n",
       "    </tr>\n",
       "    <tr>\n",
       "      <th>9928</th>\n",
       "      <td> 21117</td>\n",
       "      <td>       indian</td>\n",
       "    </tr>\n",
       "    <tr>\n",
       "      <th>9929</th>\n",
       "      <td> 15234</td>\n",
       "      <td> cajun_creole</td>\n",
       "    </tr>\n",
       "    <tr>\n",
       "      <th>9930</th>\n",
       "      <td> 24993</td>\n",
       "      <td>      chinese</td>\n",
       "    </tr>\n",
       "    <tr>\n",
       "      <th>9931</th>\n",
       "      <td> 31007</td>\n",
       "      <td> cajun_creole</td>\n",
       "    </tr>\n",
       "    <tr>\n",
       "      <th>9932</th>\n",
       "      <td> 31687</td>\n",
       "      <td>      mexican</td>\n",
       "    </tr>\n",
       "    <tr>\n",
       "      <th>9933</th>\n",
       "      <td> 13657</td>\n",
       "      <td>      mexican</td>\n",
       "    </tr>\n",
       "    <tr>\n",
       "      <th>9934</th>\n",
       "      <td> 36612</td>\n",
       "      <td>  southern_us</td>\n",
       "    </tr>\n",
       "    <tr>\n",
       "      <th>9935</th>\n",
       "      <td> 14008</td>\n",
       "      <td>      chinese</td>\n",
       "    </tr>\n",
       "    <tr>\n",
       "      <th>9936</th>\n",
       "      <td> 32124</td>\n",
       "      <td>       french</td>\n",
       "    </tr>\n",
       "    <tr>\n",
       "      <th>9937</th>\n",
       "      <td> 43570</td>\n",
       "      <td>         thai</td>\n",
       "    </tr>\n",
       "    <tr>\n",
       "      <th>9938</th>\n",
       "      <td> 14059</td>\n",
       "      <td>       indian</td>\n",
       "    </tr>\n",
       "    <tr>\n",
       "      <th>9939</th>\n",
       "      <td> 30246</td>\n",
       "      <td>       french</td>\n",
       "    </tr>\n",
       "    <tr>\n",
       "      <th>9940</th>\n",
       "      <td> 36028</td>\n",
       "      <td>      mexican</td>\n",
       "    </tr>\n",
       "    <tr>\n",
       "      <th>9941</th>\n",
       "      <td> 22339</td>\n",
       "      <td>      italian</td>\n",
       "    </tr>\n",
       "    <tr>\n",
       "      <th>9942</th>\n",
       "      <td> 42525</td>\n",
       "      <td>  southern_us</td>\n",
       "    </tr>\n",
       "    <tr>\n",
       "      <th>9943</th>\n",
       "      <td>  1443</td>\n",
       "      <td>      mexican</td>\n",
       "    </tr>\n",
       "  </tbody>\n",
       "</table>\n",
       "<p>9944 rows × 2 columns</p>\n",
       "</div>"
      ],
      "text/plain": [
       "         id       cuisine\n",
       "0     18009         irish\n",
       "1     28583   southern_us\n",
       "2     41580       italian\n",
       "3     29752  cajun_creole\n",
       "4     35687       italian\n",
       "5     38527   southern_us\n",
       "6     19666       italian\n",
       "7     41217       chinese\n",
       "8     28753       mexican\n",
       "9     22659        french\n",
       "10    21749       italian\n",
       "11    44967         greek\n",
       "12    42969        indian\n",
       "13    44883       italian\n",
       "14    20827       italian\n",
       "15    23196       italian\n",
       "16    35387        french\n",
       "17    33780   southern_us\n",
       "18    19001       mexican\n",
       "19    16526   southern_us\n",
       "20    42455      japanese\n",
       "21    47453   southern_us\n",
       "22    42478        french\n",
       "23    11885  cajun_creole\n",
       "24    16585       italian\n",
       "25    29639        indian\n",
       "26    26245          thai\n",
       "27    38516        korean\n",
       "28    47520       italian\n",
       "29    26212       italian\n",
       "...     ...           ...\n",
       "9914  49157          thai\n",
       "9915  40847       italian\n",
       "9916  14084         greek\n",
       "9917   6802       italian\n",
       "9918  22381  cajun_creole\n",
       "9919  21016     brazilian\n",
       "9920  29024       italian\n",
       "9921   4478       mexican\n",
       "9922  36711        indian\n",
       "9923   8300       italian\n",
       "9924  47035   southern_us\n",
       "9925  15596       british\n",
       "9926  19902   southern_us\n",
       "9927  31242   southern_us\n",
       "9928  21117        indian\n",
       "9929  15234  cajun_creole\n",
       "9930  24993       chinese\n",
       "9931  31007  cajun_creole\n",
       "9932  31687       mexican\n",
       "9933  13657       mexican\n",
       "9934  36612   southern_us\n",
       "9935  14008       chinese\n",
       "9936  32124        french\n",
       "9937  43570          thai\n",
       "9938  14059        indian\n",
       "9939  30246        french\n",
       "9940  36028       mexican\n",
       "9941  22339       italian\n",
       "9942  42525   southern_us\n",
       "9943   1443       mexican\n",
       "\n",
       "[9944 rows x 2 columns]"
      ]
     },
     "execution_count": 83,
     "metadata": {},
     "output_type": "execute_result"
    }
   ],
   "source": [
    "submission = Predicted_data[['id', 'cuisine']]\n",
    "submission"
   ]
  },
  {
   "cell_type": "code",
   "execution_count": 87,
   "metadata": {
    "collapsed": false
   },
   "outputs": [],
   "source": [
    "submission.to_csv('../output/whatscooking/first_submission.csv', index=False)"
   ]
  }
 ],
 "metadata": {
  "kernelspec": {
   "display_name": "Python 2",
   "language": "python",
   "name": "python2"
  },
  "language_info": {
   "codemirror_mode": {
    "name": "ipython",
    "version": 2
   },
   "file_extension": ".py",
   "mimetype": "text/x-python",
   "name": "python",
   "nbconvert_exporter": "python",
   "pygments_lexer": "ipython2",
   "version": "2.7.10"
  }
 },
 "nbformat": 4,
 "nbformat_minor": 0
}
