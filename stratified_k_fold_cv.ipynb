{
 "cells": [
  {
   "cell_type": "markdown",
   "metadata": {},
   "source": [
    "<h3>Objective</h3>\n",
    "As discussed last time, my objective here is to do the following three things:\n",
    "<ol>\n",
    "<li>Look at doing k-fold cross validation\n",
    "<li>Look at doing grid search to find better parameters\n",
    "<li>Look at misclassified points to see patters for where the model is going wrong\n",
    "</ol>"
   ]
  },
  {
   "cell_type": "code",
   "execution_count": 1,
   "metadata": {
    "collapsed": false
   },
   "outputs": [],
   "source": [
    "import pandas as pd\n",
    "import numpy as np\n",
    "import matplotlib.pyplot as plt\n",
    "%matplotlib inline\n",
    "from IPython.display import display"
   ]
  },
  {
   "cell_type": "code",
   "execution_count": 2,
   "metadata": {
    "collapsed": true
   },
   "outputs": [],
   "source": [
    "def describe_dataset(dataset, dataset_name=\"given\"):\n",
    "    display(dataset.describe())\n",
    "    cuisines = dataset.groupby(\"cuisine\").count().sort(\"id\", ascending=False)\n",
    "    display(cuisines.head())\n",
    "    i = range(cuisines.count().ingredients)\n",
    "    plt.bar(i, cuisines.ingredients, label='Number of recipes in {} dataset'.format(dataset_name))\n",
    "    plt.ylabel('total number of recipes')\n",
    "    plt.title('Number of recipes by type of cuisine')\n",
    "    plt.xticks(i, cuisines.index.values, rotation='vertical')\n",
    "    plt.legend(loc='upper right')\n",
    "    plt.show()"
   ]
  },
  {
   "cell_type": "code",
   "execution_count": 133,
   "metadata": {
    "collapsed": false
   },
   "outputs": [],
   "source": [
    "Training_data = pd.read_json(\"../input/whatscooking/train.json\")\n",
    "Training_data['str_ingredients'] = Training_data.ingredients.apply(lambda x: ','.join(y for y in x))\n",
    "#describe_dataset(Training_data, \"Training\");\n",
    "Testing_data = pd.read_json(\"../input/whatscooking/test.json\")\n",
    "Testing_data['str_ingredients'] = Testing_data.ingredients.apply(lambda x: ','.join(y for y in x))"
   ]
  },
  {
   "cell_type": "code",
   "execution_count": 4,
   "metadata": {
    "collapsed": false
   },
   "outputs": [
    {
     "data": {
      "text/plain": [
       "num_recipes    6714\n",
       "dtype: int64"
      ]
     },
     "metadata": {},
     "output_type": "display_data"
    },
    {
     "data": {
      "text/html": [
       "<div style=\"max-height:1000px;max-width:1500px;overflow:auto;\">\n",
       "<table border=\"1\" class=\"dataframe\">\n",
       "  <thead>\n",
       "    <tr style=\"text-align: right;\">\n",
       "      <th></th>\n",
       "      <th>num_recipes</th>\n",
       "    </tr>\n",
       "  </thead>\n",
       "  <tbody>\n",
       "    <tr>\n",
       "      <th>low-sodium fat-free chicken broth</th>\n",
       "      <td> 22</td>\n",
       "    </tr>\n",
       "    <tr>\n",
       "      <th>sweetened coconut</th>\n",
       "      <td>  3</td>\n",
       "    </tr>\n",
       "    <tr>\n",
       "      <th>baking chocolate</th>\n",
       "      <td>  3</td>\n",
       "    </tr>\n",
       "    <tr>\n",
       "      <th>egg roll wrappers</th>\n",
       "      <td> 57</td>\n",
       "    </tr>\n",
       "    <tr>\n",
       "      <th>bottled low sodium salsa</th>\n",
       "      <td>  1</td>\n",
       "    </tr>\n",
       "  </tbody>\n",
       "</table>\n",
       "</div>"
      ],
      "text/plain": [
       "                                   num_recipes\n",
       "low-sodium fat-free chicken broth           22\n",
       "sweetened coconut                            3\n",
       "baking chocolate                             3\n",
       "egg roll wrappers                           57\n",
       "bottled low sodium salsa                     1"
      ]
     },
     "execution_count": 4,
     "metadata": {},
     "output_type": "execute_result"
    }
   ],
   "source": [
    "import itertools\n",
    "grouped_ingredients = itertools.groupby(sorted(list(itertools.chain.from_iterable(Training_data.ingredients))))\n",
    "ingredient_counts = {key:len(list(group)) for key, group in grouped_ingredients}\n",
    "global_pantry = pd.DataFrame.from_dict(ingredient_counts, orient='index')\n",
    "global_pantry.columns = ['num_recipes']\n",
    "display(global_pantry.count())\n",
    "global_pantry.head()"
   ]
  },
  {
   "cell_type": "code",
   "execution_count": 27,
   "metadata": {
    "collapsed": false
   },
   "outputs": [
    {
     "data": {
      "text/plain": [
       "10"
      ]
     },
     "execution_count": 27,
     "metadata": {},
     "output_type": "execute_result"
    }
   ],
   "source": [
    "Y_Train = Training_data.cuisine\n",
    "from sklearn.cross_validation import StratifiedKFold\n",
    "stratifiedKFolds = StratifiedKFold(Y_Train, n_folds=10)\n",
    "len(stratifiedKFolds)"
   ]
  },
  {
   "cell_type": "code",
   "execution_count": 69,
   "metadata": {
    "collapsed": false
   },
   "outputs": [
    {
     "data": {
      "text/plain": [
       "10"
      ]
     },
     "execution_count": 69,
     "metadata": {},
     "output_type": "execute_result"
    }
   ],
   "source": [
    "from sklearn.feature_extraction.text import TfidfVectorizer\n",
    "\n",
    "folds = []\n",
    "for train, test in stratifiedKFolds:\n",
    "    train = Training_data.iloc[train]\n",
    "    test = Training_data.iloc[test]\n",
    "    vectorizer = TfidfVectorizer(sublinear_tf=True, vocabulary=global_pantry.index.values)\n",
    "    X_train = vectorizer.fit_transform(train.str_ingredients)\n",
    "    feature_names = vectorizer.get_feature_names()\n",
    "    feature_names = np.asarray(feature_names);\n",
    "    X_test = vectorizer.transform(test.str_ingredients)\n",
    "    y_train = train.cuisine\n",
    "    y_test = test.cuisine\n",
    "    X_Test = vectorizer.transform(Testing_data.str_ingredients)\n",
    "    folds.append((X_train, y_train, X_test, y_test, feature_names, X_Test))\n",
    "len(folds)"
   ]
  },
  {
   "cell_type": "code",
   "execution_count": 52,
   "metadata": {
    "collapsed": false
   },
   "outputs": [],
   "source": [
    "from sklearn.utils.extmath import density\n",
    "from sklearn import metrics\n",
    "from time import time\n",
    "\n",
    "def benchmark(name, classifier_generator, verbose=False):\n",
    "    fold_classifiers = []\n",
    "    scores = []\n",
    "    train_times = []\n",
    "    test_times = []\n",
    "    \n",
    "    for fold in folds:\n",
    "        classifier = classifier_generator()\n",
    "        X_train = fold[0]\n",
    "        y_train = fold[1]\n",
    "        X_test = fold[2]\n",
    "        y_test = fold[3]\n",
    "        feature_names = fold[4]\n",
    "        \n",
    "        t0 = time()\n",
    "        classifier.fit(X_train, y_train)\n",
    "        train_time = time() - t0\n",
    "\n",
    "        t0 = time()\n",
    "        predictions = classifier.predict(X_test)\n",
    "        test_time = time() - t0\n",
    "\n",
    "        score = metrics.accuracy_score(y_test, predictions)\n",
    "        \n",
    "        fold_classifiers.append(classifier)\n",
    "        scores.append(score)\n",
    "        train_times.append(train_time)\n",
    "        test_times.append(test_time)\n",
    "        \n",
    "        if verbose and hasattr(classifier, 'coef_'):\n",
    "            print \"Dimensionality: {}\".format(classifier.coef_.shape[1])\n",
    "            print \"Density: {}\".format(density(classifier.coef_))\n",
    "\n",
    "            print \"top10 features for each category:\"\n",
    "            for i, category in enumerate(classifier.classes_):\n",
    "                top10 = np.argsort(classifier.coef_[i])[-10:]\n",
    "                print(\"%s: %s\" % (category, \" \".join(feature_names[top10])))\n",
    "\n",
    "            print \"classification report:\"\n",
    "            print metrics.classification_report(y_test, predictions)\n",
    "\n",
    "            print \"confusion matrix:\"\n",
    "            print metrics.confusion_matrix(y_test, predictions)\n",
    "    \n",
    "    mean_score = np.mean(scores)\n",
    "    mean_train_time = np.mean(train_times)\n",
    "    mean_test_time = np.mean(test_time)\n",
    "    print \"Number of classifiers: {}, Accuracy: {}, Train time: {}, Test time: {}\".format(\n",
    "        len(fold_classifiers), mean_score, mean_train_time, mean_test_time)\n",
    "    return name, fold_classifiers, mean_score, mean_train_time, mean_test_time"
   ]
  },
  {
   "cell_type": "code",
   "execution_count": 53,
   "metadata": {
    "collapsed": false
   },
   "outputs": [
    {
     "name": "stdout",
     "output_type": "stream",
     "text": [
      "Training: LinearSVC_L2\n",
      "Number of classifiers: 10, Accuracy: 0.739227061136, Train time: 4.57656610012, Test time: 0.00167298316956\n",
      "Training: RandomForestClassifier_200\n",
      "Number of classifiers: 10, Accuracy: 0.740780957398, Train time: 178.465523958, Test time: 2.74601888657\n",
      "Training: SVC_linear\n",
      "Number of classifiers: 10, Accuracy: 0.74375461674, Train time: 80.345841217, Test time: 10.7507610321\n",
      "Training: SVC_rbf\n",
      "Number of classifiers: 10, Accuracy: 0.197063754711, Train time: 283.329858208, Test time: 21.7943429947\n",
      "Training: Pipeline_LinearSVC_L2_Linear\n",
      "Number of classifiers: 10, Accuracy: 0.73915184223, Train time: 7.0807015419, Test time: 0.0138640403748\n"
     ]
    }
   ],
   "source": [
    "from sklearn.linear_model import RidgeClassifier\n",
    "from sklearn.pipeline import Pipeline\n",
    "from sklearn.svm import LinearSVC, SVC\n",
    "from sklearn.linear_model import SGDClassifier\n",
    "from sklearn.linear_model import Perceptron\n",
    "from sklearn.linear_model import PassiveAggressiveClassifier\n",
    "from sklearn.naive_bayes import BernoulliNB, MultinomialNB\n",
    "from sklearn.neighbors import KNeighborsClassifier\n",
    "from sklearn.neighbors import NearestCentroid\n",
    "from sklearn.ensemble import RandomForestClassifier\n",
    "classifiers = [\n",
    "    (\"LinearSVC_L2\", lambda : LinearSVC(loss='squared_hinge', penalty='l2', dual=False, tol=1e-3)),\n",
    "    (\"RandomForestClassifier_200\", lambda : RandomForestClassifier(n_estimators=200)),\n",
    "    (\"SVC_linear\", lambda : SVC(kernel='linear')),\n",
    "    (\"SVC_rbf\", lambda : SVC(kernel='rbf')),\n",
    "    (\"Pipeline_LinearSVC_L2_Linear\", lambda : Pipeline([\n",
    "        ('feature_selection', LinearSVC(penalty=\"l2\", dual=False, tol=1e-3)),\n",
    "        ('classification', LinearSVC())\n",
    "    ])),\n",
    "]\n",
    "\n",
    "results = []\n",
    "for name, classifier_generator in classifiers:\n",
    "    print \"Training: {}\".format(name)\n",
    "    results.append(benchmark(name, classifier_generator))"
   ]
  },
  {
   "cell_type": "code",
   "execution_count": 55,
   "metadata": {
    "collapsed": false
   },
   "outputs": [],
   "source": [
    "results;"
   ]
  },
  {
   "cell_type": "code",
   "execution_count": 57,
   "metadata": {
    "collapsed": false
   },
   "outputs": [],
   "source": [
    "sorted_results = sorted(results, key=lambda x: x[2])\n",
    "sorted_results;"
   ]
  },
  {
   "cell_type": "code",
   "execution_count": 59,
   "metadata": {
    "collapsed": false
   },
   "outputs": [],
   "source": [
    "rearranged_results = [[x[i] for x in sorted_results] for i in range(5)]\n",
    "rearranged_results;"
   ]
  },
  {
   "cell_type": "code",
   "execution_count": 60,
   "metadata": {
    "collapsed": false
   },
   "outputs": [],
   "source": [
    "indices = np.arange(len(results))\n",
    "clf_names, classifiers, scores, train_times, test_times = rearranged_results"
   ]
  },
  {
   "cell_type": "code",
   "execution_count": 62,
   "metadata": {
    "collapsed": false
   },
   "outputs": [
    {
     "data": {
      "image/png": "[encoded data removed]",
      "text/plain": [
       "<matplotlib.figure.Figure at 0x10b48aa10>"
      ]
     },
     "metadata": {},
     "output_type": "display_data"
    }
   ],
   "source": [
    "plt.title(\"Accuracy scores and running times\")\n",
    "width = 0.2\n",
    "plt.bar(indices, scores, width, label=\"score\", color='g')\n",
    "plt.legend(loc='center')\n",
    "plt.xticks(indices, clf_names, rotation='vertical')\n",
    "plt.twinx()\n",
    "plt.bar(indices+width, train_times, width, label=\"train_time\", color='y')\n",
    "plt.bar(indices+(2*width), test_times, width, label=\"test_time\", color='r')\n",
    "plt.show()"
   ]
  },
  {
   "cell_type": "code",
   "execution_count": 116,
   "metadata": {
    "collapsed": false
   },
   "outputs": [
    {
     "data": {
      "text/plain": [
       "[LinearSVC(C=1.0, class_weight=None, dual=False, fit_intercept=True,\n",
       "      intercept_scaling=1, loss='squared_hinge', max_iter=1000,\n",
       "      multi_class='ovr', penalty='l2', random_state=None, tol=0.001,\n",
       "      verbose=0),\n",
       " LinearSVC(C=1.0, class_weight=None, dual=False, fit_intercept=True,\n",
       "      intercept_scaling=1, loss='squared_hinge', max_iter=1000,\n",
       "      multi_class='ovr', penalty='l2', random_state=None, tol=0.001,\n",
       "      verbose=0),\n",
       " LinearSVC(C=1.0, class_weight=None, dual=False, fit_intercept=True,\n",
       "      intercept_scaling=1, loss='squared_hinge', max_iter=1000,\n",
       "      multi_class='ovr', penalty='l2', random_state=None, tol=0.001,\n",
       "      verbose=0),\n",
       " LinearSVC(C=1.0, class_weight=None, dual=False, fit_intercept=True,\n",
       "      intercept_scaling=1, loss='squared_hinge', max_iter=1000,\n",
       "      multi_class='ovr', penalty='l2', random_state=None, tol=0.001,\n",
       "      verbose=0),\n",
       " LinearSVC(C=1.0, class_weight=None, dual=False, fit_intercept=True,\n",
       "      intercept_scaling=1, loss='squared_hinge', max_iter=1000,\n",
       "      multi_class='ovr', penalty='l2', random_state=None, tol=0.001,\n",
       "      verbose=0),\n",
       " LinearSVC(C=1.0, class_weight=None, dual=False, fit_intercept=True,\n",
       "      intercept_scaling=1, loss='squared_hinge', max_iter=1000,\n",
       "      multi_class='ovr', penalty='l2', random_state=None, tol=0.001,\n",
       "      verbose=0),\n",
       " LinearSVC(C=1.0, class_weight=None, dual=False, fit_intercept=True,\n",
       "      intercept_scaling=1, loss='squared_hinge', max_iter=1000,\n",
       "      multi_class='ovr', penalty='l2', random_state=None, tol=0.001,\n",
       "      verbose=0),\n",
       " LinearSVC(C=1.0, class_weight=None, dual=False, fit_intercept=True,\n",
       "      intercept_scaling=1, loss='squared_hinge', max_iter=1000,\n",
       "      multi_class='ovr', penalty='l2', random_state=None, tol=0.001,\n",
       "      verbose=0),\n",
       " LinearSVC(C=1.0, class_weight=None, dual=False, fit_intercept=True,\n",
       "      intercept_scaling=1, loss='squared_hinge', max_iter=1000,\n",
       "      multi_class='ovr', penalty='l2', random_state=None, tol=0.001,\n",
       "      verbose=0),\n",
       " LinearSVC(C=1.0, class_weight=None, dual=False, fit_intercept=True,\n",
       "      intercept_scaling=1, loss='squared_hinge', max_iter=1000,\n",
       "      multi_class='ovr', penalty='l2', random_state=None, tol=0.001,\n",
       "      verbose=0)]"
      ]
     },
     "execution_count": 116,
     "metadata": {},
     "output_type": "execute_result"
    }
   ],
   "source": [
    "chosen_classifier_set = classifiers[-3]\n",
    "chosen_classifier_set"
   ]
  },
  {
   "cell_type": "code",
   "execution_count": 117,
   "metadata": {
    "collapsed": false
   },
   "outputs": [
    {
     "data": {
      "text/html": [
       "<div style=\"max-height:1000px;max-width:1500px;overflow:auto;\">\n",
       "<table border=\"1\" class=\"dataframe\">\n",
       "  <thead>\n",
       "    <tr style=\"text-align: right;\">\n",
       "      <th></th>\n",
       "      <th>id</th>\n",
       "      <th>ingredients</th>\n",
       "      <th>str_ingredients</th>\n",
       "      <th>fold0_pred</th>\n",
       "      <th>fold1_pred</th>\n",
       "      <th>fold2_pred</th>\n",
       "      <th>fold3_pred</th>\n",
       "      <th>fold4_pred</th>\n",
       "      <th>fold5_pred</th>\n",
       "      <th>fold6_pred</th>\n",
       "      <th>fold7_pred</th>\n",
       "      <th>fold8_pred</th>\n",
       "      <th>fold9_pred</th>\n",
       "    </tr>\n",
       "  </thead>\n",
       "  <tbody>\n",
       "    <tr>\n",
       "      <th>0</th>\n",
       "      <td> 18009</td>\n",
       "      <td> [baking powder, eggs, all-purpose flour, raisi...</td>\n",
       "      <td> baking powder,eggs,all-purpose flour,raisins,m...</td>\n",
       "      <td>        irish</td>\n",
       "      <td>      british</td>\n",
       "      <td>      british</td>\n",
       "      <td>      british</td>\n",
       "      <td>      british</td>\n",
       "      <td>      british</td>\n",
       "      <td>        irish</td>\n",
       "      <td>      british</td>\n",
       "      <td>      british</td>\n",
       "      <td>      british</td>\n",
       "    </tr>\n",
       "    <tr>\n",
       "      <th>1</th>\n",
       "      <td> 28583</td>\n",
       "      <td> [sugar, egg yolks, corn starch, cream of tarta...</td>\n",
       "      <td> sugar,egg yolks,corn starch,cream of tartar,ba...</td>\n",
       "      <td>  southern_us</td>\n",
       "      <td>  southern_us</td>\n",
       "      <td>  southern_us</td>\n",
       "      <td>  southern_us</td>\n",
       "      <td>  southern_us</td>\n",
       "      <td>  southern_us</td>\n",
       "      <td>  southern_us</td>\n",
       "      <td>  southern_us</td>\n",
       "      <td>  southern_us</td>\n",
       "      <td>  southern_us</td>\n",
       "    </tr>\n",
       "    <tr>\n",
       "      <th>2</th>\n",
       "      <td> 41580</td>\n",
       "      <td> [sausage links, fennel bulb, fronds, olive oil...</td>\n",
       "      <td> sausage links,fennel bulb,fronds,olive oil,cub...</td>\n",
       "      <td>      italian</td>\n",
       "      <td>      italian</td>\n",
       "      <td>      italian</td>\n",
       "      <td>      italian</td>\n",
       "      <td>      italian</td>\n",
       "      <td>      italian</td>\n",
       "      <td>      italian</td>\n",
       "      <td>      italian</td>\n",
       "      <td>      italian</td>\n",
       "      <td>      italian</td>\n",
       "    </tr>\n",
       "    <tr>\n",
       "      <th>3</th>\n",
       "      <td> 29752</td>\n",
       "      <td> [meat cuts, file powder, smoked sausage, okra,...</td>\n",
       "      <td> meat cuts,file powder,smoked sausage,okra,shri...</td>\n",
       "      <td> cajun_creole</td>\n",
       "      <td> cajun_creole</td>\n",
       "      <td> cajun_creole</td>\n",
       "      <td> cajun_creole</td>\n",
       "      <td> cajun_creole</td>\n",
       "      <td> cajun_creole</td>\n",
       "      <td> cajun_creole</td>\n",
       "      <td> cajun_creole</td>\n",
       "      <td> cajun_creole</td>\n",
       "      <td> cajun_creole</td>\n",
       "    </tr>\n",
       "    <tr>\n",
       "      <th>4</th>\n",
       "      <td> 35687</td>\n",
       "      <td> [ground black pepper, salt, sausage casings, l...</td>\n",
       "      <td> ground black pepper,salt,sausage casings,leeks...</td>\n",
       "      <td>      italian</td>\n",
       "      <td>      italian</td>\n",
       "      <td>      italian</td>\n",
       "      <td>      italian</td>\n",
       "      <td>      italian</td>\n",
       "      <td>      italian</td>\n",
       "      <td>      italian</td>\n",
       "      <td>      italian</td>\n",
       "      <td>      italian</td>\n",
       "      <td>      italian</td>\n",
       "    </tr>\n",
       "  </tbody>\n",
       "</table>\n",
       "</div>"
      ],
      "text/plain": [
       "      id                                        ingredients  \\\n",
       "0  18009  [baking powder, eggs, all-purpose flour, raisi...   \n",
       "1  28583  [sugar, egg yolks, corn starch, cream of tarta...   \n",
       "2  41580  [sausage links, fennel bulb, fronds, olive oil...   \n",
       "3  29752  [meat cuts, file powder, smoked sausage, okra,...   \n",
       "4  35687  [ground black pepper, salt, sausage casings, l...   \n",
       "\n",
       "                                     str_ingredients    fold0_pred  \\\n",
       "0  baking powder,eggs,all-purpose flour,raisins,m...         irish   \n",
       "1  sugar,egg yolks,corn starch,cream of tartar,ba...   southern_us   \n",
       "2  sausage links,fennel bulb,fronds,olive oil,cub...       italian   \n",
       "3  meat cuts,file powder,smoked sausage,okra,shri...  cajun_creole   \n",
       "4  ground black pepper,salt,sausage casings,leeks...       italian   \n",
       "\n",
       "     fold1_pred    fold2_pred    fold3_pred    fold4_pred    fold5_pred  \\\n",
       "0       british       british       british       british       british   \n",
       "1   southern_us   southern_us   southern_us   southern_us   southern_us   \n",
       "2       italian       italian       italian       italian       italian   \n",
       "3  cajun_creole  cajun_creole  cajun_creole  cajun_creole  cajun_creole   \n",
       "4       italian       italian       italian       italian       italian   \n",
       "\n",
       "     fold6_pred    fold7_pred    fold8_pred    fold9_pred  \n",
       "0         irish       british       british       british  \n",
       "1   southern_us   southern_us   southern_us   southern_us  \n",
       "2       italian       italian       italian       italian  \n",
       "3  cajun_creole  cajun_creole  cajun_creole  cajun_creole  \n",
       "4       italian       italian       italian       italian  "
      ]
     },
     "execution_count": 117,
     "metadata": {},
     "output_type": "execute_result"
    }
   ],
   "source": [
    "Predicted_data = Testing_data.copy()\n",
    "for iter, classifier in enumerate(chosen_classifier_set):\n",
    "    X_Test = folds[iter][-1]\n",
    "    predictions = classifier.predict(X_Test)\n",
    "    Predicted_data['fold{}_pred'.format(iter)] = predictions\n",
    "Predicted_data.head()"
   ]
  },
  {
   "cell_type": "code",
   "execution_count": 134,
   "metadata": {
    "collapsed": false
   },
   "outputs": [
    {
     "data": {
      "text/html": [
       "<div style=\"max-height:1000px;max-width:1500px;overflow:auto;\">\n",
       "<table border=\"1\" class=\"dataframe\">\n",
       "  <thead>\n",
       "    <tr style=\"text-align: right;\">\n",
       "      <th></th>\n",
       "      <th>cuisine</th>\n",
       "      <th>cuisine_2</th>\n",
       "      <th>cuisine_3</th>\n",
       "    </tr>\n",
       "  </thead>\n",
       "  <tbody>\n",
       "    <tr>\n",
       "      <th>count</th>\n",
       "      <td>    9944</td>\n",
       "      <td>      66</td>\n",
       "      <td>     1</td>\n",
       "    </tr>\n",
       "    <tr>\n",
       "      <th>unique</th>\n",
       "      <td>      20</td>\n",
       "      <td>      14</td>\n",
       "      <td>     1</td>\n",
       "    </tr>\n",
       "    <tr>\n",
       "      <th>top</th>\n",
       "      <td> italian</td>\n",
       "      <td> italian</td>\n",
       "      <td> irish</td>\n",
       "    </tr>\n",
       "    <tr>\n",
       "      <th>freq</th>\n",
       "      <td>    2148</td>\n",
       "      <td>      16</td>\n",
       "      <td>     1</td>\n",
       "    </tr>\n",
       "  </tbody>\n",
       "</table>\n",
       "</div>"
      ],
      "text/plain": [
       "        cuisine cuisine_2 cuisine_3\n",
       "count      9944        66         1\n",
       "unique       20        14         1\n",
       "top     italian   italian     irish\n",
       "freq       2148        16         1"
      ]
     },
     "metadata": {},
     "output_type": "display_data"
    },
    {
     "name": "stdout",
     "output_type": "stream",
     "text": [
      "(9944, 3)\n"
     ]
    }
   ],
   "source": [
    "# cuisine = Predicted_data['fold0_pred', 'fold1_pred'].mode(axis=1, numeric_only=False)\n",
    "# cuisine\n",
    "majority_vote = Predicted_data[['fold0_pred', \n",
    "                'fold1_pred', \n",
    "                'fold2_pred', \n",
    "                'fold3_pred', \n",
    "                'fold4_pred', \n",
    "                'fold5_pred', \n",
    "                'fold6_pred', \n",
    "                'fold7_pred', \n",
    "                'fold8_pred', \n",
    "                'fold9_pred']].mode(axis=1, numeric_only=False)\n",
    "column_names = ['cuisine']\n",
    "for i in range(2, majority_vote.shape[1]+1):\n",
    "    column_names.append('cuisine_{}'.format(i))\n",
    "majority_vote.columns = column_names\n",
    "display(majority_vote.describe())\n",
    "print majority_vote.shape\n",
    "#display(majority_vote.head())\n",
    "#display(majority_vote[majority_vote.cuisine_2.notnull()].head())\n",
    "#display(majority_vote[majority_vote.cuisine.notnull()].head())"
   ]
  },
  {
   "cell_type": "code",
   "execution_count": 131,
   "metadata": {
    "collapsed": false
   },
   "outputs": [
    {
     "data": {
      "text/html": [
       "<div style=\"max-height:1000px;max-width:1500px;overflow:auto;\">\n",
       "<table border=\"1\" class=\"dataframe\">\n",
       "  <thead>\n",
       "    <tr style=\"text-align: right;\">\n",
       "      <th></th>\n",
       "      <th>id</th>\n",
       "      <th>cuisine</th>\n",
       "    </tr>\n",
       "  </thead>\n",
       "  <tbody>\n",
       "    <tr>\n",
       "      <th>0</th>\n",
       "      <td> 18009</td>\n",
       "      <td>      british</td>\n",
       "    </tr>\n",
       "    <tr>\n",
       "      <th>1</th>\n",
       "      <td> 28583</td>\n",
       "      <td>  southern_us</td>\n",
       "    </tr>\n",
       "    <tr>\n",
       "      <th>2</th>\n",
       "      <td> 41580</td>\n",
       "      <td>      italian</td>\n",
       "    </tr>\n",
       "    <tr>\n",
       "      <th>3</th>\n",
       "      <td> 29752</td>\n",
       "      <td> cajun_creole</td>\n",
       "    </tr>\n",
       "    <tr>\n",
       "      <th>4</th>\n",
       "      <td> 35687</td>\n",
       "      <td>      italian</td>\n",
       "    </tr>\n",
       "  </tbody>\n",
       "</table>\n",
       "</div>"
      ],
      "text/plain": [
       "      id       cuisine\n",
       "0  18009       british\n",
       "1  28583   southern_us\n",
       "2  41580       italian\n",
       "3  29752  cajun_creole\n",
       "4  35687       italian"
      ]
     },
     "execution_count": 131,
     "metadata": {},
     "output_type": "execute_result"
    }
   ],
   "source": [
    "merged_data = pd.concat([Predicted_data, majority_vote], axis=1)\n",
    "merged_data[['id', 'cuisine']].head()"
   ]
  },
  {
   "cell_type": "code",
   "execution_count": 132,
   "metadata": {
    "collapsed": true
   },
   "outputs": [],
   "source": [
    "submission = merged_data[['id', 'cuisine']]\n",
    "import time\n",
    "submission.to_csv('../output/whatscooking/whatscooking-{}.csv'.format(time.strftime(\"%Y%m%d--%H%M%S\")), index=False)"
   ]
  }
 ],
 "metadata": {
  "kernelspec": {
   "display_name": "Python 2",
   "language": "python",
   "name": "python2"
  },
  "language_info": {
   "codemirror_mode": {
    "name": "ipython",
    "version": 2
   },
   "file_extension": ".py",
   "mimetype": "text/x-python",
   "name": "python",
   "nbconvert_exporter": "python",
   "pygments_lexer": "ipython2",
   "version": "2.7.10"
  }
 },
 "nbformat": 4,
 "nbformat_minor": 0
}
